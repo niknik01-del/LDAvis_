{
  "nbformat": 4,
  "nbformat_minor": 0,
  "metadata": {
    "colab": {
      "provenance": [],
      "include_colab_link": true
    },
    "kernelspec": {
      "name": "python3",
      "display_name": "Python 3"
    },
    "language_info": {
      "name": "python"
    },
    "widgets": {
      "application/vnd.jupyter.widget-state+json": {
        "9580a65a46b14a3b8bd130f2d79be456": {
          "model_module": "@jupyter-widgets/controls",
          "model_name": "HBoxModel",
          "model_module_version": "1.5.0",
          "state": {
            "_dom_classes": [],
            "_model_module": "@jupyter-widgets/controls",
            "_model_module_version": "1.5.0",
            "_model_name": "HBoxModel",
            "_view_count": null,
            "_view_module": "@jupyter-widgets/controls",
            "_view_module_version": "1.5.0",
            "_view_name": "HBoxView",
            "box_style": "",
            "children": [
              "IPY_MODEL_d5ea94e2332c4d85bd913a6da885b93a",
              "IPY_MODEL_65ca35f0c0ca4e6baf94b02f691e8df6",
              "IPY_MODEL_545ad766443249638de72fb5f968483f"
            ],
            "layout": "IPY_MODEL_0a7622f06ab34419bd51fa2cf383a537"
          }
        },
        "d5ea94e2332c4d85bd913a6da885b93a": {
          "model_module": "@jupyter-widgets/controls",
          "model_name": "HTMLModel",
          "model_module_version": "1.5.0",
          "state": {
            "_dom_classes": [],
            "_model_module": "@jupyter-widgets/controls",
            "_model_module_version": "1.5.0",
            "_model_name": "HTMLModel",
            "_view_count": null,
            "_view_module": "@jupyter-widgets/controls",
            "_view_module_version": "1.5.0",
            "_view_name": "HTMLView",
            "description": "",
            "description_tooltip": null,
            "layout": "IPY_MODEL_e576dbff0e3141a090ad2a23dedf54ed",
            "placeholder": "​",
            "style": "IPY_MODEL_d151e75a3218448fa4ad2cc53eb68a30",
            "value": "Pandas Apply: 100%"
          }
        },
        "65ca35f0c0ca4e6baf94b02f691e8df6": {
          "model_module": "@jupyter-widgets/controls",
          "model_name": "FloatProgressModel",
          "model_module_version": "1.5.0",
          "state": {
            "_dom_classes": [],
            "_model_module": "@jupyter-widgets/controls",
            "_model_module_version": "1.5.0",
            "_model_name": "FloatProgressModel",
            "_view_count": null,
            "_view_module": "@jupyter-widgets/controls",
            "_view_module_version": "1.5.0",
            "_view_name": "ProgressView",
            "bar_style": "success",
            "description": "",
            "description_tooltip": null,
            "layout": "IPY_MODEL_661e7ef4aba84068ac23fbdec835bb24",
            "max": 2081,
            "min": 0,
            "orientation": "horizontal",
            "style": "IPY_MODEL_add37356bda94538946e3dbdfb448b0e",
            "value": 2081
          }
        },
        "545ad766443249638de72fb5f968483f": {
          "model_module": "@jupyter-widgets/controls",
          "model_name": "HTMLModel",
          "model_module_version": "1.5.0",
          "state": {
            "_dom_classes": [],
            "_model_module": "@jupyter-widgets/controls",
            "_model_module_version": "1.5.0",
            "_model_name": "HTMLModel",
            "_view_count": null,
            "_view_module": "@jupyter-widgets/controls",
            "_view_module_version": "1.5.0",
            "_view_name": "HTMLView",
            "description": "",
            "description_tooltip": null,
            "layout": "IPY_MODEL_8c73110c6f2647eda5176d8dd3bc0d79",
            "placeholder": "​",
            "style": "IPY_MODEL_ed91bbb3491e474ba56420e596d68df0",
            "value": " 2081/2081 [00:00&lt;00:00, 38449.00it/s]"
          }
        },
        "0a7622f06ab34419bd51fa2cf383a537": {
          "model_module": "@jupyter-widgets/base",
          "model_name": "LayoutModel",
          "model_module_version": "1.2.0",
          "state": {
            "_model_module": "@jupyter-widgets/base",
            "_model_module_version": "1.2.0",
            "_model_name": "LayoutModel",
            "_view_count": null,
            "_view_module": "@jupyter-widgets/base",
            "_view_module_version": "1.2.0",
            "_view_name": "LayoutView",
            "align_content": null,
            "align_items": null,
            "align_self": null,
            "border": null,
            "bottom": null,
            "display": null,
            "flex": null,
            "flex_flow": null,
            "grid_area": null,
            "grid_auto_columns": null,
            "grid_auto_flow": null,
            "grid_auto_rows": null,
            "grid_column": null,
            "grid_gap": null,
            "grid_row": null,
            "grid_template_areas": null,
            "grid_template_columns": null,
            "grid_template_rows": null,
            "height": null,
            "justify_content": null,
            "justify_items": null,
            "left": null,
            "margin": null,
            "max_height": null,
            "max_width": null,
            "min_height": null,
            "min_width": null,
            "object_fit": null,
            "object_position": null,
            "order": null,
            "overflow": null,
            "overflow_x": null,
            "overflow_y": null,
            "padding": null,
            "right": null,
            "top": null,
            "visibility": null,
            "width": null
          }
        },
        "e576dbff0e3141a090ad2a23dedf54ed": {
          "model_module": "@jupyter-widgets/base",
          "model_name": "LayoutModel",
          "model_module_version": "1.2.0",
          "state": {
            "_model_module": "@jupyter-widgets/base",
            "_model_module_version": "1.2.0",
            "_model_name": "LayoutModel",
            "_view_count": null,
            "_view_module": "@jupyter-widgets/base",
            "_view_module_version": "1.2.0",
            "_view_name": "LayoutView",
            "align_content": null,
            "align_items": null,
            "align_self": null,
            "border": null,
            "bottom": null,
            "display": null,
            "flex": null,
            "flex_flow": null,
            "grid_area": null,
            "grid_auto_columns": null,
            "grid_auto_flow": null,
            "grid_auto_rows": null,
            "grid_column": null,
            "grid_gap": null,
            "grid_row": null,
            "grid_template_areas": null,
            "grid_template_columns": null,
            "grid_template_rows": null,
            "height": null,
            "justify_content": null,
            "justify_items": null,
            "left": null,
            "margin": null,
            "max_height": null,
            "max_width": null,
            "min_height": null,
            "min_width": null,
            "object_fit": null,
            "object_position": null,
            "order": null,
            "overflow": null,
            "overflow_x": null,
            "overflow_y": null,
            "padding": null,
            "right": null,
            "top": null,
            "visibility": null,
            "width": null
          }
        },
        "d151e75a3218448fa4ad2cc53eb68a30": {
          "model_module": "@jupyter-widgets/controls",
          "model_name": "DescriptionStyleModel",
          "model_module_version": "1.5.0",
          "state": {
            "_model_module": "@jupyter-widgets/controls",
            "_model_module_version": "1.5.0",
            "_model_name": "DescriptionStyleModel",
            "_view_count": null,
            "_view_module": "@jupyter-widgets/base",
            "_view_module_version": "1.2.0",
            "_view_name": "StyleView",
            "description_width": ""
          }
        },
        "661e7ef4aba84068ac23fbdec835bb24": {
          "model_module": "@jupyter-widgets/base",
          "model_name": "LayoutModel",
          "model_module_version": "1.2.0",
          "state": {
            "_model_module": "@jupyter-widgets/base",
            "_model_module_version": "1.2.0",
            "_model_name": "LayoutModel",
            "_view_count": null,
            "_view_module": "@jupyter-widgets/base",
            "_view_module_version": "1.2.0",
            "_view_name": "LayoutView",
            "align_content": null,
            "align_items": null,
            "align_self": null,
            "border": null,
            "bottom": null,
            "display": null,
            "flex": null,
            "flex_flow": null,
            "grid_area": null,
            "grid_auto_columns": null,
            "grid_auto_flow": null,
            "grid_auto_rows": null,
            "grid_column": null,
            "grid_gap": null,
            "grid_row": null,
            "grid_template_areas": null,
            "grid_template_columns": null,
            "grid_template_rows": null,
            "height": null,
            "justify_content": null,
            "justify_items": null,
            "left": null,
            "margin": null,
            "max_height": null,
            "max_width": null,
            "min_height": null,
            "min_width": null,
            "object_fit": null,
            "object_position": null,
            "order": null,
            "overflow": null,
            "overflow_x": null,
            "overflow_y": null,
            "padding": null,
            "right": null,
            "top": null,
            "visibility": null,
            "width": null
          }
        },
        "add37356bda94538946e3dbdfb448b0e": {
          "model_module": "@jupyter-widgets/controls",
          "model_name": "ProgressStyleModel",
          "model_module_version": "1.5.0",
          "state": {
            "_model_module": "@jupyter-widgets/controls",
            "_model_module_version": "1.5.0",
            "_model_name": "ProgressStyleModel",
            "_view_count": null,
            "_view_module": "@jupyter-widgets/base",
            "_view_module_version": "1.2.0",
            "_view_name": "StyleView",
            "bar_color": null,
            "description_width": ""
          }
        },
        "8c73110c6f2647eda5176d8dd3bc0d79": {
          "model_module": "@jupyter-widgets/base",
          "model_name": "LayoutModel",
          "model_module_version": "1.2.0",
          "state": {
            "_model_module": "@jupyter-widgets/base",
            "_model_module_version": "1.2.0",
            "_model_name": "LayoutModel",
            "_view_count": null,
            "_view_module": "@jupyter-widgets/base",
            "_view_module_version": "1.2.0",
            "_view_name": "LayoutView",
            "align_content": null,
            "align_items": null,
            "align_self": null,
            "border": null,
            "bottom": null,
            "display": null,
            "flex": null,
            "flex_flow": null,
            "grid_area": null,
            "grid_auto_columns": null,
            "grid_auto_flow": null,
            "grid_auto_rows": null,
            "grid_column": null,
            "grid_gap": null,
            "grid_row": null,
            "grid_template_areas": null,
            "grid_template_columns": null,
            "grid_template_rows": null,
            "height": null,
            "justify_content": null,
            "justify_items": null,
            "left": null,
            "margin": null,
            "max_height": null,
            "max_width": null,
            "min_height": null,
            "min_width": null,
            "object_fit": null,
            "object_position": null,
            "order": null,
            "overflow": null,
            "overflow_x": null,
            "overflow_y": null,
            "padding": null,
            "right": null,
            "top": null,
            "visibility": null,
            "width": null
          }
        },
        "ed91bbb3491e474ba56420e596d68df0": {
          "model_module": "@jupyter-widgets/controls",
          "model_name": "DescriptionStyleModel",
          "model_module_version": "1.5.0",
          "state": {
            "_model_module": "@jupyter-widgets/controls",
            "_model_module_version": "1.5.0",
            "_model_name": "DescriptionStyleModel",
            "_view_count": null,
            "_view_module": "@jupyter-widgets/base",
            "_view_module_version": "1.2.0",
            "_view_name": "StyleView",
            "description_width": ""
          }
        }
      }
    }
  },
  "cells": [
    {
      "cell_type": "markdown",
      "metadata": {
        "id": "view-in-github",
        "colab_type": "text"
      },
      "source": [
        "<a href=\"https://colab.research.google.com/github/niknik01-del/LDAvis_/blob/main/latihan_LDA_in_colab.ipynb\" target=\"_parent\"><img src=\"https://colab.research.google.com/assets/colab-badge.svg\" alt=\"Open In Colab\"/></a>"
      ]
    },
    {
      "cell_type": "markdown",
      "source": [
        "# Preparing Data"
      ],
      "metadata": {
        "id": "w87sQ_bfFu3S"
      }
    },
    {
      "source": [
        "from google.colab import drive\n",
        "drive.mount('/content/drive')"
      ],
      "cell_type": "code",
      "metadata": {
        "colab": {
          "base_uri": "https://localhost:8080/"
        },
        "id": "elsWL0NFJp9C",
        "outputId": "f35c788d-5d45-4130-db63-81f8b75059f7"
      },
      "execution_count": 1,
      "outputs": [
        {
          "output_type": "stream",
          "name": "stdout",
          "text": [
            "Mounted at /content/drive\n"
          ]
        }
      ]
    },
    {
      "cell_type": "markdown",
      "metadata": {
        "id": "Us-FVDTlMj1d"
      },
      "source": [
        "# LDA Bahasa Indonesia"
      ]
    },
    {
      "cell_type": "markdown",
      "source": [],
      "metadata": {
        "id": "eEC-dC-qFs0B"
      }
    },
    {
      "cell_type": "code",
      "metadata": {
        "id": "Jb09FJAq58To",
        "colab": {
          "base_uri": "https://localhost:8080/"
        },
        "outputId": "e4c141ff-df8e-4f76-d42b-33d364fb5afc"
      },
      "source": [
        "pip install --upgrade gensim"
      ],
      "execution_count": 2,
      "outputs": [
        {
          "output_type": "stream",
          "name": "stdout",
          "text": [
            "Requirement already satisfied: gensim in /usr/local/lib/python3.10/dist-packages (4.3.3)\n",
            "Requirement already satisfied: numpy<2.0,>=1.18.5 in /usr/local/lib/python3.10/dist-packages (from gensim) (1.26.4)\n",
            "Requirement already satisfied: scipy<1.14.0,>=1.7.0 in /usr/local/lib/python3.10/dist-packages (from gensim) (1.13.1)\n",
            "Requirement already satisfied: smart-open>=1.8.1 in /usr/local/lib/python3.10/dist-packages (from gensim) (7.0.5)\n",
            "Requirement already satisfied: wrapt in /usr/local/lib/python3.10/dist-packages (from smart-open>=1.8.1->gensim) (1.17.0)\n"
          ]
        }
      ]
    },
    {
      "cell_type": "markdown",
      "metadata": {
        "id": "VrlwHBpPslgu"
      },
      "source": [
        "Instalasi beberapa library yang diperlukan, untuk NLTK dan GENSIM sudah include di Colab"
      ]
    },
    {
      "cell_type": "code",
      "metadata": {
        "id": "Npfo7KZAsKKT",
        "colab": {
          "base_uri": "https://localhost:8080/"
        },
        "outputId": "99c88766-632f-4e0f-eacd-dae89790771e"
      },
      "source": [
        "pip install pyldavis==3.2.1"
      ],
      "execution_count": 3,
      "outputs": [
        {
          "output_type": "stream",
          "name": "stdout",
          "text": [
            "Collecting pyldavis==3.2.1\n",
            "  Downloading pyLDAvis-3.2.1.tar.gz (1.7 MB)\n",
            "\u001b[?25l     \u001b[90m━━━━━━━━━━━━━━━━━━━━━━━━━━━━━━━━━━━━━━━━\u001b[0m \u001b[32m0.0/1.7 MB\u001b[0m \u001b[31m?\u001b[0m eta \u001b[36m-:--:--\u001b[0m\r\u001b[2K     \u001b[91m━━━━\u001b[0m\u001b[91m╸\u001b[0m\u001b[90m━━━━━━━━━━━━━━━━━━━━━━━━━━━━━━━━━━━\u001b[0m \u001b[32m0.2/1.7 MB\u001b[0m \u001b[31m6.1 MB/s\u001b[0m eta \u001b[36m0:00:01\u001b[0m\r\u001b[2K     \u001b[91m━━━━━━━━━━━━━━━━━━━━━━━━━━━━\u001b[0m\u001b[91m╸\u001b[0m\u001b[90m━━━━━━━━━━━\u001b[0m \u001b[32m1.2/1.7 MB\u001b[0m \u001b[31m17.2 MB/s\u001b[0m eta \u001b[36m0:00:01\u001b[0m\r\u001b[2K     \u001b[91m━━━━━━━━━━━━━━━━━━━━━━━━━━━━━━━━━━━━━━━\u001b[0m\u001b[91m╸\u001b[0m \u001b[32m1.6/1.7 MB\u001b[0m \u001b[31m18.7 MB/s\u001b[0m eta \u001b[36m0:00:01\u001b[0m\r\u001b[2K     \u001b[90m━━━━━━━━━━━━━━━━━━━━━━━━━━━━━━━━━━━━━━━━\u001b[0m \u001b[32m1.7/1.7 MB\u001b[0m \u001b[31m13.2 MB/s\u001b[0m eta \u001b[36m0:00:00\u001b[0m\n",
            "\u001b[?25h  Preparing metadata (setup.py) ... \u001b[?25l\u001b[?25hdone\n",
            "Requirement already satisfied: wheel>=0.23.0 in /usr/local/lib/python3.10/dist-packages (from pyldavis==3.2.1) (0.45.1)\n",
            "Requirement already satisfied: numpy>=1.9.2 in /usr/local/lib/python3.10/dist-packages (from pyldavis==3.2.1) (1.26.4)\n",
            "Requirement already satisfied: scipy>=0.18.0 in /usr/local/lib/python3.10/dist-packages (from pyldavis==3.2.1) (1.13.1)\n",
            "Requirement already satisfied: joblib>=0.8.4 in /usr/local/lib/python3.10/dist-packages (from pyldavis==3.2.1) (1.4.2)\n",
            "Requirement already satisfied: jinja2>=2.7.2 in /usr/local/lib/python3.10/dist-packages (from pyldavis==3.2.1) (3.1.4)\n",
            "Requirement already satisfied: numexpr in /usr/local/lib/python3.10/dist-packages (from pyldavis==3.2.1) (2.10.2)\n",
            "Requirement already satisfied: future in /usr/local/lib/python3.10/dist-packages (from pyldavis==3.2.1) (1.0.0)\n",
            "Collecting funcy (from pyldavis==3.2.1)\n",
            "  Downloading funcy-2.0-py2.py3-none-any.whl.metadata (5.9 kB)\n",
            "Requirement already satisfied: pandas>=0.17.0 in /usr/local/lib/python3.10/dist-packages (from pyldavis==3.2.1) (2.2.2)\n",
            "Requirement already satisfied: MarkupSafe>=2.0 in /usr/local/lib/python3.10/dist-packages (from jinja2>=2.7.2->pyldavis==3.2.1) (3.0.2)\n",
            "Requirement already satisfied: python-dateutil>=2.8.2 in /usr/local/lib/python3.10/dist-packages (from pandas>=0.17.0->pyldavis==3.2.1) (2.8.2)\n",
            "Requirement already satisfied: pytz>=2020.1 in /usr/local/lib/python3.10/dist-packages (from pandas>=0.17.0->pyldavis==3.2.1) (2024.2)\n",
            "Requirement already satisfied: tzdata>=2022.7 in /usr/local/lib/python3.10/dist-packages (from pandas>=0.17.0->pyldavis==3.2.1) (2024.2)\n",
            "Requirement already satisfied: six>=1.5 in /usr/local/lib/python3.10/dist-packages (from python-dateutil>=2.8.2->pandas>=0.17.0->pyldavis==3.2.1) (1.16.0)\n",
            "Downloading funcy-2.0-py2.py3-none-any.whl (30 kB)\n",
            "Building wheels for collected packages: pyldavis\n",
            "  Building wheel for pyldavis (setup.py) ... \u001b[?25l\u001b[?25hdone\n",
            "  Created wheel for pyldavis: filename=pyLDAvis-3.2.1-py2.py3-none-any.whl size=136162 sha256=bfa7e2a305edb23be460c380ef855bf7b2901af61477add73bcf5c216cc1a80f\n",
            "  Stored in directory: /root/.cache/pip/wheels/d3/35/9c/c084bb1c3a4b8a7feb32d57c88f572dcf5c3accc949478893f\n",
            "Successfully built pyldavis\n",
            "Installing collected packages: funcy, pyldavis\n",
            "Successfully installed funcy-2.0 pyldavis-3.2.1\n"
          ]
        }
      ]
    },
    {
      "source": [
        "!pip install --upgrade pyLDAvis"
      ],
      "cell_type": "code",
      "metadata": {
        "colab": {
          "base_uri": "https://localhost:8080/"
        },
        "id": "HMxwbJnDIBVP",
        "outputId": "063789e9-d770-4dd5-f9d8-fb55823c0b70"
      },
      "execution_count": 4,
      "outputs": [
        {
          "output_type": "stream",
          "name": "stdout",
          "text": [
            "Requirement already satisfied: pyLDAvis in /usr/local/lib/python3.10/dist-packages (3.2.1)\n",
            "Collecting pyLDAvis\n",
            "  Downloading pyLDAvis-3.4.1-py3-none-any.whl.metadata (4.2 kB)\n",
            "Requirement already satisfied: numpy>=1.24.2 in /usr/local/lib/python3.10/dist-packages (from pyLDAvis) (1.26.4)\n",
            "Requirement already satisfied: scipy in /usr/local/lib/python3.10/dist-packages (from pyLDAvis) (1.13.1)\n",
            "Requirement already satisfied: pandas>=2.0.0 in /usr/local/lib/python3.10/dist-packages (from pyLDAvis) (2.2.2)\n",
            "Requirement already satisfied: joblib>=1.2.0 in /usr/local/lib/python3.10/dist-packages (from pyLDAvis) (1.4.2)\n",
            "Requirement already satisfied: jinja2 in /usr/local/lib/python3.10/dist-packages (from pyLDAvis) (3.1.4)\n",
            "Requirement already satisfied: numexpr in /usr/local/lib/python3.10/dist-packages (from pyLDAvis) (2.10.2)\n",
            "Requirement already satisfied: funcy in /usr/local/lib/python3.10/dist-packages (from pyLDAvis) (2.0)\n",
            "Requirement already satisfied: scikit-learn>=1.0.0 in /usr/local/lib/python3.10/dist-packages (from pyLDAvis) (1.5.2)\n",
            "Requirement already satisfied: gensim in /usr/local/lib/python3.10/dist-packages (from pyLDAvis) (4.3.3)\n",
            "Requirement already satisfied: setuptools in /usr/local/lib/python3.10/dist-packages (from pyLDAvis) (75.1.0)\n",
            "Requirement already satisfied: python-dateutil>=2.8.2 in /usr/local/lib/python3.10/dist-packages (from pandas>=2.0.0->pyLDAvis) (2.8.2)\n",
            "Requirement already satisfied: pytz>=2020.1 in /usr/local/lib/python3.10/dist-packages (from pandas>=2.0.0->pyLDAvis) (2024.2)\n",
            "Requirement already satisfied: tzdata>=2022.7 in /usr/local/lib/python3.10/dist-packages (from pandas>=2.0.0->pyLDAvis) (2024.2)\n",
            "Requirement already satisfied: threadpoolctl>=3.1.0 in /usr/local/lib/python3.10/dist-packages (from scikit-learn>=1.0.0->pyLDAvis) (3.5.0)\n",
            "Requirement already satisfied: smart-open>=1.8.1 in /usr/local/lib/python3.10/dist-packages (from gensim->pyLDAvis) (7.0.5)\n",
            "Requirement already satisfied: MarkupSafe>=2.0 in /usr/local/lib/python3.10/dist-packages (from jinja2->pyLDAvis) (3.0.2)\n",
            "Requirement already satisfied: six>=1.5 in /usr/local/lib/python3.10/dist-packages (from python-dateutil>=2.8.2->pandas>=2.0.0->pyLDAvis) (1.16.0)\n",
            "Requirement already satisfied: wrapt in /usr/local/lib/python3.10/dist-packages (from smart-open>=1.8.1->gensim->pyLDAvis) (1.17.0)\n",
            "Downloading pyLDAvis-3.4.1-py3-none-any.whl (2.6 MB)\n",
            "\u001b[2K   \u001b[90m━━━━━━━━━━━━━━━━━━━━━━━━━━━━━━━━━━━━━━━━\u001b[0m \u001b[32m2.6/2.6 MB\u001b[0m \u001b[31m22.7 MB/s\u001b[0m eta \u001b[36m0:00:00\u001b[0m\n",
            "\u001b[?25hInstalling collected packages: pyLDAvis\n",
            "  Attempting uninstall: pyLDAvis\n",
            "    Found existing installation: pyLDAvis 3.2.1\n",
            "    Uninstalling pyLDAvis-3.2.1:\n",
            "      Successfully uninstalled pyLDAvis-3.2.1\n",
            "Successfully installed pyLDAvis-3.4.1\n"
          ]
        }
      ]
    },
    {
      "cell_type": "code",
      "metadata": {
        "id": "RZFgf793QUdr",
        "colab": {
          "base_uri": "https://localhost:8080/"
        },
        "outputId": "4d29bb39-76d5-4b18-94be-d8f817613be7"
      },
      "source": [
        "pip install Sastrawi"
      ],
      "execution_count": 5,
      "outputs": [
        {
          "output_type": "stream",
          "name": "stdout",
          "text": [
            "Collecting Sastrawi\n",
            "  Downloading Sastrawi-1.0.1-py2.py3-none-any.whl.metadata (909 bytes)\n",
            "Downloading Sastrawi-1.0.1-py2.py3-none-any.whl (209 kB)\n",
            "\u001b[?25l   \u001b[90m━━━━━━━━━━━━━━━━━━━━━━━━━━━━━━━━━━━━━━━━\u001b[0m \u001b[32m0.0/209.7 kB\u001b[0m \u001b[31m?\u001b[0m eta \u001b[36m-:--:--\u001b[0m\r\u001b[2K   \u001b[91m━━━━━━━━━━━━━━━━━━━━━━━━━\u001b[0m\u001b[90m╺\u001b[0m\u001b[90m━━━━━━━━━━━━━━\u001b[0m \u001b[32m133.1/209.7 kB\u001b[0m \u001b[31m3.8 MB/s\u001b[0m eta \u001b[36m0:00:01\u001b[0m\r\u001b[2K   \u001b[90m━━━━━━━━━━━━━━━━━━━━━━━━━━━━━━━━━━━━━━━━\u001b[0m \u001b[32m209.7/209.7 kB\u001b[0m \u001b[31m3.8 MB/s\u001b[0m eta \u001b[36m0:00:00\u001b[0m\n",
            "\u001b[?25hInstalling collected packages: Sastrawi\n",
            "Successfully installed Sastrawi-1.0.1\n"
          ]
        }
      ]
    },
    {
      "cell_type": "code",
      "metadata": {
        "id": "8qR4cmyvQbNf",
        "colab": {
          "base_uri": "https://localhost:8080/"
        },
        "outputId": "e7095609-1591-475d-ee34-54552021f0be"
      },
      "source": [
        "pip install swifter"
      ],
      "execution_count": 6,
      "outputs": [
        {
          "output_type": "stream",
          "name": "stdout",
          "text": [
            "Collecting swifter\n",
            "  Downloading swifter-1.4.0.tar.gz (1.2 MB)\n",
            "\u001b[?25l     \u001b[90m━━━━━━━━━━━━━━━━━━━━━━━━━━━━━━━━━━━━━━━━\u001b[0m \u001b[32m0.0/1.2 MB\u001b[0m \u001b[31m?\u001b[0m eta \u001b[36m-:--:--\u001b[0m\r\u001b[2K     \u001b[91m━━━━━\u001b[0m\u001b[91m╸\u001b[0m\u001b[90m━━━━━━━━━━━━━━━━━━━━━━━━━━━━━━━━━━\u001b[0m \u001b[32m0.2/1.2 MB\u001b[0m \u001b[31m5.3 MB/s\u001b[0m eta \u001b[36m0:00:01\u001b[0m\r\u001b[2K     \u001b[91m━━━━━━━━━━━━━━━━━━━━━━━━━━━━━━\u001b[0m\u001b[90m╺\u001b[0m\u001b[90m━━━━━━━━━\u001b[0m \u001b[32m0.9/1.2 MB\u001b[0m \u001b[31m13.2 MB/s\u001b[0m eta \u001b[36m0:00:01\u001b[0m\r\u001b[2K     \u001b[91m━━━━━━━━━━━━━━━━━━━━━━━━━━━━━━━━━━━━━━━\u001b[0m\u001b[91m╸\u001b[0m \u001b[32m1.2/1.2 MB\u001b[0m \u001b[31m14.3 MB/s\u001b[0m eta \u001b[36m0:00:01\u001b[0m\r\u001b[2K     \u001b[90m━━━━━━━━━━━━━━━━━━━━━━━━━━━━━━━━━━━━━━━━\u001b[0m \u001b[32m1.2/1.2 MB\u001b[0m \u001b[31m9.2 MB/s\u001b[0m eta \u001b[36m0:00:00\u001b[0m\n",
            "\u001b[?25h  Preparing metadata (setup.py) ... \u001b[?25l\u001b[?25hdone\n",
            "Requirement already satisfied: pandas>=1.0.0 in /usr/local/lib/python3.10/dist-packages (from swifter) (2.2.2)\n",
            "Requirement already satisfied: psutil>=5.6.6 in /usr/local/lib/python3.10/dist-packages (from swifter) (5.9.5)\n",
            "Requirement already satisfied: dask>=2.10.0 in /usr/local/lib/python3.10/dist-packages (from dask[dataframe]>=2.10.0->swifter) (2024.10.0)\n",
            "Requirement already satisfied: tqdm>=4.33.0 in /usr/local/lib/python3.10/dist-packages (from swifter) (4.66.6)\n",
            "Requirement already satisfied: click>=8.1 in /usr/local/lib/python3.10/dist-packages (from dask>=2.10.0->dask[dataframe]>=2.10.0->swifter) (8.1.7)\n",
            "Requirement already satisfied: cloudpickle>=3.0.0 in /usr/local/lib/python3.10/dist-packages (from dask>=2.10.0->dask[dataframe]>=2.10.0->swifter) (3.1.0)\n",
            "Requirement already satisfied: fsspec>=2021.09.0 in /usr/local/lib/python3.10/dist-packages (from dask>=2.10.0->dask[dataframe]>=2.10.0->swifter) (2024.10.0)\n",
            "Requirement already satisfied: packaging>=20.0 in /usr/local/lib/python3.10/dist-packages (from dask>=2.10.0->dask[dataframe]>=2.10.0->swifter) (24.2)\n",
            "Requirement already satisfied: partd>=1.4.0 in /usr/local/lib/python3.10/dist-packages (from dask>=2.10.0->dask[dataframe]>=2.10.0->swifter) (1.4.2)\n",
            "Requirement already satisfied: pyyaml>=5.3.1 in /usr/local/lib/python3.10/dist-packages (from dask>=2.10.0->dask[dataframe]>=2.10.0->swifter) (6.0.2)\n",
            "Requirement already satisfied: toolz>=0.10.0 in /usr/local/lib/python3.10/dist-packages (from dask>=2.10.0->dask[dataframe]>=2.10.0->swifter) (0.12.1)\n",
            "Requirement already satisfied: importlib-metadata>=4.13.0 in /usr/local/lib/python3.10/dist-packages (from dask>=2.10.0->dask[dataframe]>=2.10.0->swifter) (8.5.0)\n",
            "Collecting dask-expr<1.2,>=1.1 (from dask[dataframe]>=2.10.0->swifter)\n",
            "  Downloading dask_expr-1.1.20-py3-none-any.whl.metadata (2.6 kB)\n",
            "Requirement already satisfied: numpy>=1.22.4 in /usr/local/lib/python3.10/dist-packages (from pandas>=1.0.0->swifter) (1.26.4)\n",
            "Requirement already satisfied: python-dateutil>=2.8.2 in /usr/local/lib/python3.10/dist-packages (from pandas>=1.0.0->swifter) (2.8.2)\n",
            "Requirement already satisfied: pytz>=2020.1 in /usr/local/lib/python3.10/dist-packages (from pandas>=1.0.0->swifter) (2024.2)\n",
            "Requirement already satisfied: tzdata>=2022.7 in /usr/local/lib/python3.10/dist-packages (from pandas>=1.0.0->swifter) (2024.2)\n",
            "INFO: pip is looking at multiple versions of dask-expr to determine which version is compatible with other requirements. This could take a while.\n",
            "  Downloading dask_expr-1.1.19-py3-none-any.whl.metadata (2.6 kB)\n",
            "  Downloading dask_expr-1.1.18-py3-none-any.whl.metadata (2.6 kB)\n",
            "  Downloading dask_expr-1.1.16-py3-none-any.whl.metadata (2.5 kB)\n",
            "Requirement already satisfied: pyarrow>=14.0.1 in /usr/local/lib/python3.10/dist-packages (from dask-expr<1.2,>=1.1->dask[dataframe]>=2.10.0->swifter) (17.0.0)\n",
            "Requirement already satisfied: zipp>=3.20 in /usr/local/lib/python3.10/dist-packages (from importlib-metadata>=4.13.0->dask>=2.10.0->dask[dataframe]>=2.10.0->swifter) (3.21.0)\n",
            "Requirement already satisfied: locket in /usr/local/lib/python3.10/dist-packages (from partd>=1.4.0->dask>=2.10.0->dask[dataframe]>=2.10.0->swifter) (1.0.0)\n",
            "Requirement already satisfied: six>=1.5 in /usr/local/lib/python3.10/dist-packages (from python-dateutil>=2.8.2->pandas>=1.0.0->swifter) (1.16.0)\n",
            "Downloading dask_expr-1.1.16-py3-none-any.whl (243 kB)\n",
            "\u001b[2K   \u001b[90m━━━━━━━━━━━━━━━━━━━━━━━━━━━━━━━━━━━━━━━━\u001b[0m \u001b[32m243.2/243.2 kB\u001b[0m \u001b[31m5.3 MB/s\u001b[0m eta \u001b[36m0:00:00\u001b[0m\n",
            "\u001b[?25hBuilding wheels for collected packages: swifter\n",
            "  Building wheel for swifter (setup.py) ... \u001b[?25l\u001b[?25hdone\n",
            "  Created wheel for swifter: filename=swifter-1.4.0-py3-none-any.whl size=16507 sha256=69ccf388647ad97f5dad79a387720f007f623bb9d672e1a17108a6d69dfccd70\n",
            "  Stored in directory: /root/.cache/pip/wheels/e4/cf/51/0904952972ee2c7aa3709437065278dc534ec1b8d2ad41b443\n",
            "Successfully built swifter\n",
            "Installing collected packages: dask-expr, swifter\n",
            "Successfully installed dask-expr-1.1.16 swifter-1.4.0\n"
          ]
        }
      ]
    },
    {
      "cell_type": "markdown",
      "metadata": {
        "id": "L7coo48jufYT"
      },
      "source": [
        "# Preparing Data"
      ]
    },
    {
      "cell_type": "code",
      "metadata": {
        "id": "-3S6Z9dmMiRs"
      },
      "source": [
        "import pandas as pd\n",
        "import numpy as np\n",
        "import nltk"
      ],
      "execution_count": 7,
      "outputs": []
    },
    {
      "cell_type": "code",
      "metadata": {
        "colab": {
          "base_uri": "https://localhost:8080/"
        },
        "id": "khx0rcagM5rd",
        "outputId": "98a51ac8-248d-4815-e898-2b47f2e98859"
      },
      "source": [
        "#import data dari GDrive\n",
        "#bisa lihat di video ini https://youtu.be/AAwgqf2d82k\n",
        "! gdown --id 1JXKfpv2rAPVn9OcPQAVh3YCXGn7XnACR #id file di drive, bisa dilihat di link file dengan menu share file"
      ],
      "execution_count": null,
      "outputs": [
        {
          "output_type": "stream",
          "name": "stdout",
          "text": [
            "/usr/local/lib/python3.10/dist-packages/gdown/__main__.py:140: FutureWarning: Option `--id` was deprecated in version 4.3.1 and will be removed in 5.0. You don't need to pass it anymore to use a file ID.\n",
            "  warnings.warn(\n",
            "Downloading...\n",
            "From: https://drive.google.com/uc?id=1JXKfpv2rAPVn9OcPQAVh3YCXGn7XnACR\n",
            "To: /content/dataBerita.xlsx\n",
            "100% 26.9k/26.9k [00:00<00:00, 29.7MB/s]\n"
          ]
        }
      ]
    },
    {
      "cell_type": "code",
      "source": [
        "import pandas as pd\n",
        "import numpy as np\n",
        "import nltk"
      ],
      "metadata": {
        "id": "2VkwkcKRF2Vx"
      },
      "execution_count": null,
      "outputs": []
    },
    {
      "source": [
        "#ga saya pakai\n",
        "!pip install gdown"
      ],
      "cell_type": "code",
      "metadata": {
        "colab": {
          "base_uri": "https://localhost:8080/"
        },
        "id": "jblJliRxtoIb",
        "outputId": "c0eea470-f75f-4336-a4bc-af96e865038c"
      },
      "execution_count": null,
      "outputs": [
        {
          "output_type": "stream",
          "name": "stdout",
          "text": [
            "Requirement already satisfied: gdown in /usr/local/lib/python3.10/dist-packages (5.2.0)\n",
            "Requirement already satisfied: beautifulsoup4 in /usr/local/lib/python3.10/dist-packages (from gdown) (4.12.3)\n",
            "Requirement already satisfied: filelock in /usr/local/lib/python3.10/dist-packages (from gdown) (3.16.1)\n",
            "Requirement already satisfied: requests[socks] in /usr/local/lib/python3.10/dist-packages (from gdown) (2.32.3)\n",
            "Requirement already satisfied: tqdm in /usr/local/lib/python3.10/dist-packages (from gdown) (4.66.6)\n",
            "Requirement already satisfied: soupsieve>1.2 in /usr/local/lib/python3.10/dist-packages (from beautifulsoup4->gdown) (2.6)\n",
            "Requirement already satisfied: charset-normalizer<4,>=2 in /usr/local/lib/python3.10/dist-packages (from requests[socks]->gdown) (3.4.0)\n",
            "Requirement already satisfied: idna<4,>=2.5 in /usr/local/lib/python3.10/dist-packages (from requests[socks]->gdown) (3.10)\n",
            "Requirement already satisfied: urllib3<3,>=1.21.1 in /usr/local/lib/python3.10/dist-packages (from requests[socks]->gdown) (2.2.3)\n",
            "Requirement already satisfied: certifi>=2017.4.17 in /usr/local/lib/python3.10/dist-packages (from requests[socks]->gdown) (2024.8.30)\n",
            "Requirement already satisfied: PySocks!=1.5.7,>=1.5.6 in /usr/local/lib/python3.10/dist-packages (from requests[socks]->gdown) (1.7.1)\n"
          ]
        }
      ]
    },
    {
      "cell_type": "code",
      "source": [
        "#ga saya pakai\n",
        "#import data dari Gdrive\n",
        "! gdown--id 1LSUFjTX8gRN1x1PwBmIPeJ"
      ],
      "metadata": {
        "colab": {
          "base_uri": "https://localhost:8080/"
        },
        "id": "GMzEDRXwJBsf",
        "outputId": "e158627a-8c55-498d-ba52-e78727b81e30"
      },
      "execution_count": null,
      "outputs": [
        {
          "output_type": "stream",
          "name": "stdout",
          "text": [
            "/bin/bash: line 1: gdown--id: command not found\n"
          ]
        }
      ]
    },
    {
      "source": [
        "#ga saya pakai\n",
        "#import file xlsx untuk proses normalisasi\n",
        "!gdown --id 1LSUFjTX8gRN1x1PwBmIPeJ #id file di drive"
      ],
      "cell_type": "code",
      "metadata": {
        "colab": {
          "base_uri": "https://localhost:8080/"
        },
        "id": "ryx-jmvztyyA",
        "outputId": "c379142c-fdc3-411a-8769-9290e29e19fa"
      },
      "execution_count": null,
      "outputs": [
        {
          "output_type": "stream",
          "name": "stdout",
          "text": [
            "/usr/local/lib/python3.10/dist-packages/gdown/__main__.py:140: FutureWarning: Option `--id` was deprecated in version 4.3.1 and will be removed in 5.0. You don't need to pass it anymore to use a file ID.\n",
            "  warnings.warn(\n",
            "Failed to retrieve file url:\n",
            "\n",
            "\tCannot retrieve the public link of the file. You may need to change\n",
            "\tthe permission to 'Anyone with the link', or have had many accesses.\n",
            "\tCheck FAQ in https://github.com/wkentaro/gdown?tab=readme-ov-file#faq.\n",
            "\n",
            "You may still be able to access the file from the browser:\n",
            "\n",
            "\thttps://drive.google.com/uc?id=1LSUFjTX8gRN1x1PwBmIPeJ\n",
            "\n",
            "but Gdown can't. Please check connections and permissions.\n"
          ]
        }
      ]
    },
    {
      "source": [
        "# Instead of using pd.read_csv(), use pd.read_excel() if your data is in an Excel file:\n",
        "#dataSB = pd.read_excel('/content/drive/MyDrive/LDA_Tpoic_Modelling/youtube-comments_palestine israel war_LDA.xlsx', sheet_name=\"Sheet1\") #lokasi file\n",
        "\n",
        "\n",
        "#If your file is actually a CSV file, remove the 'sheet_name' argument:\n",
        "dataSB = pd.read_csv('/content/drive/MyDrive/LDA_Tpoic_Modelling/LDA Naturalisas/youtube-comments_naturalisasi_Timnas_2000.csv') #lokasi file"
      ],
      "cell_type": "code",
      "metadata": {
        "id": "a5OBJzJaTghi"
      },
      "execution_count": 9,
      "outputs": []
    },
    {
      "source": [
        "print(dataSB.head())"
      ],
      "cell_type": "code",
      "metadata": {
        "colab": {
          "base_uri": "https://localhost:8080/"
        },
        "id": "o95Oiz6vNx1l",
        "outputId": "241d03d2-2b4d-4b69-a197-c80a51d405ba"
      },
      "execution_count": null,
      "outputs": [
        {
          "output_type": "stream",
          "name": "stdout",
          "text": [
            "            publishedAt     authorDisplayName  \\\n",
            "0  2024-11-25T06:40:42Z        @RAIHANAHSHORT   \n",
            "1  2024-11-24T14:28:49Z         @TrueLine-x2p   \n",
            "2  2024-11-24T14:27:13Z  @yohanessetiawan2170   \n",
            "3  2024-11-24T13:38:07Z          @Broomen-f3e   \n",
            "4  2024-11-24T13:25:53Z      @RizqAkhmadFauzi   \n",
            "\n",
            "                                textDisplay  likeCount  \n",
            "0                     NAMAY RAFAEL NGUYEN 😅          0  \n",
            "1  Baru satu Wkwkw <br>Easy buat bang jay😂😅          0  \n",
            "2              Nguyen sound System horeg...          0  \n",
            "3     Wajib hati-hati nih udh setara neymar          0  \n",
            "4                               Ga ngaruh 😂          0  \n"
          ]
        }
      ]
    },
    {
      "source": [
        "# Check the actual column names in your DataFrame\n",
        "print(dataSB.columns)\n",
        "\n",
        "# If 'textDisplay' is not in the columns, and 'textdata' is, use 'textdata':\n",
        "if 'textDisplay' not in dataSB.columns and 'textdata' in dataSB.columns:\n",
        "    text_column_name = 'textdata'\n",
        "# Otherwise, if 'textDisplay' is in the columns, use it:\n",
        "elif 'textDisplay' in dataSB.columns:\n",
        "    text_column_name = 'textDisplay'\n",
        "# If neither column exists, raise an error or handle it appropriately\n",
        "else:\n",
        "    raise KeyError(\"Neither 'textDisplay' nor 'textdata' column found in the DataFrame.\")\n",
        "\n",
        "# Now use the correct column name for case folding and renaming\n",
        "dataSB[text_column_name] = dataSB[text_column_name].str.lower()\n",
        "dataSB = dataSB.rename(columns={text_column_name: 'textdata'})"
      ],
      "cell_type": "code",
      "metadata": {
        "colab": {
          "base_uri": "https://localhost:8080/"
        },
        "id": "Ir5NrLcF0LFc",
        "outputId": "2bc8a4a0-8c29-4953-bc69-1b5ed94d9b14"
      },
      "execution_count": 11,
      "outputs": [
        {
          "output_type": "stream",
          "name": "stdout",
          "text": [
            "Index(['publishedAt', 'authorDisplayName', 'textDisplay', 'likeCount'], dtype='object')\n"
          ]
        }
      ]
    },
    {
      "cell_type": "code",
      "metadata": {
        "colab": {
          "base_uri": "https://localhost:8080/"
        },
        "id": "Ir6LW2PuN7dw",
        "outputId": "13460785-4b1a-48db-dd8b-9dae32aadb22"
      },
      "source": [
        "# ------ Case Folding --------\n",
        "# gunakan fungsi Series.str.lower() pada Pandas\n",
        "\n",
        "dataSB['textdata'] = dataSB['textdata'].str.lower()\n",
        "\n",
        "print('Case Folding Result : \\n')\n",
        "print(dataSB['textdata'].head(5))"
      ],
      "execution_count": 12,
      "outputs": [
        {
          "output_type": "stream",
          "name": "stdout",
          "text": [
            "Case Folding Result : \n",
            "\n",
            "0                       namay rafael nguyen 😅\n",
            "1    baru satu wkwkw <br>easy buat bang jay😂😅\n",
            "2                nguyen sound system horeg...\n",
            "3       wajib hati-hati nih udh setara neymar\n",
            "4                                 ga ngaruh 😂\n",
            "Name: textdata, dtype: object\n"
          ]
        }
      ]
    },
    {
      "cell_type": "markdown",
      "metadata": {
        "id": "6QHEcQNluwc2"
      },
      "source": [
        "# Tokenizing\n",
        "\n",
        "Menghapus karakter-karakter yang tidak penting dari text"
      ]
    },
    {
      "cell_type": "code",
      "metadata": {
        "id": "bRMi74w-OKjC"
      },
      "source": [
        "import string\n",
        "import re #regex library\n",
        "\n",
        "# import word_tokenize & FreqDist from NLTK\n",
        "from nltk.tokenize import word_tokenize\n",
        "from nltk.probability import FreqDist"
      ],
      "execution_count": 13,
      "outputs": []
    },
    {
      "source": [
        "# ------ Tokenizing ---------\n",
        "import nltk\n",
        "\n",
        "nltk.download('punkt')\n",
        "nltk.download('punkt_tab') # Added this line to download 'punkt_tab' data\n",
        "\n",
        "def remove_tweet_special(text):\n",
        "    # Check if the input is a string\n",
        "    if isinstance(text, str):\n",
        "        # remove tab, new line, ans back slice\n",
        "        text = text.replace('\\\\t',\" \").replace('\\\\n',\" \").replace('\\\\u',\" \").replace('\\\\',\"\")\n",
        "        # remove non ASCII (emoticon, chinese word, .etc)\n",
        "        text = text.encode('ascii', 'replace').decode('ascii')\n",
        "        # remove mention, link, hashtag\n",
        "        text = ' '.join(re.sub(\"([@#][A-Za-z0-9]+)|(\\w+:\\/\\/\\S+)\",\" \", text).split())\n",
        "        # remove incomplete URL\n",
        "        return text.replace(\"http://\", \" \").replace(\"https://\", \" \")\n",
        "    else:\n",
        "        # If not a string, return an empty string to avoid errors\n",
        "        return ''\n",
        "\n",
        "dataSB['textdata'] = dataSB['textdata'].apply(remove_tweet_special)\n",
        "\n",
        "# ... (rest of your code)\n",
        "#remove number\n",
        "def remove_number(text):\n",
        "    return  re.sub(r\"\\d+\", \"\", text)\n",
        "\n",
        "dataSB['textdata'] = dataSB['textdata'].apply(remove_number)\n",
        "\n",
        "#remove punctuation\n",
        "def remove_punctuation(text):\n",
        "    return text.translate(str.maketrans(\"\",\"\",string.punctuation))\n",
        "\n",
        "dataSB['textdata'] = dataSB['textdata'].apply(remove_punctuation)\n",
        "\n",
        "#remove whitespace leading & trailing\n",
        "def remove_whitespace_LT(text):\n",
        "    return text.strip()\n",
        "\n",
        "dataSB['textdata'] = dataSB['textdata'].apply(remove_whitespace_LT)\n",
        "\n",
        "#remove multiple whitespace into single whitespace\n",
        "def remove_whitespace_multiple(text):\n",
        "    return re.sub('\\s+',' ',text)\n",
        "\n",
        "dataSB['textdata'] = dataSB['textdata'].apply(remove_whitespace_multiple)\n",
        "\n",
        "# remove single char\n",
        "def remove_singl_char(text):\n",
        "    return re.sub(r\"\\b[a-zA-Z]\\b\", \"\", text)\n",
        "\n",
        "dataSB['textdata'] = dataSB['textdata'].apply(remove_singl_char)\n",
        "\n",
        "# NLTK word tokenize\n",
        "def word_tokenize_wrapper(text):\n",
        "    return word_tokenize(text)\n",
        "\n",
        "dataSB['textdata_tokens'] = dataSB['textdata'].apply(word_tokenize_wrapper)\n",
        "\n",
        "print('Tokenizing Result : \\n')\n",
        "print(dataSB['textdata_tokens'].head())\n"
      ],
      "cell_type": "code",
      "metadata": {
        "colab": {
          "base_uri": "https://localhost:8080/"
        },
        "id": "HXpsqNe5V6vH",
        "outputId": "8682faff-91b0-4a26-f259-c3b53b666255"
      },
      "execution_count": 14,
      "outputs": [
        {
          "output_type": "stream",
          "name": "stderr",
          "text": [
            "[nltk_data] Downloading package punkt to /root/nltk_data...\n",
            "[nltk_data]   Unzipping tokenizers/punkt.zip.\n",
            "[nltk_data] Downloading package punkt_tab to /root/nltk_data...\n",
            "[nltk_data]   Unzipping tokenizers/punkt_tab.zip.\n"
          ]
        },
        {
          "output_type": "stream",
          "name": "stdout",
          "text": [
            "Tokenizing Result : \n",
            "\n",
            "0                         [namay, rafael, nguyen]\n",
            "1    [baru, satu, wkwkw, breasy, buat, bang, jay]\n",
            "2                  [nguyen, sound, system, horeg]\n",
            "3     [wajib, hatihati, nih, udh, setara, neymar]\n",
            "4                                    [ga, ngaruh]\n",
            "Name: textdata_tokens, dtype: object\n"
          ]
        }
      ]
    },
    {
      "cell_type": "code",
      "metadata": {
        "id": "k9aPbhDxdPSv",
        "colab": {
          "base_uri": "https://localhost:8080/"
        },
        "outputId": "7f76f1a4-c4d7-4822-ca49-2086a3bfc911"
      },
      "source": [
        "# NLTK calc frequency distribution\n",
        "def freqDist_wrapper(text):\n",
        "    return FreqDist(text)\n",
        "\n",
        "dataSB['textdata_tokens_fdist'] = dataSB['textdata_tokens'].apply(freqDist_wrapper)\n",
        "\n",
        "print('Frequency Tokens : \\n')\n",
        "print(dataSB['textdata_tokens_fdist'].head().apply(lambda x : x.most_common()))"
      ],
      "execution_count": 15,
      "outputs": [
        {
          "output_type": "stream",
          "name": "stdout",
          "text": [
            "Frequency Tokens : \n",
            "\n",
            "0               [(namay, 1), (rafael, 1), (nguyen, 1)]\n",
            "1    [(baru, 1), (satu, 1), (wkwkw, 1), (breasy, 1)...\n",
            "2    [(nguyen, 1), (sound, 1), (system, 1), (horeg,...\n",
            "3    [(wajib, 1), (hatihati, 1), (nih, 1), (udh, 1)...\n",
            "4                               [(ga, 1), (ngaruh, 1)]\n",
            "Name: textdata_tokens_fdist, dtype: object\n"
          ]
        }
      ]
    },
    {
      "cell_type": "markdown",
      "metadata": {
        "id": "oNgujoy0dPSw"
      },
      "source": [
        "# Stopwords\n",
        "Membersihkan teks dari kata-kata yang termasuk ke dalam stopwords"
      ]
    },
    {
      "cell_type": "code",
      "metadata": {
        "colab": {
          "base_uri": "https://localhost:8080/"
        },
        "id": "XQ_gaIXZdgS5",
        "outputId": "1e82c64f-d156-4eb5-cfb8-8f443859d973"
      },
      "source": [
        "nltk.download('stopwords')"
      ],
      "execution_count": 16,
      "outputs": [
        {
          "output_type": "stream",
          "name": "stderr",
          "text": [
            "[nltk_data] Downloading package stopwords to /root/nltk_data...\n",
            "[nltk_data]   Unzipping corpora/stopwords.zip.\n"
          ]
        },
        {
          "output_type": "execute_result",
          "data": {
            "text/plain": [
              "True"
            ]
          },
          "metadata": {},
          "execution_count": 16
        }
      ]
    },
    {
      "cell_type": "code",
      "metadata": {
        "id": "PO8UwLZddPSx",
        "colab": {
          "base_uri": "https://localhost:8080/"
        },
        "outputId": "f2e0e39a-7e47-467a-ce66-ac7ee5e83aa7"
      },
      "source": [
        "from nltk.corpus import stopwords\n",
        "\n",
        "# ----------------------- get stopword from NLTK stopword -------------------------------\n",
        "# get stopword indonesia\n",
        "list_stopwords = stopwords.words('indonesian')\n",
        "\n",
        "\n",
        "# ---------------------------- manualy add stopword  ------------------------------------\n",
        "# append additional stopword\n",
        "list_stopwords.extend([\"yg\", \"dg\", \"rt\", \"dgn\", \"ny\", \"d\", 'klo',\n",
        "                       'kalo', 'amp', 'biar', 'bikin', 'bilang',\n",
        "                       'gak', 'ga', 'krn', 'nya', 'nih', 'sih',\n",
        "                       'si', 'tau', 'tdk', 'tuh', 'utk', 'ya',\n",
        "                       'jd', 'jgn', 'sdh', 'aja', 'n', 't',\n",
        "                       'nyg', 'hehe', 'pen', 'u', 'nan', 'loh', 'rt',\n",
        "                       '&amp', 'yah', 'bisnis','udh','wkwkw',\n",
        "                       'bang'])\n",
        "\n",
        "# convert list to dictionary\n",
        "list_stopwords = set(list_stopwords)\n",
        "\n",
        "#remove stopword pada list token\n",
        "def stopwords_removal(words):\n",
        "    return [word for word in words if word not in list_stopwords]\n",
        "\n",
        "dataSB['textdata_tokens_WSW'] = dataSB['textdata_tokens'].apply(stopwords_removal)\n",
        "\n",
        "print(dataSB['textdata_tokens_WSW'].head())"
      ],
      "execution_count": 17,
      "outputs": [
        {
          "output_type": "stream",
          "name": "stdout",
          "text": [
            "0              [namay, rafael, nguyen]\n",
            "1                        [breasy, jay]\n",
            "2       [nguyen, sound, system, horeg]\n",
            "3    [wajib, hatihati, setara, neymar]\n",
            "4                             [ngaruh]\n",
            "Name: textdata_tokens_WSW, dtype: object\n"
          ]
        }
      ]
    },
    {
      "cell_type": "markdown",
      "metadata": {
        "id": "KLT9hddUdPSx"
      },
      "source": [
        "# Normalisasi\n",
        "Mengganti kata-kata tertentu dengan kata lain yang lebih tepat"
      ]
    },
    {
      "cell_type": "code",
      "metadata": {
        "colab": {
          "base_uri": "https://localhost:8080/"
        },
        "id": "yGn1ja6KPtce",
        "outputId": "e27dde9d-cb33-4da3-a52d-69634c119805"
      },
      "source": [
        "#ga saya pakai\n",
        "#import file xlsx untuk proses normalisasi\n",
        "! gdown --id 1LSUFjTX8gRN1x1PwBmIPeJ #id file di drive"
      ],
      "execution_count": null,
      "outputs": [
        {
          "output_type": "stream",
          "name": "stdout",
          "text": [
            "/usr/local/lib/python3.10/dist-packages/gdown/__main__.py:140: FutureWarning: Option `--id` was deprecated in version 4.3.1 and will be removed in 5.0. You don't need to pass it anymore to use a file ID.\n",
            "  warnings.warn(\n",
            "Failed to retrieve file url:\n",
            "\n",
            "\tCannot retrieve the public link of the file. You may need to change\n",
            "\tthe permission to 'Anyone with the link', or have had many accesses.\n",
            "\tCheck FAQ in https://github.com/wkentaro/gdown?tab=readme-ov-file#faq.\n",
            "\n",
            "You may still be able to access the file from the browser:\n",
            "\n",
            "\thttps://drive.google.com/uc?id=1LSUFjTX8gRN1x1PwBmIPeJ\n",
            "\n",
            "but Gdown can't. Please check connections and permissions.\n"
          ]
        }
      ]
    },
    {
      "cell_type": "code",
      "metadata": {
        "colab": {
          "base_uri": "https://localhost:8080/",
          "height": 490
        },
        "id": "PAWdsJhwP6RQ",
        "outputId": "fbf12b8d-1f03-4b8b-c734-a4e2e5f6a68f"
      },
      "source": [
        "normalizad_word = pd.read_excel('/content/drive/MyDrive/LDA_Tpoic_Modelling/LDA Naturalisas/normalisasi.xlsx') #lokasi file\n",
        "\n",
        "normalizad_word_dict = {}\n",
        "\n",
        "for index, row in normalizad_word.iterrows():\n",
        "    if row[0] not in normalizad_word_dict:\n",
        "        normalizad_word_dict[row[0]] = row[1]\n",
        "\n",
        "def normalized_term(document):\n",
        "    return [normalizad_word_dict[term] if term in normalizad_word_dict else term for term in document]\n",
        "\n",
        "dataSB['textdata_normalized'] = dataSB['textdata_tokens_WSW'].apply(normalized_term)\n",
        "\n",
        "dataSB['textdata_normalized'].head(10)"
      ],
      "execution_count": 18,
      "outputs": [
        {
          "output_type": "stream",
          "name": "stderr",
          "text": [
            "<ipython-input-18-58ddd3a8621a>:6: FutureWarning: Series.__getitem__ treating keys as positions is deprecated. In a future version, integer keys will always be treated as labels (consistent with DataFrame behavior). To access a value by position, use `ser.iloc[pos]`\n",
            "  if row[0] not in normalizad_word_dict:\n",
            "<ipython-input-18-58ddd3a8621a>:7: FutureWarning: Series.__getitem__ treating keys as positions is deprecated. In a future version, integer keys will always be treated as labels (consistent with DataFrame behavior). To access a value by position, use `ser.iloc[pos]`\n",
            "  normalizad_word_dict[row[0]] = row[1]\n"
          ]
        },
        {
          "output_type": "execute_result",
          "data": {
            "text/plain": [
              "0                              [namay, rafael, nguyen]\n",
              "1                                        [breasy, jay]\n",
              "2                       [nguyen, sound, system, horeg]\n",
              "3                    [wajib, hatihati, setara, neymar]\n",
              "4                                             [ngaruh]\n",
              "5    [kocak, vietnam, pemain, gabung, rela, ganti, ...\n",
              "6    [vietnam, indonesia, menaturalisasi, pemain, b...\n",
              "7                                      [nguyen, orang]\n",
              "8         [ngapain, aff, doang, bjir, aff, akui, fifa]\n",
              "9          [bagussemoga, mengalahkan, indonesiawkwkwk]\n",
              "Name: textdata_normalized, dtype: object"
            ],
            "text/html": [
              "<div>\n",
              "<style scoped>\n",
              "    .dataframe tbody tr th:only-of-type {\n",
              "        vertical-align: middle;\n",
              "    }\n",
              "\n",
              "    .dataframe tbody tr th {\n",
              "        vertical-align: top;\n",
              "    }\n",
              "\n",
              "    .dataframe thead th {\n",
              "        text-align: right;\n",
              "    }\n",
              "</style>\n",
              "<table border=\"1\" class=\"dataframe\">\n",
              "  <thead>\n",
              "    <tr style=\"text-align: right;\">\n",
              "      <th></th>\n",
              "      <th>textdata_normalized</th>\n",
              "    </tr>\n",
              "  </thead>\n",
              "  <tbody>\n",
              "    <tr>\n",
              "      <th>0</th>\n",
              "      <td>[namay, rafael, nguyen]</td>\n",
              "    </tr>\n",
              "    <tr>\n",
              "      <th>1</th>\n",
              "      <td>[breasy, jay]</td>\n",
              "    </tr>\n",
              "    <tr>\n",
              "      <th>2</th>\n",
              "      <td>[nguyen, sound, system, horeg]</td>\n",
              "    </tr>\n",
              "    <tr>\n",
              "      <th>3</th>\n",
              "      <td>[wajib, hatihati, setara, neymar]</td>\n",
              "    </tr>\n",
              "    <tr>\n",
              "      <th>4</th>\n",
              "      <td>[ngaruh]</td>\n",
              "    </tr>\n",
              "    <tr>\n",
              "      <th>5</th>\n",
              "      <td>[kocak, vietnam, pemain, gabung, rela, ganti, ...</td>\n",
              "    </tr>\n",
              "    <tr>\n",
              "      <th>6</th>\n",
              "      <td>[vietnam, indonesia, menaturalisasi, pemain, b...</td>\n",
              "    </tr>\n",
              "    <tr>\n",
              "      <th>7</th>\n",
              "      <td>[nguyen, orang]</td>\n",
              "    </tr>\n",
              "    <tr>\n",
              "      <th>8</th>\n",
              "      <td>[ngapain, aff, doang, bjir, aff, akui, fifa]</td>\n",
              "    </tr>\n",
              "    <tr>\n",
              "      <th>9</th>\n",
              "      <td>[bagussemoga, mengalahkan, indonesiawkwkwk]</td>\n",
              "    </tr>\n",
              "  </tbody>\n",
              "</table>\n",
              "</div><br><label><b>dtype:</b> object</label>"
            ]
          },
          "metadata": {},
          "execution_count": 18
        }
      ]
    },
    {
      "cell_type": "code",
      "metadata": {
        "id": "TNzlXxSJdPSy",
        "colab": {
          "base_uri": "https://localhost:8080/"
        },
        "outputId": "8c0ed91e-50f0-4086-f0c6-7dc3f24a91bd"
      },
      "source": [
        "# import Sastrawi package\n",
        "from Sastrawi.Stemmer.StemmerFactory import StemmerFactory\n",
        "import swifter\n",
        "\n",
        "# create stemmer\n",
        "factory = StemmerFactory()\n",
        "stemmer = factory.create_stemmer()\n",
        "\n",
        "# stemmed\n",
        "def stemmed_wrapper(term):\n",
        "    return stemmer.stem(term)\n",
        "\n",
        "term_dict = {}\n",
        "\n",
        "for document in dataSB['textdata_normalized']:\n",
        "    for term in document:\n",
        "        if term not in term_dict:\n",
        "            term_dict[term] = ' '\n",
        "\n",
        "print(len(term_dict))\n"
      ],
      "execution_count": 19,
      "outputs": [
        {
          "output_type": "stream",
          "name": "stdout",
          "text": [
            "4381\n"
          ]
        }
      ]
    },
    {
      "cell_type": "markdown",
      "source": [
        "Agak lama"
      ],
      "metadata": {
        "id": "unRYztWdKkhp"
      }
    },
    {
      "cell_type": "code",
      "metadata": {
        "scrolled": true,
        "id": "Kvkan257dPS1"
      },
      "source": [
        "for term in term_dict:\n",
        "    term_dict[term] = stemmed_wrapper(term)\n",
        "\n",
        "    # untuk melihat hasilnya silahkan jalankan baris di bawah ini\n",
        "    # print(term,\":\" ,term_dict[term])"
      ],
      "execution_count": 20,
      "outputs": []
    },
    {
      "cell_type": "code",
      "metadata": {
        "colab": {
          "base_uri": "https://localhost:8080/",
          "height": 268,
          "referenced_widgets": [
            "9580a65a46b14a3b8bd130f2d79be456",
            "d5ea94e2332c4d85bd913a6da885b93a",
            "65ca35f0c0ca4e6baf94b02f691e8df6",
            "545ad766443249638de72fb5f968483f",
            "0a7622f06ab34419bd51fa2cf383a537",
            "e576dbff0e3141a090ad2a23dedf54ed",
            "d151e75a3218448fa4ad2cc53eb68a30",
            "661e7ef4aba84068ac23fbdec835bb24",
            "add37356bda94538946e3dbdfb448b0e",
            "8c73110c6f2647eda5176d8dd3bc0d79",
            "ed91bbb3491e474ba56420e596d68df0"
          ]
        },
        "id": "OWpFQKehdPS2",
        "outputId": "40608c3f-2f24-4b22-b6ad-cf3156021c68"
      },
      "source": [
        "# apply stemmed term to dataframe\n",
        "def get_stemmed_term(document):\n",
        "    return [term_dict[term] for term in document]\n",
        "\n",
        "dataSB['textdata_tokens_stemmed'] = dataSB['textdata_normalized'].swifter.apply(get_stemmed_term)\n",
        "\n",
        "print(dataSB['textdata_tokens_stemmed'])"
      ],
      "execution_count": 21,
      "outputs": [
        {
          "output_type": "display_data",
          "data": {
            "text/plain": [
              "Pandas Apply:   0%|          | 0/2081 [00:00<?, ?it/s]"
            ],
            "application/vnd.jupyter.widget-view+json": {
              "version_major": 2,
              "version_minor": 0,
              "model_id": "9580a65a46b14a3b8bd130f2d79be456"
            }
          },
          "metadata": {}
        },
        {
          "output_type": "stream",
          "name": "stdout",
          "text": [
            "0                                 [namay, rafael, nguyen]\n",
            "1                                           [breasy, jay]\n",
            "2                          [nguyen, sound, system, horeg]\n",
            "3                         [wajib, hatihati, tara, neymar]\n",
            "4                                                [ngaruh]\n",
            "                              ...                        \n",
            "2076                   [smg, sukses, nak, gabung, timnas]\n",
            "2077                                               [umur]\n",
            "2078                        [suara, bagus, nyanyi, fasih]\n",
            "2079    [nyanyi, rusak, mental, atlet, suport, sepak, ...\n",
            "2080    [bwaduh, suruh, yanyibbrbkira, audisi, nyanyi,...\n",
            "Name: textdata_tokens_stemmed, Length: 2081, dtype: object\n"
          ]
        }
      ]
    },
    {
      "cell_type": "code",
      "metadata": {
        "id": "Lc6tEmgadPS2",
        "colab": {
          "base_uri": "https://localhost:8080/"
        },
        "outputId": "9d6365b9-943a-4f5e-a763-751c03250292"
      },
      "source": [
        "#stopwords #2\n",
        "\n",
        "from nltk.corpus import stopwords\n",
        "\n",
        "# ----------------------- get stopword from NLTK stopword -------------------------------\n",
        "# get stopword indonesia\n",
        "list_stopwords = stopwords.words('indonesian')\n",
        "\n",
        "\n",
        "# ---------------------------- manualy add stopword  ------------------------------------\n",
        "# append additional stopword\n",
        "list_stopwords.extend(['ole','krn','org','ki','sdh','mu','kirain',\n",
        "                       'da','udah','aja','tp','bgt','ma','jd','utk',\n",
        "                       'gk','gak','dgn','bro','tau','klo','bh','sih',\n",
        "                       'nak','nih','nya','ayo','ya','kalo','ga','mah',\n",
        "                       'bh','ni','ma','jgn','d','si','dr','tdk','biar',\n",
        "                       'yg','semoga','banget','bwaduh'])\n",
        "\n",
        "# convert list to dictionary\n",
        "list_stopwords = set(list_stopwords)\n",
        "\n",
        "#remove stopword pada list token\n",
        "def stopwords_removal(words):\n",
        "    return [word for word in words if word not in list_stopwords]\n",
        "\n",
        "dataSB['textdata_tokens_stemmed2'] = dataSB['textdata_tokens_stemmed'].apply(stopwords_removal)\n",
        "\n",
        "print(dataSB['textdata_tokens_stemmed2'].head())"
      ],
      "execution_count": 22,
      "outputs": [
        {
          "output_type": "stream",
          "name": "stdout",
          "text": [
            "0            [namay, rafael, nguyen]\n",
            "1                      [breasy, jay]\n",
            "2     [nguyen, sound, system, horeg]\n",
            "3    [wajib, hatihati, tara, neymar]\n",
            "4                           [ngaruh]\n",
            "Name: textdata_tokens_stemmed2, dtype: object\n"
          ]
        }
      ]
    },
    {
      "cell_type": "code",
      "metadata": {
        "id": "bWZQiEXPdPS3",
        "colab": {
          "base_uri": "https://localhost:8080/"
        },
        "outputId": "2799f2a6-0f2f-4bd0-e841-a5a2b973399c"
      },
      "source": [
        "for i in range(len(dataSB)):\n",
        "        a=dataSB.iloc[i][6]\n",
        "        document.append(a)\n",
        "\n",
        "document[0:5]"
      ],
      "execution_count": 23,
      "outputs": [
        {
          "output_type": "execute_result",
          "data": {
            "text/plain": [
              "['bwaduh', 'suruh', 'yanyibbrbkira', 'audisi', 'nyanyi']"
            ]
          },
          "metadata": {},
          "execution_count": 23
        }
      ]
    },
    {
      "cell_type": "code",
      "metadata": {
        "id": "uhGB8a3HdPS3",
        "colab": {
          "base_uri": "https://localhost:8080/",
          "height": 458
        },
        "outputId": "f1009ac5-bf59-4656-cdcb-91bc19270598"
      },
      "source": [
        "doc_clean = dataSB['textdata_tokens_stemmed2']\n",
        "doc_clean"
      ],
      "execution_count": 24,
      "outputs": [
        {
          "output_type": "execute_result",
          "data": {
            "text/plain": [
              "0                                 [namay, rafael, nguyen]\n",
              "1                                           [breasy, jay]\n",
              "2                          [nguyen, sound, system, horeg]\n",
              "3                         [wajib, hatihati, tara, neymar]\n",
              "4                                                [ngaruh]\n",
              "                              ...                        \n",
              "2076                        [smg, sukses, gabung, timnas]\n",
              "2077                                               [umur]\n",
              "2078                        [suara, bagus, nyanyi, fasih]\n",
              "2079    [nyanyi, rusak, mental, atlet, suport, sepak, ...\n",
              "2080    [suruh, yanyibbrbkira, audisi, nyanyi, koplo, ...\n",
              "Name: textdata_tokens_stemmed2, Length: 2081, dtype: object"
            ],
            "text/html": [
              "<div>\n",
              "<style scoped>\n",
              "    .dataframe tbody tr th:only-of-type {\n",
              "        vertical-align: middle;\n",
              "    }\n",
              "\n",
              "    .dataframe tbody tr th {\n",
              "        vertical-align: top;\n",
              "    }\n",
              "\n",
              "    .dataframe thead th {\n",
              "        text-align: right;\n",
              "    }\n",
              "</style>\n",
              "<table border=\"1\" class=\"dataframe\">\n",
              "  <thead>\n",
              "    <tr style=\"text-align: right;\">\n",
              "      <th></th>\n",
              "      <th>textdata_tokens_stemmed2</th>\n",
              "    </tr>\n",
              "  </thead>\n",
              "  <tbody>\n",
              "    <tr>\n",
              "      <th>0</th>\n",
              "      <td>[namay, rafael, nguyen]</td>\n",
              "    </tr>\n",
              "    <tr>\n",
              "      <th>1</th>\n",
              "      <td>[breasy, jay]</td>\n",
              "    </tr>\n",
              "    <tr>\n",
              "      <th>2</th>\n",
              "      <td>[nguyen, sound, system, horeg]</td>\n",
              "    </tr>\n",
              "    <tr>\n",
              "      <th>3</th>\n",
              "      <td>[wajib, hatihati, tara, neymar]</td>\n",
              "    </tr>\n",
              "    <tr>\n",
              "      <th>4</th>\n",
              "      <td>[ngaruh]</td>\n",
              "    </tr>\n",
              "    <tr>\n",
              "      <th>...</th>\n",
              "      <td>...</td>\n",
              "    </tr>\n",
              "    <tr>\n",
              "      <th>2076</th>\n",
              "      <td>[smg, sukses, gabung, timnas]</td>\n",
              "    </tr>\n",
              "    <tr>\n",
              "      <th>2077</th>\n",
              "      <td>[umur]</td>\n",
              "    </tr>\n",
              "    <tr>\n",
              "      <th>2078</th>\n",
              "      <td>[suara, bagus, nyanyi, fasih]</td>\n",
              "    </tr>\n",
              "    <tr>\n",
              "      <th>2079</th>\n",
              "      <td>[nyanyi, rusak, mental, atlet, suport, sepak, ...</td>\n",
              "    </tr>\n",
              "    <tr>\n",
              "      <th>2080</th>\n",
              "      <td>[suruh, yanyibbrbkira, audisi, nyanyi, koplo, ...</td>\n",
              "    </tr>\n",
              "  </tbody>\n",
              "</table>\n",
              "<p>2081 rows × 1 columns</p>\n",
              "</div><br><label><b>dtype:</b> object</label>"
            ]
          },
          "metadata": {},
          "execution_count": 24
        }
      ]
    },
    {
      "source": [
        "doc_clean_df = pd.DataFrame(doc_clean, columns=['cleaned_text'])\n",
        "doc_clean_df['cleaned_text'] = doc_clean_df['cleaned_text'].apply(lambda x: ' '.join(x))\n",
        "file_path = '/content/drive/MyDrive/LDA_Tpoic_Modelling/LDA Naturalisas/doc_clean.csv'\n",
        "doc_clean_df.to_csv(file_path, index=False)\n",
        "\n",
        "print(f\"doc_clean saved to: {file_path}\")"
      ],
      "cell_type": "code",
      "metadata": {
        "id": "X6CSPVIFilrx",
        "outputId": "6456554e-f327-4fda-d705-d47b27914898",
        "colab": {
          "base_uri": "https://localhost:8080/"
        }
      },
      "execution_count": 25,
      "outputs": [
        {
          "output_type": "stream",
          "name": "stdout",
          "text": [
            "doc_clean saved to: /content/drive/MyDrive/LDA_Tpoic_Modelling/LDA Naturalisas/doc_clean.csv\n"
          ]
        }
      ]
    },
    {
      "cell_type": "markdown",
      "source": [
        "# Membuat Word Cloud"
      ],
      "metadata": {
        "id": "FPHYoVNahikv"
      }
    },
    {
      "source": [
        "import matplotlib.pyplot as plt\n",
        "from wordcloud import WordCloud, STOPWORDS\n",
        "from google.colab import drive\n",
        "\n",
        "# Mount Google Drive\n",
        "#drive.mount('/content/drive')\n",
        "\n",
        "# Gabungkan semua token yang telah dibersihkan menjadi satu string teks\n",
        "all_words = ' '.join([' '.join(tokens) for tokens in dataSB['textdata_tokens_stemmed2']])\n",
        "\n",
        "# Buat objek WordCloud\n",
        "wordcloud = WordCloud(width=800, height=400,\n",
        "                      background_color='white',\n",
        "                      stopwords=STOPWORDS,\n",
        "                      min_font_size=10).generate(all_words)\n",
        "\n",
        "# Tampilkan word cloud\n",
        "plt.figure(figsize=(8, 8), facecolor=None)\n",
        "plt.imshow(wordcloud)\n",
        "plt.axis(\"off\")\n",
        "plt.tight_layout(pad=0)\n",
        "plt.show()\n",
        "\n",
        "# Simpan word cloud dalam format JPG\n",
        "wordcloud.to_file('/content/drive/My Drive/wordcloud2.jpg')\n",
        "\n",
        "# Simpan word cloud dalam format PNG\n",
        "wordcloud.to_file('/content/drive/My Drive/wordcloud2.png')\n",
        "\n",
        "print(\"Word cloud telah disimpan di Google Drive Anda.\")"
      ],
      "cell_type": "code",
      "metadata": {
        "colab": {
          "base_uri": "https://localhost:8080/",
          "height": 356
        },
        "id": "1gil4r5IHRoK",
        "outputId": "995876bd-1b3d-4da5-c389-86531c17c7e7"
      },
      "execution_count": 27,
      "outputs": [
        {
          "output_type": "display_data",
          "data": {
            "text/plain": [
              "<Figure size 800x800 with 1 Axes>"
            ],
            "image/png": "[encoded data removed]"
          },
          "metadata": {}
        },
        {
          "output_type": "stream",
          "name": "stdout",
          "text": [
            "Word cloud telah disimpan di Google Drive Anda.\n"
          ]
        }
      ]
    },
    {
      "cell_type": "markdown",
      "metadata": {
        "id": "7IpABMN5dPS4"
      },
      "source": [
        "# LDA model using gensim\n",
        "Proses topic modeling dengan LDA gensim"
      ]
    },
    {
      "cell_type": "code",
      "metadata": {
        "id": "gsrO1YZcdPS3",
        "colab": {
          "base_uri": "https://localhost:8080/"
        },
        "outputId": "bb2324ca-3593-4261-f0b0-5f5485087d44"
      },
      "source": [
        "import gensim\n",
        "from gensim import corpora\n",
        "\n",
        "dictionary = corpora.Dictionary(doc_clean)\n",
        "print(dictionary)\n",
        "\n",
        "doc_term_matrix = [dictionary.doc2bow(doc) for doc in doc_clean]"
      ],
      "execution_count": 28,
      "outputs": [
        {
          "output_type": "stream",
          "name": "stdout",
          "text": [
            "Dictionary<3723 unique tokens: ['namay', 'nguyen', 'rafael', 'breasy', 'jay']...>\n"
          ]
        }
      ]
    },
    {
      "cell_type": "code",
      "metadata": {
        "id": "IjX9uZ-udPS4"
      },
      "source": [
        "# Creating the object for LDA model using gensim library\n",
        "Lda = gensim.models.ldamodel.LdaModel\n",
        "\n",
        "total_topics = 10 # jumlah topik yang akan di extract\n",
        "number_words = 10 # jumlah kata per topik"
      ],
      "execution_count": 29,
      "outputs": []
    },
    {
      "cell_type": "code",
      "metadata": {
        "id": "NcPeAh8PdPS4",
        "colab": {
          "base_uri": "https://localhost:8080/"
        },
        "outputId": "d29f8326-8931-4f2f-a2da-f4b6b6fbefdc"
      },
      "source": [
        "# Running and Trainign LDA model on the document term matrix.\n",
        "lda_model = Lda(doc_term_matrix, num_topics=total_topics, id2word = dictionary, passes=50)\n",
        "\n",
        "lda_model.show_topics(num_topics=total_topics, num_words=number_words)"
      ],
      "execution_count": 30,
      "outputs": [
        {
          "output_type": "execute_result",
          "data": {
            "text/plain": [
              "[(0,\n",
              "  '0.048*\"towel\" + 0.042*\"main\" + 0.039*\"nama\" + 0.033*\"indonesia\" + 0.028*\"belanda\" + 0.027*\"lahir\" + 0.025*\"suka\" + 0.022*\"hy\" + 0.022*\"turun\" + 0.017*\"orang\"'),\n",
              " (1,\n",
              "  '0.032*\"sehat\" + 0.025*\"liat\" + 0.019*\"dah\" + 0.018*\"aff\" + 0.017*\"indonesia\" + 0.016*\"nguyen\" + 0.016*\"rakyat\" + 0.015*\"cerdas\" + 0.014*\"bukti\" + 0.014*\"moga\"'),\n",
              " (2,\n",
              "  '0.074*\"bola\" + 0.052*\"indonesia\" + 0.051*\"sepak\" + 0.039*\"nyanyi\" + 0.024*\"fasih\" + 0.018*\"dn\" + 0.018*\"maju\" + 0.014*\"towel\" + 0.014*\"suruh\" + 0.014*\"aj\"'),\n",
              " (3,\n",
              "  '0.026*\"aamiin\" + 0.026*\"umur\" + 0.025*\"moga\" + 0.024*\"semangat\" + 0.021*\"merah\" + 0.021*\"putih\" + 0.020*\"kembang\" + 0.020*\"dasar\" + 0.020*\"bela\" + 0.019*\"atlet\"'),\n",
              " (4,\n",
              "  '0.051*\"bagus\" + 0.051*\"asli\" + 0.051*\"jakarta\" + 0.041*\"sudan\" + 0.029*\"suara\" + 0.025*\"lahir\" + 0.018*\"orang\" + 0.016*\"ngomong\" + 0.015*\"dubbing\" + 0.015*\"main\"'),\n",
              " (5,\n",
              "  '0.135*\"indonesia\" + 0.051*\"bahasa\" + 0.035*\"mantap\" + 0.031*\"timnas\" + 0.027*\"main\" + 0.018*\"alhamdulillah\" + 0.016*\"lahir\" + 0.014*\"lancar\" + 0.014*\"tim\" + 0.013*\"dunia\"'),\n",
              " (6,\n",
              "  '0.064*\"indonesia\" + 0.046*\"orang\" + 0.027*\"tata\" + 0.023*\"tua\" + 0.023*\"turun\" + 0.022*\"lahir\" + 0.018*\"bule\" + 0.016*\"bangga\" + 0.016*\"afrika\" + 0.014*\"muda\"'),\n",
              " (7,\n",
              "  '0.046*\"anak\" + 0.030*\"hamzah\" + 0.028*\"bicara\" + 0.021*\"top\" + 0.021*\"meshaal\" + 0.021*\"indonesia\" + 0.019*\"kn\" + 0.019*\"agama\" + 0.019*\"main\" + 0.018*\"kak\"'),\n",
              " (8,\n",
              "  '0.080*\"main\" + 0.028*\"latih\" + 0.016*\"erik\" + 0.015*\"kaya\" + 0.014*\"shin tae-yong\" + 0.013*\"klub\" + 0.013*\"alhamdulilah\" + 0.013*\"ketua\" + 0.013*\"tohir\" + 0.012*\"indra\"'),\n",
              " (9,\n",
              "  '0.058*\"moga\" + 0.049*\"sukses\" + 0.048*\"timnas\" + 0.035*\"bela\" + 0.032*\"semangat\" + 0.031*\"allah\" + 0.031*\"gabung\" + 0.022*\"pssi\" + 0.016*\"naturalisasi\" + 0.014*\"negara\"')]"
            ]
          },
          "metadata": {},
          "execution_count": 30
        }
      ]
    },
    {
      "cell_type": "code",
      "metadata": {
        "id": "WrqQ9VKidPS4",
        "colab": {
          "base_uri": "https://localhost:8080/"
        },
        "outputId": "e10bb455-928e-4285-acbb-4053c1e1abce"
      },
      "source": [
        "# Word Count of Topic Keywords\n",
        "\n",
        "from collections import Counter\n",
        "topics = lda_model.show_topics(formatted=False)\n",
        "data_flat = [w for w_list in doc_clean for w in w_list]\n",
        "counter = Counter(data_flat)\n",
        "\n",
        "out = []\n",
        "for i, topic in topics:\n",
        "    for word, weight in topic:\n",
        "        out.append([word, i , weight, counter[word]])\n",
        "\n",
        "df_imp_wcount_naturalisasi = pd.DataFrame(out, columns=['word', 'topic_id', 'importance', 'word_count'])\n",
        "print(df_imp_wcount_naturalisasi)"
      ],
      "execution_count": 31,
      "outputs": [
        {
          "output_type": "stream",
          "name": "stdout",
          "text": [
            "            word  topic_id  importance  word_count\n",
            "0          towel         0    0.047521          18\n",
            "1           main         0    0.041943         380\n",
            "2           nama         0    0.039183          78\n",
            "3      indonesia         0    0.033258         640\n",
            "4        belanda         0    0.027920         116\n",
            "..           ...       ...         ...         ...\n",
            "95         allah         9    0.030920          31\n",
            "96        gabung         9    0.030651          30\n",
            "97          pssi         9    0.021832          29\n",
            "98  naturalisasi         9    0.015689         106\n",
            "99        negara         9    0.014205          97\n",
            "\n",
            "[100 rows x 4 columns]\n"
          ]
        }
      ]
    },
    {
      "cell_type": "code",
      "metadata": {
        "id": "dF8NhoAzqtcQ"
      },
      "source": [
        "#simpan ke google drive\n",
        "df_imp_wcount_naturalisasi.to_csv('df_imp_wcount_naturalisasi.csv')\n",
        "!cp df_imp_wcount_naturalisasi.csv \"/content/drive/MyDrive/LDA_Tpoic_Modelling/LDA Naturalisas/\""
      ],
      "execution_count": 35,
      "outputs": []
    },
    {
      "source": [
        "# ... your code ...\n",
        "\n",
        "#simpan ke google drive\n",
        "df_imp_wcount_naturalisasi.to_csv('df_imp_wcount.csv')\n",
        "\n",
        "# Create the target directory\n",
        "!mkdir -p \"drive/My Drive/LDA_Tpoic_Modelling/LDA Naturalisas\"\n",
        "\n",
        "# Copy the file to the target directory with the file name\n",
        "!cp df_imp_wcount_naturalisasi.csv \"drive/My Drive/LDA_Tpoic_Modelling/LDA Naturalisas/df_imp_wcount.csv\"\n",
        "\n",
        "# ... rest of your code ..."
      ],
      "cell_type": "code",
      "metadata": {
        "id": "qk_314hWCFl9"
      },
      "execution_count": 36,
      "outputs": []
    },
    {
      "cell_type": "code",
      "metadata": {
        "id": "u_fmI6SedPS4"
      },
      "source": [
        "#jika simpan ke local drive\n",
        "#filedisimpan='df_imp_wcount.xlsx'\n",
        "#df_imp_wcount.to_excel(filedisimpan, index = False, header=True)"
      ],
      "execution_count": 37,
      "outputs": []
    },
    {
      "source": [
        "# Dominan topic and its percentage contribution in each topic\n",
        "def format_topics_sentences(ldamodel=None, corpus=doc_term_matrix, texts=document):\n",
        "    # Init output\n",
        "    sent_topics_df = []  # Initialize as a list to store rows\n",
        "\n",
        "    # Get main topic in each document\n",
        "    for i, row_list in enumerate(ldamodel[corpus]):\n",
        "        row = row_list[0] if ldamodel.per_word_topics else row_list\n",
        "        # print(row)\n",
        "        row = sorted(row, key=lambda x: (x[1]), reverse=True)\n",
        "        # Get the Dominant topic, Perc Contribution and Keywords for each document\n",
        "        for j, (topic_num, prop_topic) in enumerate(row):\n",
        "            if j == 0:  # => dominant topic\n",
        "                wp = ldamodel.show_topic(topic_num)\n",
        "                topic_keywords = \", \".join([word for word, prop in wp])\n",
        "                # Append a new row as a dictionary to the list\n",
        "                sent_topics_df.append({\n",
        "                    'Dominant_Topic': int(topic_num),\n",
        "                    'Perc_Contribution': round(prop_topic, 4),\n",
        "                    'Topic_Keywords': topic_keywords\n",
        "                })\n",
        "            else:\n",
        "                break\n",
        "\n",
        "    # Create DataFrame after the loop\n",
        "    sent_topics_df = pd.DataFrame(sent_topics_df)\n",
        "\n",
        "    # Add original text to the end of the output\n",
        "    contents = pd.Series(texts)\n",
        "    sent_topics_df = pd.concat([sent_topics_df, contents], axis=1)\n",
        "\n",
        "    return(sent_topics_df)\n",
        "\n",
        "# Call the function and assign the result to df_dominant_topic\n",
        "df_topic_sents_keywords = format_topics_sentences(ldamodel=lda_model, corpus=doc_term_matrix, texts=doc_clean)\n",
        "df_dominant_topic_naturalisasi = df_topic_sents_keywords.reset_index()\n",
        "df_dominant_topic_naturalisasi.columns = ['Document_No', 'Dominant_Topic', 'Topic_Perc_Contrib', 'Keywords', 'Text']\n",
        "\n",
        "# Now you can save it to a CSV file\n",
        "df_dominant_topic_naturalisasi.to_csv('df_dominant_topic.csv')\n",
        "!cp df_dominant_topic_naturalisasi.csv \"/content/drive/MyDrive/LDA_Tpoic_Modelling/LDA Naturalisas/\""
      ],
      "cell_type": "code",
      "metadata": {
        "id": "7bQmry12DqF6",
        "colab": {
          "base_uri": "https://localhost:8080/"
        },
        "outputId": "5fc75ae2-b3c4-4b85-868c-86755bc5150b"
      },
      "execution_count": 38,
      "outputs": [
        {
          "output_type": "stream",
          "name": "stdout",
          "text": [
            "cp: cannot stat 'df_dominant_topic_naturalisasi.csv': No such file or directory\n"
          ]
        }
      ]
    },
    {
      "cell_type": "code",
      "metadata": {
        "id": "uxlqTXuip97X"
      },
      "source": [
        "#simpan ke google drive\n",
        "df_dominant_topic_naturalisasi.to_csv('df_dominant_topic_naturalisasi.csv')\n",
        "!cp df_dominant_topic_naturalisasi.csv \"/content/drive/MyDrive/LDA_Tpoic_Modelling/LDA Naturalisas/\""
      ],
      "execution_count": 39,
      "outputs": []
    },
    {
      "cell_type": "code",
      "metadata": {
        "id": "3tVzJCX5dPS5"
      },
      "source": [
        "# jika simpan ke local drive\n",
        "# filedisimpan='df_dominant_topic.xlsx'\n",
        "# df_dominant_topic.to_excel(filedisimpan, index = False, header=True)"
      ],
      "execution_count": 40,
      "outputs": []
    },
    {
      "cell_type": "code",
      "metadata": {
        "id": "CPxZdk2adPS5"
      },
      "source": [
        "import pyLDAvis.gensim\n",
        "import pickle\n",
        "import pyLDAvis\n",
        "# Visualize the topics\n",
        "pyLDAvis.enable_notebook()"
      ],
      "execution_count": 41,
      "outputs": []
    },
    {
      "cell_type": "code",
      "metadata": {
        "id": "Yh7qhTZadPS5",
        "colab": {
          "base_uri": "https://localhost:8080/"
        },
        "outputId": "b79b212e-7b8c-4044-d976-c6d9c2b72721"
      },
      "source": [
        "import os\n",
        "LDAvis_data_filepath = os.path.join('ldavis_prepared_naturalisasi'+str(total_topics))"
      ],
      "execution_count": 42,
      "outputs": [
        {
          "output_type": "stream",
          "name": "stderr",
          "text": [
            "/usr/local/lib/python3.10/dist-packages/ipykernel/ipkernel.py:283: DeprecationWarning: `should_run_async` will not call `transform_cell` automatically in the future. Please pass the result to `transformed_cell` argument and any exception that happen during thetransform in `preprocessing_exc_tuple` in IPython 7.17 and above.\n",
            "  and should_run_async(code)\n"
          ]
        }
      ]
    },
    {
      "cell_type": "code",
      "metadata": {
        "id": "AtNwD5fcdPS5",
        "colab": {
          "base_uri": "https://localhost:8080/"
        },
        "outputId": "51067d8e-a4a5-43d9-ec3a-307009a3ed14"
      },
      "source": [
        "corpus = [dictionary.doc2bow(text) for text in doc_clean]"
      ],
      "execution_count": 43,
      "outputs": [
        {
          "output_type": "stream",
          "name": "stderr",
          "text": [
            "/usr/local/lib/python3.10/dist-packages/ipykernel/ipkernel.py:283: DeprecationWarning: `should_run_async` will not call `transform_cell` automatically in the future. Please pass the result to `transformed_cell` argument and any exception that happen during thetransform in `preprocessing_exc_tuple` in IPython 7.17 and above.\n",
            "  and should_run_async(code)\n"
          ]
        }
      ]
    },
    {
      "source": [
        "!pip install --upgrade pandas"
      ],
      "cell_type": "code",
      "metadata": {
        "colab": {
          "base_uri": "https://localhost:8080/"
        },
        "id": "pcLWKAZ-G8yX",
        "outputId": "038dd304-573c-421b-da51-a9850afdd050"
      },
      "execution_count": 44,
      "outputs": [
        {
          "output_type": "stream",
          "name": "stderr",
          "text": [
            "/usr/local/lib/python3.10/dist-packages/ipykernel/ipkernel.py:283: DeprecationWarning: `should_run_async` will not call `transform_cell` automatically in the future. Please pass the result to `transformed_cell` argument and any exception that happen during thetransform in `preprocessing_exc_tuple` in IPython 7.17 and above.\n",
            "  and should_run_async(code)\n"
          ]
        },
        {
          "output_type": "stream",
          "name": "stdout",
          "text": [
            "Requirement already satisfied: pandas in /usr/local/lib/python3.10/dist-packages (2.2.2)\n",
            "Collecting pandas\n",
            "  Downloading pandas-2.2.3-cp310-cp310-manylinux_2_17_x86_64.manylinux2014_x86_64.whl.metadata (89 kB)\n",
            "\u001b[2K     \u001b[90m━━━━━━━━━━━━━━━━━━━━━━━━━━━━━━━━━━━━━━━━\u001b[0m \u001b[32m89.9/89.9 kB\u001b[0m \u001b[31m2.6 MB/s\u001b[0m eta \u001b[36m0:00:00\u001b[0m\n",
            "\u001b[?25hRequirement already satisfied: numpy>=1.22.4 in /usr/local/lib/python3.10/dist-packages (from pandas) (1.26.4)\n",
            "Requirement already satisfied: python-dateutil>=2.8.2 in /usr/local/lib/python3.10/dist-packages (from pandas) (2.8.2)\n",
            "Requirement already satisfied: pytz>=2020.1 in /usr/local/lib/python3.10/dist-packages (from pandas) (2024.2)\n",
            "Requirement already satisfied: tzdata>=2022.7 in /usr/local/lib/python3.10/dist-packages (from pandas) (2024.2)\n",
            "Requirement already satisfied: six>=1.5 in /usr/local/lib/python3.10/dist-packages (from python-dateutil>=2.8.2->pandas) (1.16.0)\n",
            "Downloading pandas-2.2.3-cp310-cp310-manylinux_2_17_x86_64.manylinux2014_x86_64.whl (13.1 MB)\n",
            "\u001b[2K   \u001b[90m━━━━━━━━━━━━━━━━━━━━━━━━━━━━━━━━━━━━━━━━\u001b[0m \u001b[32m13.1/13.1 MB\u001b[0m \u001b[31m81.4 MB/s\u001b[0m eta \u001b[36m0:00:00\u001b[0m\n",
            "\u001b[?25hInstalling collected packages: pandas\n",
            "  Attempting uninstall: pandas\n",
            "    Found existing installation: pandas 2.2.2\n",
            "    Uninstalling pandas-2.2.2:\n",
            "      Successfully uninstalled pandas-2.2.2\n",
            "\u001b[31mERROR: pip's dependency resolver does not currently take into account all the packages that are installed. This behaviour is the source of the following dependency conflicts.\n",
            "cudf-cu12 24.10.1 requires pandas<2.2.3dev0,>=2.0, but you have pandas 2.2.3 which is incompatible.\n",
            "google-colab 1.0.0 requires pandas==2.2.2, but you have pandas 2.2.3 which is incompatible.\u001b[0m\u001b[31m\n",
            "\u001b[0mSuccessfully installed pandas-2.2.3\n"
          ]
        }
      ]
    },
    {
      "source": [
        "# proses ini mungkin agak lama\n",
        "if 1 == 1:\n",
        "    LDAvis_prepared_naturalisasi = pyLDAvis.gensim.prepare(lda_model, corpus, dictionary)\n",
        "    with open(LDAvis_data_filepath, 'wb') as f:\n",
        "        pickle.dump(LDAvis_prepared_naturalisasi, f)"
      ],
      "cell_type": "code",
      "metadata": {
        "colab": {
          "base_uri": "https://localhost:8080/"
        },
        "id": "lV0DBQuuHmFz",
        "outputId": "74ed51a9-4e89-47ce-c80c-956d0243636d"
      },
      "execution_count": 47,
      "outputs": [
        {
          "output_type": "stream",
          "name": "stderr",
          "text": [
            "/usr/local/lib/python3.10/dist-packages/ipykernel/ipkernel.py:283: DeprecationWarning: `should_run_async` will not call `transform_cell` automatically in the future. Please pass the result to `transformed_cell` argument and any exception that happen during thetransform in `preprocessing_exc_tuple` in IPython 7.17 and above.\n",
            "  and should_run_async(code)\n"
          ]
        }
      ]
    },
    {
      "cell_type": "code",
      "metadata": {
        "id": "436P-l4udPS5",
        "colab": {
          "base_uri": "https://localhost:8080/"
        },
        "outputId": "d9a0ffd4-beba-4f6d-f188-89c42d2a9d74"
      },
      "source": [
        "# load the pre-prepared pyLDAvis data from disk\n",
        "with open(LDAvis_data_filepath, 'rb') as f:\n",
        "    LDAis_prepared_naturalisasi = pickle.load(f)"
      ],
      "execution_count": 48,
      "outputs": [
        {
          "output_type": "stream",
          "name": "stderr",
          "text": [
            "/usr/local/lib/python3.10/dist-packages/ipykernel/ipkernel.py:283: DeprecationWarning: `should_run_async` will not call `transform_cell` automatically in the future. Please pass the result to `transformed_cell` argument and any exception that happen during thetransform in `preprocessing_exc_tuple` in IPython 7.17 and above.\n",
            "  and should_run_async(code)\n"
          ]
        }
      ]
    },
    {
      "cell_type": "code",
      "metadata": {
        "id": "Uk4RnnzSdPS5",
        "colab": {
          "base_uri": "https://localhost:8080/"
        },
        "outputId": "6f24cd90-2b24-4c06-8c6c-67e5beda7e3c"
      },
      "source": [
        "pyLDAvis.save_html(ldavis_prepared_naturalisasi, '/content/drive/MyDrive/LDA_Tpoic_Modelling/LDA Naturalisas/LDAvis_prepared_naturalisasi'+ str(total_topics) +'.html')"
      ],
      "execution_count": 49,
      "outputs": [
        {
          "output_type": "stream",
          "name": "stderr",
          "text": [
            "/usr/local/lib/python3.10/dist-packages/ipykernel/ipkernel.py:283: DeprecationWarning: `should_run_async` will not call `transform_cell` automatically in the future. Please pass the result to `transformed_cell` argument and any exception that happen during thetransform in `preprocessing_exc_tuple` in IPython 7.17 and above.\n",
            "  and should_run_async(code)\n"
          ]
        }
      ]
    },
    {
      "cell_type": "code",
      "metadata": {
        "id": "dRBL8ZqcdPS6",
        "colab": {
          "base_uri": "https://localhost:8080/",
          "height": 917
        },
        "outputId": "88239480-227c-4386-93cd-68f323755242"
      },
      "source": [
        "# proses ini mungkin agak lama\n",
        "LDAvis_prepared_naturalisasi"
      ],
      "execution_count": 50,
      "outputs": [
        {
          "output_type": "stream",
          "name": "stderr",
          "text": [
            "/usr/local/lib/python3.10/dist-packages/ipykernel/ipkernel.py:283: DeprecationWarning: `should_run_async` will not call `transform_cell` automatically in the future. Please pass the result to `transformed_cell` argument and any exception that happen during thetransform in `preprocessing_exc_tuple` in IPython 7.17 and above.\n",
            "  and should_run_async(code)\n"
          ]
        },
        {
          "output_type": "execute_result",
          "data": {
            "text/plain": [
              "PreparedData(topic_coordinates=              x         y  topics  cluster       Freq\n",
              "topic                                                \n",
              "5     -0.087011  0.155668       1        1  24.722759\n",
              "9      0.256391  0.145178       2        1  11.563523\n",
              "8      0.048514 -0.094988       3        1  11.209779\n",
              "0     -0.101207 -0.008240       4        1   9.717973\n",
              "7     -0.110766  0.030292       5        1   9.276657\n",
              "6     -0.161985 -0.010940       6        1   9.004994\n",
              "1      0.068593 -0.142121       7        1   7.604081\n",
              "4     -0.036334  0.089609       8        1   6.587878\n",
              "2     -0.003540 -0.119398       9        1   5.697302\n",
              "3      0.127345 -0.045061      10        1   4.615054, topic_info=           Term        Freq       Total Category  logprob  loglift\n",
              "22    indonesia  604.000000  604.000000  Default  30.0000  30.0000\n",
              "1052     bahasa  157.000000  157.000000  Default  29.0000  29.0000\n",
              "16         main  279.000000  279.000000  Default  28.0000  28.0000\n",
              "42       timnas  173.000000  173.000000  Default  27.0000  27.0000\n",
              "108        moga  149.000000  149.000000  Default  26.0000  26.0000\n",
              "...         ...         ...         ...      ...      ...      ...\n",
              "1710    terbang    1.504233    4.522422  Topic10  -5.9431   1.9751\n",
              "1862         ho    2.414539   23.601306  Topic10  -5.4699   0.7961\n",
              "1865         ru    2.414539   23.601306  Topic10  -5.4699   0.7961\n",
              "679       keren    2.176196   17.635298  Topic10  -5.5738   0.9835\n",
              "555      garuda    1.988201   47.735101  Topic10  -5.6641  -0.1026\n",
              "\n",
              "[458 rows x 6 columns], token_table=      Topic      Freq    Term\n",
              "term                         \n",
              "439       2  0.535977  aamiin\n",
              "439      10  0.446648  aamiin\n",
              "27        7  0.971370     aff\n",
              "2087      6  0.961955  afrika\n",
              "2552      5  0.980533   agama\n",
              "...     ...       ...     ...\n",
              "3722      9  0.906764     yob\n",
              "2312      8  0.491010     yra\n",
              "3680      2  0.918674   yunda\n",
              "3668      2  0.918677  yunior\n",
              "1639     10  0.890943      ze\n",
              "\n",
              "[518 rows x 3 columns], R=30, lambda_step=0.01, plot_opts={'xlab': 'PC1', 'ylab': 'PC2'}, topic_order=[6, 10, 9, 1, 8, 7, 2, 5, 3, 4])"
            ],
            "text/html": [
              "\n",
              "<link rel=\"stylesheet\" type=\"text/css\" href=\"https://cdn.jsdelivr.net/gh/bmabey/pyLDAvis@3.4.0/pyLDAvis/js/ldavis.v1.0.0.css\">\n",
              "\n",
              "\n",
              "<div id=\"ldavis_el9471373665063844968646961142\" style=\"background-color:white;\"></div>\n",
              "<script type=\"text/javascript\">\n",
              "\n",
              "var ldavis_el9471373665063844968646961142_data = {\"mdsDat\": {\"x\": [-0.08701123224239449, 0.2563911169123418, 0.04851405956751355, -0.10120654213841852, -0.1107656909882399, -0.16198499994367643, 0.06859265367687678, -0.03633404350465722, -0.003540086289559934, 0.12734476495021535], \"y\": [0.1556683284152539, 0.1451778679236242, -0.09498817930653723, -0.008240129677116815, 0.03029241917318051, -0.010939857827271403, -0.14212065640616744, 0.08960912849067981, -0.11939830927565165, -0.04506061150999405], \"topics\": [1, 2, 3, 4, 5, 6, 7, 8, 9, 10], \"cluster\": [1, 1, 1, 1, 1, 1, 1, 1, 1, 1], \"Freq\": [24.72275946327539, 11.563523327558604, 11.209778930702367, 9.717972852128403, 9.276656824547056, 9.004994487591471, 7.604080506501319, 6.587878310656352, 5.697301504631313, 4.615053792407721]}, \"tinfo\": {\"Term\": [\"indonesia\", \"bahasa\", \"main\", \"timnas\", \"moga\", \"bola\", \"bagus\", \"mantap\", \"sukses\", \"towel\", \"jakarta\", \"orang\", \"anak\", \"asli\", \"bela\", \"semangat\", \"sudan\", \"nama\", \"sepak\", \"lahir\", \"allah\", \"gabung\", \"turun\", \"latih\", \"hamzah\", \"nyanyi\", \"sehat\", \"bicara\", \"tata\", \"maju\", \"bahasa\", \"mantap\", \"lancar\", \"tim\", \"piala\", \"ortunya\", \"tangguh\", \"ku\", \"boy\", \"talenta\", \"bs\", \"deh\", \"sesuai\", \"klau\", \"pilar\", \"salam\", \"raya\", \"berkat\", \"susun\", \"nihh\", \"sepeeti\", \"kapten\", \"timnad\", \"indonesinya\", \"pasehbbgt\", \"nakbrsukses\", \"succes\", \"akademy\", \"kelas\", \"atlit\", \"logat\", \"indonesia\", \"dunia\", \"alhamdulillah\", \"timnas\", \"calon\", \"maju\", \"sepakbola\", \"garuda\", \"main\", \"lahir\", \"turun\", \"anak\", \"sudan\", \"bagus\", \"sukses\", \"moga\", \"allah\", \"gabung\", \"mudah\", \"bumi\", \"air\", \"gacor\", \"contoh\", \"nggak\", \"proses\", \"nyata\", \"tuhan\", \"an\", \"chow\", \"manik\", \"yunda\", \"lindung\", \"insha\", \"pijak\", \"allhamdullilah\", \"melindungimuuntuk\", \"senioramin\", \"tum\", \"yunior\", \"pssi\", \"pas\", \"tanah\", \"kau\", \"lawan\", \"pertiwi\", \"bela\", \"semangat\", \"sukses\", \"moga\", \"timnas\", \"aamiin\", \"naturalisasi\", \"negara\", \"smg\", \"sholeh\", \"masuk\", \"latih\", \"erik\", \"kaya\", \"klub\", \"alhamdulilah\", \"ketua\", \"tohir\", \"indra\", \"jay\", \"tonton\", \"dam\", \"duet\", \"neeh\", \"cariin\", \"messalll\", \"cerdikdan\", \"safrigue\", \"diga\", \"cocok\", \"gratisk\", \"daftar\", \"good\", \"mauro\", \"romeny\", \"strategi\", \"shin tae-yong\", \"muka\", \"bet\", \"coret\", \"blm\", \"serang\", \"striker\", \"eropa\", \"main\", \"tahan\", \"eliano\", \"sepakbola\", \"calon\", \"naturalisasi\", \"ho\", \"ru\", \"timnas\", \"hy\", \"nama\", \"barakallah\", \"brlahir\", \"naturilisasinya\", \"spill\", \"min\", \"kali\", \"grade\", \"towel\", \"berita\", \"amiin\", \"kecewa\", \"hoax\", \"suka\", \"cengkok\", \"bos\", \"mimpi\", \"daerah\", \"bin\", \"habib\", \"asnawi\", \"sungai\", \"neymar\", \"minat\", \"untung\", \"indo\", \"marah\", \"belanda\", \"andal\", \"protes\", \"tua\", \"brazil\", \"turun\", \"lahir\", \"tenang\", \"darah\", \"nas\", \"main\", \"jakarta\", \"orang\", \"sudan\", \"dukung\", \"anak\", \"indonesia\", \"naturalisasi\", \"ganti\", \"hamzah\", \"bicara\", \"top\", \"meshaal\", \"kn\", \"agama\", \"kak\", \"hati\", \"rendah\", \"osman\", \"basier\", \"persija\", \"markotop\", \"fiik\", \"bilang\", \"cil\", \"meshall\", \"basir\", \"negro\", \"ajar\", \"soleh\", \"negeri\", \"pinter\", \"karir\", \"brsemoga\", \"kaga\", \"puluh\", \"insyaallah\", \"sombong\", \"mashaallah\", \"syukur\", \"salah\", \"camara\", \"anak\", \"ousmane\", \"enak\", \"muda\", \"cerdas\", \"sholeh\", \"alhamdulillah\", \"main\", \"indonesia\", \"sudan\", \"orang\", \"lahir\", \"tata\", \"bule\", \"bangga\", \"afrika\", \"atur\", \"amunisi\", \"lu\", \"mental\", \"rapi\", \"buruk\", \"tanda\", \"gin\", \"dengar\", \"ayah\", \"guinea\", \"maiket\", \"nadaquot\", \"brpernah\", \"gakbrsearch\", \"linguistik\", \"artikulasinyabrcoba\", \"balau\", \"brmaksud\", \"kacau\", \"simak\", \"brbrafrika\", \"kayak\", \"kiberbagik\", \"manpirga\", \"lupa\", \"tua\", \"orang\", \"wni\", \"indonesia\", \"turun\", \"muda\", \"lahir\", \"salah\", \"cerdas\", \"garuda\", \"suara\", \"sudan\", \"suka\", \"liat\", \"aff\", \"nguyen\", \"rakyat\", \"bukti\", \"ras\", \"brother\", \"serah\", \"klu\", \"bebas\", \"swt\", \"sehat\", \"final\", \"gass\", \"babak\", \"loyalitas\", \"ubah\", \"dblg\", \"kakntr\", \"wf\", \"sihyo\", \"blom\", \"kmren\", \"jajah\", \"mantab\", \"kibonus\", \"newmember\", \"sunda\", \"hasil\", \"dah\", \"hidup\", \"ambil\", \"masuk\", \"cerdas\", \"moga\", \"indonesia\", \"asli\", \"ngomong\", \"dubbing\", \"trus\", \"pasang\", \"iya\", \"iqbal\", \"kecuali\", \"akhirat\", \"dieropa\", \"dwijangge\", \"masbiar\", \"gen\", \"lhr\", \"denger\", \"paspor\", \"sllu\", \"jakarta\", \"attitude\", \"suara\", \"sht\", \"yra\", \"eh\", \"bagus\", \"maen\", \"milih\", \"janji\", \"gw\", \"amin\", \"etika\", \"kembang\", \"wni\", \"sudan\", \"syukur\", \"postur\", \"sholeh\", \"lahir\", \"dunia\", \"orang\", \"anak\", \"sukses\", \"moga\", \"main\", \"bola\", \"sepak\", \"nyanyi\", \"fasih\", \"dn\", \"suruh\", \"tumbuh\", \"mnit\", \"audisi\", \"koplo\", \"yanyibbrbkira\", \"yob\", \"rusak\", \"suport\", \"indonesiamafia\", \"ngatur\", \"aj\", \"nyala\", \"betawi\", \"kostum\", \"bantai\", \"back\", \"inimah\", \"kosong\", \"ok\", \"hubung\", \"lemari\", \"loo\", \"semangattt\", \"dipnggil\", \"enak\", \"maju\", \"pindah\", \"towel\", \"peringkat\", \"indonesia\", \"negara\", \"belanda\", \"darah\", \"main\", \"merah\", \"putih\", \"dasar\", \"atlet\", \"goodluck\", \"komitmen\", \"umur\", \"masya\", \"masyaallah\", \"rezeki\", \"nasionalisme\", \"kimain\", \"kelompok\", \"ze\", \"haus\", \"dat\", \"je\", \"wa\", \"solusi\", \"bayar\", \"prancis\", \"de\", \"als\", \"hebben\", \"hun\", \"moet\", \"omdat\", \"qm\", \"na\", \"dubes\", \"kembang\", \"alloh\", \"aamiin\", \"iri\", \"ngeri\", \"semangat\", \"bela\", \"moga\", \"van\", \"butuh\", \"terbang\", \"ho\", \"ru\", \"keren\", \"garuda\"], \"Freq\": [604.0, 157.0, 279.0, 173.0, 149.0, 53.0, 69.0, 109.0, 109.0, 68.0, 57.0, 99.0, 130.0, 42.0, 62.0, 61.0, 115.0, 49.0, 36.0, 139.0, 45.0, 44.0, 87.0, 39.0, 35.0, 28.0, 32.0, 32.0, 31.0, 45.0, 156.98982758319835, 108.77761812846315, 44.09894393386684, 44.02598440296781, 31.022681985309568, 30.949527964305034, 20.368330956648173, 18.915188122903835, 18.91356355849321, 17.462309852905946, 16.977430289083447, 16.00818026789107, 15.52501250301181, 15.524090105085001, 15.041155442317477, 15.041005284515437, 15.040004232501847, 15.039998512204628, 14.555566561639631, 14.554119326442843, 14.072633328946411, 14.072508912481865, 14.072508912481865, 14.072508912481865, 14.072508912481865, 14.072415957652032, 14.072414527577726, 11.239408727632437, 8.817397702535194, 6.880520794486764, 13.597210846503724, 414.32163106793007, 40.543218622190246, 54.281513449266406, 94.20338194677007, 37.7139596169244, 32.17460683809042, 33.68338099237855, 31.671995782958636, 81.89253008810078, 49.4057780712814, 34.138982644952165, 39.58865832426015, 34.96864311322096, 26.754402130062516, 27.117149058004145, 27.83630482456707, 44.41456781608191, 44.02754258620383, 17.051290360850352, 15.503400809184935, 15.116442467866003, 14.342313079610035, 14.342291675271108, 14.342262244305081, 13.955262432079474, 13.181197256840294, 11.63326489649702, 11.632076955686488, 11.246283813067976, 11.246283813067976, 11.246283813067976, 11.24626374650023, 11.246241004390118, 11.246241004390118, 11.246241004390118, 11.246241004390118, 11.246241004390118, 11.246241004390118, 11.246241004390118, 31.359317702810475, 13.937276098523617, 18.825042510202874, 16.98250350439006, 13.781853842479029, 3.176216943466941, 50.86414730189958, 46.64342570858817, 70.48909537551306, 83.33735482917642, 69.0995631498678, 17.80399534361007, 22.536548191549294, 20.404068686153348, 13.019808541319385, 12.418563336360116, 12.123967393060038, 38.966277987225254, 22.78484502686294, 20.761600481575236, 18.73943880343757, 18.73918202775409, 17.72810832134313, 17.728090165486723, 17.222426221286387, 16.716894555468453, 16.210123104027247, 15.19783165839008, 14.694163561547715, 14.694163561547715, 14.694098719203401, 14.694098719203401, 14.694058516949926, 14.694049439021722, 9.207346390476557, 7.184254224697992, 6.173341975724373, 5.667652094586313, 5.667122981056716, 5.6670646229468336, 5.161693766142797, 4.656284003932171, 20.083826799710568, 4.149970339441817, 3.6447567253227393, 3.1390379893414604, 3.1389809280784644, 5.124443136181599, 6.633607200977079, 8.335493087847262, 111.0110686935064, 6.701625523315015, 6.484006186294274, 15.884997105405112, 15.217320673396934, 15.221422600098203, 8.44189678117188, 8.44189678117188, 9.441411042862079, 26.946715520730976, 47.30091002951505, 14.20553193558727, 13.748619696603319, 13.292214499554209, 13.292123434373007, 4.669109148146158, 4.211520665872165, 4.184741319160392, 57.365244980086935, 4.634241302099057, 2.8391942431645, 2.3817356130933325, 4.5703916810688785, 29.665562067759602, 1.9247748903323512, 1.9245278338685332, 1.924503521713675, 3.274441400983474, 1.4673786567742297, 1.4673265191473375, 1.4673154170650613, 1.4672687602129637, 1.4671859864602965, 1.4669517184709993, 1.4648157621606641, 15.163175629636035, 3.5278611848706536, 33.70353161070519, 1.924565075030599, 1.920091919602086, 15.59983991907113, 2.3320287800888924, 26.00259894100602, 32.145959496986144, 1.9244567243288904, 8.294767592059348, 3.6001000451864287, 50.631624653304954, 14.988384446279008, 19.966045475700003, 19.612771034232008, 4.077491831587483, 19.40369212375998, 40.14793566755693, 10.947695314773805, 4.562585371369128, 35.05516440446019, 32.21071525431735, 24.60273979359863, 24.24057994418197, 21.70406368387787, 21.70405724464106, 20.9798319879476, 16.686371037609344, 13.788170358206289, 12.7013881658263, 11.614525482986204, 11.614483627946948, 11.614441772907693, 10.889884895518586, 10.889822649562769, 10.527638116405008, 10.527638116405008, 10.527624164725257, 10.527521136936318, 11.884045105642945, 4.784727497768357, 3.335380588957365, 2.611038889398281, 1.8861338907692073, 1.5242302693172243, 1.523928295941052, 1.5230060094189797, 1.8865603560570134, 1.1621138847490222, 1.1617983621453984, 15.994259328086759, 13.724527088001857, 10.527642409229548, 52.73733229154943, 10.527642409229548, 11.613525254868595, 16.62360886964156, 19.332449839006497, 13.215988361038683, 15.210512985952537, 21.616575919771, 24.13415653103313, 16.092193680709524, 13.430836716777712, 12.92040592739893, 30.278172233874667, 20.20806445787977, 18.29806275120778, 17.971725848953177, 12.095957259856085, 11.769796418053138, 11.117213248214311, 10.788567766309601, 10.464325879251914, 10.464241495248459, 10.464112314798724, 10.137978559219109, 10.137931679217187, 9.811574983183997, 9.485149529814658, 9.485149529814658, 9.485117234702223, 9.485099524479276, 9.485099524479276, 9.485099524479276, 9.48508598136761, 9.48508598136761, 9.48508598136761, 9.48508598136761, 9.48508598136761, 9.48506306225556, 13.182923235041393, 3.984873608540984, 3.005622511545109, 4.288013244067724, 25.742509128997334, 50.99798712693632, 13.633265034819283, 72.09310039625788, 25.181670122916053, 15.489777701078314, 24.237073504672846, 12.15377697066864, 13.95245742478127, 13.510502978235788, 11.071946960138128, 11.562049252211146, 10.156320099525875, 23.786780739242985, 16.76844506532665, 14.965278412919233, 14.908679783007942, 13.420654316021913, 12.304285971850737, 12.30395960031763, 12.303585724572155, 12.30350655088488, 12.303145870753951, 11.930223728357943, 30.62648649934063, 11.55988704670534, 11.187603572053362, 11.187697700770459, 10.81554706197158, 10.81554706197158, 10.815539144602853, 10.815539144602853, 10.815539144602853, 10.81552506928067, 10.81549779834394, 10.81549076068285, 10.126604906225413, 8.265407459874634, 3.055031085568869, 3.055031085568869, 2.3102380514023597, 2.3097047286477865, 17.760204582215746, 12.728029704109737, 6.330980510746252, 11.950482515516807, 14.113439034723916, 12.784181442541731, 16.242555840281273, 41.71086669009484, 13.229194613546396, 12.614878082665337, 11.38508046436402, 10.771420139752758, 10.46402827707449, 9.849697265451125, 9.54235036928844, 9.235238213579994, 9.235224494982019, 9.235214587105704, 8.92797820187115, 8.92793475964423, 8.92793475964423, 8.927912657458604, 3.750648681294678, 3.44304036962614, 41.44755192056545, 1.9072084582378173, 23.364990191185814, 1.292710822809882, 1.2924313063761443, 1.2924006300667839, 41.961042091341646, 1.5996729313529794, 1.9071173819901508, 0.9848450968932326, 2.2035040710513396, 2.1715113478935604, 0.6783222216554344, 10.138170419377735, 10.246428448863316, 33.20459818997077, 9.515063315772121, 3.1358344701648644, 9.71154107596801, 20.42806548378005, 10.261891595213974, 14.433859760357777, 12.022408419059236, 10.931057367231503, 10.553654164077221, 12.126010508821018, 52.33607381792245, 35.95015541724462, 27.733810834821096, 16.767355865078915, 12.97511955853868, 10.131056355440174, 9.497549782163354, 9.497300636886353, 9.183113942069744, 9.183113942069744, 9.183113942069744, 9.183113942069744, 9.183079009001805, 9.183079009001805, 9.183059235567121, 9.183059235567121, 10.08656810474781, 3.225633808626455, 2.2774893766650166, 1.6458144825542933, 1.645665357901062, 2.2777383571633947, 1.6455776956739694, 1.0137400826736707, 1.8802544209601397, 0.6977697416593799, 0.6977620794534404, 0.697725251431344, 0.697605951708759, 0.6975943348158831, 9.31910046618336, 12.492501428866767, 1.013784243344462, 10.195023416638362, 1.0137043257126197, 37.05875435095316, 3.127366758956108, 2.72311569428998, 1.8318197222623736, 1.7721687075195292, 12.233299056826732, 12.233299056826732, 11.51479654020129, 11.154551140626127, 10.796360228471952, 10.437402620908074, 15.062003617976208, 7.617255576490315, 3.307095801282479, 2.588811920987312, 2.2295594613760734, 1.870690082514461, 1.8705635457372327, 1.5115175759934754, 1.5113957109327059, 1.1523238465320054, 1.1523238465320054, 1.152278464143548, 1.151858944005543, 1.8707097037235882, 1.511152247766393, 1.5114414937540026, 0.7931211740704569, 0.7931211740704569, 0.7931211740704569, 0.7931211740704569, 0.7931211740704569, 0.7930984828762282, 0.7930864031522418, 0.7930727216968979, 11.535860375370973, 2.1793064748162445, 15.126865195380487, 1.1521752859486138, 1.4939113449137982, 13.809641904313722, 11.276262435185362, 14.489822464304794, 2.2297460630792014, 1.8400631102758915, 1.5042326348251513, 2.41453927802712, 2.41453927802712, 2.1761959125203263, 1.9882011035443483], \"Total\": [604.0, 157.0, 279.0, 173.0, 149.0, 53.0, 69.0, 109.0, 109.0, 68.0, 57.0, 99.0, 130.0, 42.0, 62.0, 61.0, 115.0, 49.0, 36.0, 139.0, 45.0, 44.0, 87.0, 39.0, 35.0, 28.0, 32.0, 32.0, 31.0, 45.0, 157.69709936087955, 109.4848568532995, 44.80619037633301, 44.733292579466024, 31.729954600066215, 31.65685913178807, 21.07557151491521, 19.62244162697297, 19.620975224132824, 18.1695833846931, 17.68475391297802, 16.715561063414995, 16.23229955110544, 16.231436292934692, 15.74837670883308, 15.748229817905473, 15.74739422031467, 15.74738889497574, 15.2629022968313, 15.261557057939648, 14.779853089036108, 14.77972867257156, 14.77972867257156, 14.77972867257156, 14.77972867257156, 14.779635717741728, 14.779634287667422, 11.946634306408892, 9.52467133743131, 7.587759389031555, 15.278599592701937, 604.9232405771112, 51.44837486682326, 80.86330367155111, 173.26557818478014, 53.53312634474695, 45.308500821365705, 50.17035332069059, 47.735100912361766, 279.35112478133425, 139.54163936000717, 87.51251936943915, 130.72810063159085, 115.84462681348906, 69.35868518380369, 109.17959151077619, 149.41145135245938, 45.142086496024135, 44.755059693937866, 17.7788444454554, 16.23091886577705, 15.843948871439778, 15.069829169218334, 15.0698179860668, 15.0697977177068, 14.682785854299784, 13.908725803834098, 12.360764835673839, 12.35974692805976, 11.973775414635611, 11.973775414635611, 11.973775414635611, 11.973758585117057, 11.97373679562857, 11.97373679562857, 11.973740716155573, 11.973740716155573, 11.973740716155573, 11.973740716155573, 11.973740716155573, 33.966223982410646, 15.192519524681103, 20.65819031480792, 18.764437730577367, 15.6969079780991, 3.9037683334084727, 62.79308015759351, 61.106311214142714, 109.17959151077619, 149.41145135245938, 173.26557818478014, 33.58351475382975, 59.315882550887274, 50.62454761153145, 28.889733387415795, 35.934080037506206, 29.00137284274867, 39.669093739107964, 23.48762954853984, 21.464438534291038, 19.442221002431577, 19.441984218006, 18.43088704372822, 18.43086875594165, 17.925201026805745, 17.419659196131455, 16.913009817478194, 15.9007415540421, 15.396927453656197, 15.396927453656197, 15.396862611311883, 15.396862611311883, 15.396829861086234, 15.396821200389919, 9.910124281049715, 7.887050306559892, 6.876107227636038, 6.370417014560702, 6.369919880009946, 6.369881321948901, 5.864486227863151, 5.359050876122231, 23.29804701033069, 4.85280327164295, 4.347528622793139, 3.8418185186649927, 3.8417706256737882, 6.346054716931099, 8.347598596006652, 10.84116350955562, 279.35112478133425, 8.826809006024606, 9.649928969325124, 50.17035332069059, 53.53312634474695, 59.315882550887274, 23.601306128367142, 23.601306128367142, 173.26557818478014, 27.65953498830151, 49.297795562224096, 14.918494075070761, 14.461521641123298, 14.005033431555349, 14.004942366374147, 5.3819601912871144, 4.9243903933583715, 4.91893487934551, 68.20724225711488, 5.698148138904256, 3.5520576947575435, 3.09461705269668, 6.006370210365509, 40.46667948923475, 2.6375987079114727, 2.637376815781696, 2.637354896137664, 4.800410491573839, 2.1802000629530967, 2.180145451148477, 2.1801392248447278, 2.1801002663880507, 2.1800236613261537, 2.1798218869040293, 2.178292598030612, 22.77053398036945, 5.3450831519432365, 51.3521015141718, 2.9443270083745374, 3.008522297254794, 41.987169583874504, 3.9120675944330356, 87.51251936943915, 139.54163936000717, 3.142529771299367, 22.724426030373255, 7.380925270549047, 279.35112478133425, 57.08473424466116, 99.33404088681603, 115.84462681348906, 9.229200796721178, 130.72810063159085, 604.9232405771112, 59.315882550887274, 14.52426842576252, 35.78781967926122, 32.94340129123518, 25.335406441834476, 24.973228859160976, 22.436754355425784, 22.436772143024665, 21.71247793151507, 17.41905587034009, 14.520837729350957, 13.434038908374092, 12.347172240298317, 12.347135818579302, 12.347091537454949, 11.622536653625984, 11.622476499219216, 11.260284059972479, 11.260284059972479, 11.260272724153358, 11.26017496825738, 13.224023896746855, 5.517420156852762, 4.068094408856769, 3.3437144493154207, 2.618847838599367, 2.2568990477012436, 2.256655681739294, 2.255807865057818, 2.978033539075079, 1.8947671743437027, 1.8944763830134517, 26.17795534872572, 26.54295925059182, 20.677405697075297, 130.72810063159085, 20.677405697075297, 23.25725592138321, 37.028774382239966, 47.985439081657375, 35.934080037506206, 80.86330367155111, 279.35112478133425, 604.9232405771112, 115.84462681348906, 99.33404088681603, 139.54163936000717, 31.01830637178567, 20.94819265674559, 19.038251940006063, 18.71190285811254, 12.836526007779934, 12.509956996839783, 11.85734271264999, 11.529060605062314, 11.204459619143172, 11.204392644046143, 11.204272931106022, 10.878101181176605, 10.878063337345639, 10.551697506374401, 10.225272053005062, 10.225272053005062, 10.225239757892627, 10.225229518311872, 10.225229518311872, 10.225229518311872, 10.225215867206193, 10.225215867206193, 10.225215867206193, 10.225215867206193, 10.225215867206193, 10.225193215270828, 15.60193538585914, 4.7249961317313875, 3.745745034735513, 5.415733447450804, 41.987169583874504, 99.33404088681603, 24.55583228562385, 604.9232405771112, 87.51251936943915, 37.028774382239966, 139.54163936000717, 26.54295925059182, 47.985439081657375, 47.735100912361766, 35.113046375725474, 115.84462681348906, 40.46667948923475, 24.51737693602044, 17.501057211330714, 15.695889903518026, 15.639425395410818, 14.151273393079542, 13.034875026160968, 13.03458156444122, 13.034247888904686, 13.034215682894846, 13.033915176966742, 12.661030150204134, 32.55674774886106, 12.290477295454016, 11.918184864796102, 11.918285972204565, 11.54612835471432, 11.54612835471432, 11.546120437345593, 11.546120437345593, 11.546120437345593, 11.546106362023409, 11.54607909108668, 11.546079203223448, 10.857219371088783, 8.99603210070224, 3.7856123783116087, 3.7856123783116087, 3.0408592183257768, 3.0404069744010775, 25.081589747810654, 28.815183529100896, 11.877707638608278, 29.00137284274867, 47.985439081657375, 149.41145135245938, 604.9232405771112, 42.455028531398995, 13.973345988707727, 13.358999146590321, 12.12929307308675, 11.515545189232098, 11.208169896023348, 10.593817222783363, 10.286491217861219, 9.97935710301537, 9.979343536337462, 9.979333592108114, 9.672096913759777, 9.672060264385806, 9.672060264385806, 9.672040486405301, 4.494792158294006, 4.187225766499817, 57.08473424466116, 2.65134097151232, 35.113046375725474, 2.036844617291481, 2.0366192419994533, 2.0365851353584428, 69.35868518380369, 2.65936723763199, 3.303866878161428, 1.7290850069609143, 3.9257305246077734, 4.442372834681725, 1.4224409335440609, 22.343401322665542, 24.55583228562385, 115.84462681348906, 26.17795534872572, 6.877212360483572, 35.934080037506206, 139.54163936000717, 51.44837486682326, 99.33404088681603, 130.72810063159085, 109.17959151077619, 149.41145135245938, 279.35112478133425, 53.07841354795864, 36.69249407164647, 28.476108018795937, 17.509683075678584, 13.717448263151258, 10.873365870882129, 10.240079004616595, 10.23990358774726, 9.925403064039717, 9.925403064039717, 9.925403064039717, 9.925403064039717, 9.925373763892289, 9.925373763892289, 9.92536023327277, 9.92536023327277, 11.40550798364859, 3.967958111852678, 3.0198326611081683, 2.388117356071516, 2.3879794803622487, 3.32697315763045, 2.8447708644962395, 1.7560404612246345, 3.6545828254423784, 1.440058863629353, 1.4400512014234135, 1.4400237451463935, 1.4399026488740991, 1.439906256715997, 23.25725592138321, 45.308500821365705, 2.4084663078338893, 68.20724225711488, 2.500197322833635, 604.9232405771112, 50.62454761153145, 51.3521015141718, 22.724426030373255, 279.35112478133425, 12.966599813997966, 12.966599813997966, 12.248110909865318, 11.888018786314348, 11.529671174261534, 11.17069634032105, 16.33902006544866, 8.350591677724491, 4.040421796715472, 3.3221370589693393, 2.9628778446727777, 2.6039838019274377, 2.6038741173537345, 2.2448112954064516, 2.244703567869037, 1.8856175659449819, 1.8856175659449819, 1.8855760345597703, 1.8852365151042383, 3.086964024751307, 2.56027720736238, 2.739186206260946, 1.5264148934834334, 1.5264148934834334, 1.5264148934834334, 1.5264148934834334, 1.5264148934834334, 1.52639353541245, 1.526383354951943, 1.5263704073924054, 22.343401322665542, 4.19593909049275, 33.58351475382975, 2.3904600024252693, 3.3864754390942453, 61.106311214142714, 62.79308015759351, 149.41145135245938, 10.473070082593578, 6.978974102616205, 4.52242197237871, 23.601306128367142, 23.601306128367142, 17.635298474788108, 47.735100912361766], \"Category\": [\"Default\", \"Default\", \"Default\", \"Default\", \"Default\", \"Default\", \"Default\", \"Default\", \"Default\", \"Default\", \"Default\", \"Default\", \"Default\", \"Default\", \"Default\", \"Default\", \"Default\", \"Default\", \"Default\", \"Default\", \"Default\", \"Default\", \"Default\", \"Default\", \"Default\", \"Default\", \"Default\", \"Default\", \"Default\", \"Default\", \"Topic1\", \"Topic1\", \"Topic1\", \"Topic1\", \"Topic1\", \"Topic1\", \"Topic1\", \"Topic1\", \"Topic1\", \"Topic1\", \"Topic1\", \"Topic1\", \"Topic1\", \"Topic1\", \"Topic1\", \"Topic1\", \"Topic1\", \"Topic1\", \"Topic1\", \"Topic1\", \"Topic1\", \"Topic1\", \"Topic1\", \"Topic1\", \"Topic1\", \"Topic1\", \"Topic1\", \"Topic1\", \"Topic1\", \"Topic1\", \"Topic1\", \"Topic1\", \"Topic1\", \"Topic1\", \"Topic1\", \"Topic1\", \"Topic1\", \"Topic1\", \"Topic1\", \"Topic1\", \"Topic1\", \"Topic1\", \"Topic1\", \"Topic1\", \"Topic1\", \"Topic1\", \"Topic1\", \"Topic2\", \"Topic2\", \"Topic2\", \"Topic2\", \"Topic2\", \"Topic2\", \"Topic2\", \"Topic2\", \"Topic2\", \"Topic2\", \"Topic2\", \"Topic2\", \"Topic2\", \"Topic2\", \"Topic2\", \"Topic2\", \"Topic2\", \"Topic2\", \"Topic2\", \"Topic2\", \"Topic2\", \"Topic2\", \"Topic2\", \"Topic2\", \"Topic2\", \"Topic2\", \"Topic2\", \"Topic2\", \"Topic2\", \"Topic2\", \"Topic2\", \"Topic2\", \"Topic2\", \"Topic2\", \"Topic2\", \"Topic2\", \"Topic2\", \"Topic2\", \"Topic2\", \"Topic2\", \"Topic3\", \"Topic3\", \"Topic3\", \"Topic3\", \"Topic3\", \"Topic3\", \"Topic3\", \"Topic3\", \"Topic3\", \"Topic3\", \"Topic3\", \"Topic3\", \"Topic3\", \"Topic3\", \"Topic3\", \"Topic3\", \"Topic3\", \"Topic3\", \"Topic3\", \"Topic3\", \"Topic3\", \"Topic3\", \"Topic3\", \"Topic3\", \"Topic3\", \"Topic3\", \"Topic3\", \"Topic3\", \"Topic3\", \"Topic3\", \"Topic3\", \"Topic3\", \"Topic3\", \"Topic3\", \"Topic3\", \"Topic3\", \"Topic3\", \"Topic3\", \"Topic3\", \"Topic3\", \"Topic3\", \"Topic3\", \"Topic4\", \"Topic4\", \"Topic4\", \"Topic4\", \"Topic4\", \"Topic4\", \"Topic4\", \"Topic4\", \"Topic4\", \"Topic4\", \"Topic4\", \"Topic4\", \"Topic4\", \"Topic4\", \"Topic4\", \"Topic4\", \"Topic4\", \"Topic4\", \"Topic4\", \"Topic4\", \"Topic4\", \"Topic4\", \"Topic4\", \"Topic4\", \"Topic4\", \"Topic4\", \"Topic4\", \"Topic4\", \"Topic4\", \"Topic4\", \"Topic4\", \"Topic4\", \"Topic4\", \"Topic4\", \"Topic4\", \"Topic4\", \"Topic4\", \"Topic4\", \"Topic4\", \"Topic4\", \"Topic4\", \"Topic4\", \"Topic4\", \"Topic4\", \"Topic4\", \"Topic4\", \"Topic4\", \"Topic5\", \"Topic5\", \"Topic5\", \"Topic5\", \"Topic5\", \"Topic5\", \"Topic5\", \"Topic5\", \"Topic5\", \"Topic5\", \"Topic5\", \"Topic5\", \"Topic5\", \"Topic5\", \"Topic5\", \"Topic5\", \"Topic5\", \"Topic5\", \"Topic5\", \"Topic5\", \"Topic5\", \"Topic5\", \"Topic5\", \"Topic5\", \"Topic5\", \"Topic5\", \"Topic5\", \"Topic5\", \"Topic5\", \"Topic5\", \"Topic5\", \"Topic5\", \"Topic5\", \"Topic5\", \"Topic5\", \"Topic5\", \"Topic5\", \"Topic5\", \"Topic5\", \"Topic5\", \"Topic5\", \"Topic5\", \"Topic5\", \"Topic5\", \"Topic5\", \"Topic6\", \"Topic6\", \"Topic6\", \"Topic6\", \"Topic6\", \"Topic6\", \"Topic6\", \"Topic6\", \"Topic6\", \"Topic6\", \"Topic6\", \"Topic6\", \"Topic6\", \"Topic6\", \"Topic6\", \"Topic6\", \"Topic6\", \"Topic6\", \"Topic6\", \"Topic6\", \"Topic6\", \"Topic6\", \"Topic6\", \"Topic6\", \"Topic6\", \"Topic6\", \"Topic6\", \"Topic6\", \"Topic6\", \"Topic6\", \"Topic6\", \"Topic6\", \"Topic6\", \"Topic6\", \"Topic6\", \"Topic6\", \"Topic6\", \"Topic6\", \"Topic6\", \"Topic6\", \"Topic6\", \"Topic6\", \"Topic6\", \"Topic7\", \"Topic7\", \"Topic7\", \"Topic7\", \"Topic7\", \"Topic7\", \"Topic7\", \"Topic7\", \"Topic7\", \"Topic7\", \"Topic7\", \"Topic7\", \"Topic7\", \"Topic7\", \"Topic7\", \"Topic7\", \"Topic7\", \"Topic7\", \"Topic7\", \"Topic7\", \"Topic7\", \"Topic7\", \"Topic7\", \"Topic7\", \"Topic7\", \"Topic7\", \"Topic7\", \"Topic7\", \"Topic7\", \"Topic7\", \"Topic7\", \"Topic7\", \"Topic7\", \"Topic7\", \"Topic7\", \"Topic7\", \"Topic8\", \"Topic8\", \"Topic8\", \"Topic8\", \"Topic8\", \"Topic8\", \"Topic8\", \"Topic8\", \"Topic8\", \"Topic8\", \"Topic8\", \"Topic8\", \"Topic8\", \"Topic8\", \"Topic8\", \"Topic8\", \"Topic8\", \"Topic8\", \"Topic8\", \"Topic8\", \"Topic8\", \"Topic8\", \"Topic8\", \"Topic8\", \"Topic8\", \"Topic8\", \"Topic8\", \"Topic8\", \"Topic8\", \"Topic8\", \"Topic8\", \"Topic8\", \"Topic8\", \"Topic8\", \"Topic8\", \"Topic8\", \"Topic8\", \"Topic8\", \"Topic8\", \"Topic8\", \"Topic8\", \"Topic8\", \"Topic8\", \"Topic9\", \"Topic9\", \"Topic9\", \"Topic9\", \"Topic9\", \"Topic9\", \"Topic9\", \"Topic9\", \"Topic9\", \"Topic9\", \"Topic9\", \"Topic9\", \"Topic9\", \"Topic9\", \"Topic9\", \"Topic9\", \"Topic9\", \"Topic9\", \"Topic9\", \"Topic9\", \"Topic9\", \"Topic9\", \"Topic9\", \"Topic9\", \"Topic9\", \"Topic9\", \"Topic9\", \"Topic9\", \"Topic9\", \"Topic9\", \"Topic9\", \"Topic9\", \"Topic9\", \"Topic9\", \"Topic9\", \"Topic9\", \"Topic9\", \"Topic9\", \"Topic9\", \"Topic9\", \"Topic10\", \"Topic10\", \"Topic10\", \"Topic10\", \"Topic10\", \"Topic10\", \"Topic10\", \"Topic10\", \"Topic10\", \"Topic10\", \"Topic10\", \"Topic10\", \"Topic10\", \"Topic10\", \"Topic10\", \"Topic10\", \"Topic10\", \"Topic10\", \"Topic10\", \"Topic10\", \"Topic10\", \"Topic10\", \"Topic10\", \"Topic10\", \"Topic10\", \"Topic10\", \"Topic10\", \"Topic10\", \"Topic10\", \"Topic10\", \"Topic10\", \"Topic10\", \"Topic10\", \"Topic10\", \"Topic10\", \"Topic10\", \"Topic10\", \"Topic10\", \"Topic10\", \"Topic10\", \"Topic10\", \"Topic10\", \"Topic10\", \"Topic10\", \"Topic10\"], \"logprob\": [30.0, 29.0, 28.0, 27.0, 26.0, 25.0, 24.0, 23.0, 22.0, 21.0, 20.0, 19.0, 18.0, 17.0, 16.0, 15.0, 14.0, 13.0, 12.0, 11.0, 10.0, 9.0, 8.0, 7.0, 6.0, 5.0, 4.0, 3.0, 2.0, 1.0, -2.9736, -3.3405, -4.2433, -4.245, -4.5951, -4.5974, -5.0158, -5.0898, -5.0899, -5.1697, -5.1979, -5.2567, -5.2873, -5.2874, -5.319, -5.319, -5.3191, -5.3191, -5.3518, -5.3519, -5.3855, -5.3856, -5.3856, -5.3856, -5.3856, -5.3856, -5.3856, -5.6104, -5.8531, -6.1011, -5.4199, -2.0031, -4.3274, -4.0356, -3.4843, -4.3997, -4.5586, -4.5128, -4.5743, -3.6244, -4.1297, -4.4993, -4.3512, -4.4753, -4.7431, -4.7296, -4.7034, -3.4763, -3.4851, -4.4337, -4.5289, -4.5541, -4.6067, -4.6067, -4.6067, -4.6341, -4.6911, -4.816, -4.8161, -4.8499, -4.8499, -4.8499, -4.8499, -4.8499, -4.8499, -4.8499, -4.8499, -4.8499, -4.8499, -4.8499, -3.8244, -4.6353, -4.3347, -4.4377, -4.6466, -6.1142, -3.3408, -3.4274, -3.0145, -2.847, -3.0344, -4.3905, -4.1548, -4.2542, -4.7034, -4.7507, -4.7747, -3.5761, -4.1127, -4.2057, -4.3082, -4.3082, -4.3637, -4.3637, -4.3926, -4.4224, -4.4532, -4.5177, -4.5514, -4.5514, -4.5514, -4.5514, -4.5514, -4.5514, -5.0188, -5.2669, -5.4186, -5.5041, -5.5042, -5.5042, -5.5976, -5.7006, -4.2389, -5.8157, -5.9456, -6.0949, -6.0949, -5.6048, -5.3467, -5.1183, -2.5292, -5.3365, -5.3695, -4.4735, -4.5164, -4.5161, -5.1056, -5.1056, -4.9937, -3.8022, -3.2395, -4.4424, -4.4751, -4.5089, -4.5089, -5.5551, -5.6582, -5.6646, -3.0466, -5.5626, -6.0525, -6.2282, -5.5764, -3.706, -6.4412, -6.4414, -6.4414, -5.9099, -6.7126, -6.7126, -6.7126, -6.7126, -6.7127, -6.7128, -6.7143, -4.3772, -5.8353, -3.5784, -6.4413, -6.4437, -4.3488, -6.2493, -3.8378, -3.6257, -6.4414, -4.9804, -5.8151, -3.1715, -4.3888, -4.102, -4.1199, -5.6905, -4.1306, -3.4035, -4.7029, -5.5781, -3.4926, -3.5773, -3.8467, -3.8615, -3.9721, -3.9721, -4.006, -4.235, -4.4257, -4.5078, -4.5973, -4.5973, -4.5973, -4.6617, -4.6617, -4.6956, -4.6956, -4.6956, -4.6956, -4.5744, -5.4841, -5.845, -6.0898, -6.415, -6.6281, -6.6283, -6.6289, -6.4148, -6.8993, -6.8996, -4.2773, -4.4304, -4.6956, -3.0842, -4.6956, -4.5974, -4.2387, -4.0878, -4.4681, -4.3276, -3.9761, -3.8659, -4.2712, -4.452, -4.4907, -3.6094, -4.0138, -4.113, -4.131, -4.527, -4.5543, -4.6113, -4.6413, -4.6719, -4.6719, -4.6719, -4.7035, -4.7035, -4.7363, -4.7701, -4.7701, -4.7701, -4.7701, -4.7701, -4.7701, -4.7701, -4.7701, -4.7701, -4.7701, -4.7701, -4.7701, -4.4409, -5.6373, -5.9193, -5.564, -3.7717, -3.088, -4.4073, -2.7419, -3.7937, -4.2797, -3.832, -4.5222, -4.3842, -4.4164, -4.6154, -4.5721, -4.7017, -3.6816, -4.0312, -4.145, -4.1488, -4.2539, -4.3408, -4.3408, -4.3408, -4.3409, -4.3409, -4.3717, -3.4289, -4.4032, -4.4359, -4.4359, -4.4698, -4.4698, -4.4698, -4.4698, -4.4698, -4.4698, -4.4698, -4.4698, -4.5356, -4.7387, -5.7339, -5.7339, -6.0134, -6.0136, -3.9738, -4.3069, -5.0053, -4.37, -4.2036, -4.3025, -4.0631, -2.9765, -4.1249, -4.1724, -4.275, -4.3304, -4.3593, -4.4198, -4.4515, -4.4843, -4.4843, -4.4843, -4.5181, -4.5181, -4.5181, -4.5181, -5.3854, -5.4709, -2.9829, -6.0616, -3.556, -6.4505, -6.4508, -6.4508, -2.9705, -6.2375, -6.0617, -6.7226, -5.9172, -5.9319, -7.0954, -4.391, -4.3804, -3.2046, -4.4544, -5.5644, -4.434, -3.6904, -4.3788, -4.0377, -4.2205, -4.3157, -4.3508, -4.2119, -2.6044, -2.9799, -3.2394, -3.7426, -3.999, -4.2464, -4.311, -4.311, -4.3447, -4.3447, -4.3447, -4.3447, -4.3447, -4.3447, -4.3447, -4.3447, -4.2508, -5.3909, -5.739, -6.0638, -6.0639, -5.7389, -6.064, -6.5484, -5.9306, -6.9219, -6.9219, -6.922, -6.9221, -6.9222, -4.33, -4.0369, -6.5484, -4.2401, -6.5484, -2.9495, -5.4219, -5.5603, -5.9567, -5.9898, -3.8472, -3.8472, -3.9077, -3.9395, -3.9722, -4.006, -3.6392, -4.321, -5.1553, -5.4002, -5.5496, -5.7251, -5.7251, -5.9383, -5.9383, -6.2096, -6.2096, -6.2096, -6.21, -5.7251, -5.9385, -5.9383, -6.5832, -6.5832, -6.5832, -6.5832, -6.5832, -6.5832, -6.5832, -6.5832, -3.9059, -5.5724, -3.6349, -6.2097, -5.95, -3.726, -3.9287, -3.6779, -5.5495, -5.7416, -5.9431, -5.4699, -5.4699, -5.5738, -5.6641], \"loglift\": [30.0, 29.0, 28.0, 27.0, 26.0, 25.0, 24.0, 23.0, 22.0, 21.0, 20.0, 19.0, 18.0, 17.0, 16.0, 15.0, 14.0, 13.0, 12.0, 11.0, 10.0, 9.0, 8.0, 7.0, 6.0, 5.0, 4.0, 3.0, 2.0, 1.0, 1.393, 1.391, 1.3815, 1.3815, 1.3749, 1.3748, 1.3633, 1.3607, 1.3607, 1.3577, 1.3566, 1.3542, 1.3529, 1.3529, 1.3515, 1.3515, 1.3515, 1.3515, 1.35, 1.35, 1.3484, 1.3484, 1.3484, 1.3484, 1.3484, 1.3484, 1.3484, 1.3364, 1.3203, 1.2996, 1.2809, 1.019, 1.1592, 0.9989, 0.7881, 1.0472, 1.0551, 0.999, 0.9872, 0.1704, 0.3592, 0.4561, 0.2029, 0.1996, 0.4449, 0.0046, -0.2829, 2.1411, 2.1409, 2.1155, 2.1115, 2.1103, 2.1078, 2.1078, 2.1078, 2.1065, 2.1036, 2.0967, 2.0966, 2.0946, 2.0946, 2.0946, 2.0946, 2.0946, 2.0946, 2.0946, 2.0946, 2.0946, 2.0946, 2.0946, 2.0775, 2.0711, 2.0644, 2.0575, 2.0272, 1.9511, 1.9466, 1.8872, 1.7198, 1.5735, 1.238, 1.5227, 1.1896, 1.2486, 1.3603, 1.0948, 1.2852, 2.1705, 2.158, 2.1551, 2.1516, 2.1516, 2.1495, 2.1495, 2.1484, 2.1472, 2.1459, 2.1432, 2.1417, 2.1417, 2.1417, 2.1417, 2.1417, 2.1417, 2.1148, 2.0951, 2.0806, 2.0715, 2.0715, 2.0715, 2.0607, 2.0478, 2.0399, 2.0319, 2.0121, 1.9864, 1.9863, 1.9746, 1.9586, 1.9256, 1.2655, 1.9129, 1.7908, 1.0383, 0.9305, 0.8282, 1.1603, 1.1603, -0.7213, 2.3051, 2.2898, 2.2822, 2.2806, 2.279, 2.279, 2.1891, 2.1748, 2.1695, 2.1581, 2.1245, 2.1072, 2.0694, 2.058, 2.0207, 2.0161, 2.0161, 2.0161, 1.9486, 1.9353, 1.9352, 1.9352, 1.9352, 1.9352, 1.9351, 1.9344, 1.9246, 1.9157, 1.9101, 1.906, 1.8821, 1.3411, 1.8139, 1.1176, 0.8631, 1.8408, 1.3234, 1.6133, 0.6233, 0.9939, 0.7267, 0.5551, 1.5143, 0.4235, -0.3813, 0.6414, 1.1733, 2.357, 2.3552, 2.3483, 2.3479, 2.3445, 2.3445, 2.3433, 2.3347, 2.3259, 2.3216, 2.3165, 2.3165, 2.3165, 2.3126, 2.3126, 2.3104, 2.3104, 2.3104, 2.3104, 2.2708, 2.2352, 2.1791, 2.1303, 2.0495, 1.9852, 1.9851, 1.9848, 1.9212, 1.8888, 1.8887, 1.885, 1.7181, 1.7026, 1.4699, 1.7026, 1.6832, 1.5768, 1.4686, 1.3774, 0.7069, -0.1813, -0.8438, 0.4038, 0.3767, -0.0019, 2.3832, 2.3714, 2.3677, 2.367, 2.348, 2.3464, 2.3429, 2.341, 2.3391, 2.339, 2.339, 2.3369, 2.3369, 2.3347, 2.3323, 2.3323, 2.3323, 2.3323, 2.3323, 2.3323, 2.3323, 2.3323, 2.3323, 2.3323, 2.3323, 2.3323, 2.2389, 2.237, 2.1873, 2.1739, 1.9182, 1.7407, 1.819, 0.2802, 1.1617, 1.5359, 0.6569, 1.6263, 1.1721, 1.1452, 1.2532, 0.1029, 1.025, 2.5462, 2.5337, 2.5288, 2.5286, 2.5235, 2.5188, 2.5188, 2.5188, 2.5188, 2.5188, 2.517, 2.5154, 2.5152, 2.5132, 2.5132, 2.5111, 2.5111, 2.5111, 2.5111, 2.5111, 2.5111, 2.5111, 2.5111, 2.5068, 2.4918, 2.3621, 2.3621, 2.3017, 2.3016, 2.2313, 1.7594, 1.9473, 1.6899, 1.3527, 0.118, -1.041, 2.7023, 2.6652, 2.6626, 2.6566, 2.6531, 2.6512, 2.6471, 2.6448, 2.6424, 2.6424, 2.6424, 2.6399, 2.6399, 2.6399, 2.6399, 2.5389, 2.5243, 2.3998, 2.3905, 2.3126, 2.2653, 2.2652, 2.2652, 2.2174, 2.2116, 2.1704, 2.1571, 2.1424, 2.0042, 1.9794, 1.9297, 1.8459, 1.4704, 1.7079, 1.9346, 1.4116, 0.7985, 1.1078, 0.791, 0.3336, 0.4186, 0.0697, -0.4172, 2.8511, 2.8447, 2.8388, 2.8219, 2.8095, 2.7945, 2.7899, 2.7899, 2.7874, 2.7874, 2.7874, 2.7874, 2.7874, 2.7874, 2.7874, 2.7874, 2.7423, 2.6581, 2.583, 2.4929, 2.4929, 2.4863, 2.3178, 2.3158, 2.2006, 2.1406, 2.1406, 2.1406, 2.1405, 2.1405, 1.9506, 1.5768, 1.9999, 0.9645, 1.9624, 0.0726, 0.0809, -0.0718, 0.347, -2.1951, 3.0176, 3.0176, 3.0141, 3.0122, 3.0101, 3.0079, 2.9945, 2.9839, 2.8756, 2.8264, 2.7915, 2.7451, 2.7451, 2.6803, 2.6803, 2.5834, 2.5834, 2.5834, 2.5832, 2.575, 2.5486, 2.4812, 2.4211, 2.4211, 2.4211, 2.4211, 2.4211, 2.4211, 2.4211, 2.4211, 2.4148, 2.4207, 2.2783, 2.346, 2.2575, 1.5886, 1.3587, 0.7426, 1.5289, 1.7427, 1.9751, 0.7961, 0.7961, 0.9835, -0.1026]}, \"token.table\": {\"Topic\": [2, 10, 7, 6, 5, 2, 3, 9, 1, 5, 1, 8, 3, 1, 2, 5, 2, 2, 3, 7, 10, 10, 1, 5, 7, 4, 7, 8, 6, 2, 1, 4, 5, 6, 8, 4, 6, 8, 4, 10, 1, 8, 6, 9, 6, 7, 9, 1, 8, 1, 6, 6, 9, 4, 5, 5, 1, 10, 7, 2, 10, 1, 4, 7, 9, 4, 1, 3, 9, 5, 5, 4, 3, 7, 9, 4, 1, 3, 4, 6, 4, 6, 7, 6, 5, 1, 7, 6, 2, 6, 1, 3, 4, 10, 1, 3, 5, 6, 3, 4, 5, 6, 7, 3, 2, 5, 3, 2, 3, 1, 4, 3, 6, 7, 3, 1, 2, 4, 5, 6, 7, 9, 10, 10, 7, 3, 10, 1, 6, 8, 8, 3, 9, 9, 8, 10, 3, 1, 4, 5, 1, 8, 8, 8, 3, 4, 3, 5, 9, 3, 1, 3, 8, 9, 5, 7, 2, 2, 6, 3, 4, 7, 1, 6, 10, 7, 8, 6, 3, 10, 4, 3, 6, 3, 4, 8, 4, 5, 7, 5, 10, 10, 1, 7, 3, 6, 7, 10, 4, 6, 9, 10, 4, 2, 4, 10, 1, 2, 4, 5, 6, 7, 9, 9, 1, 3, 4, 9, 2, 5, 8, 3, 10, 8, 7, 4, 8, 8, 3, 10, 6, 5, 5, 7, 4, 1, 5, 1, 2, 3, 4, 6, 4, 8, 1, 10, 8, 10, 1, 5, 6, 10, 3, 6, 7, 10, 1, 7, 3, 7, 5, 10, 9, 9, 9, 1, 1, 4, 5, 6, 8, 1, 3, 2, 4, 9, 8, 7, 2, 6, 1, 4, 9, 7, 6, 6, 8, 6, 1, 3, 4, 5, 8, 9, 1, 9, 2, 6, 7, 1, 4, 9, 5, 8, 5, 1, 2, 7, 10, 10, 3, 2, 6, 10, 5, 5, 3, 6, 8, 4, 4, 4, 9, 10, 1, 2, 7, 8, 10, 1, 5, 6, 2, 3, 10, 6, 1, 1, 4, 1, 4, 10, 1, 2, 3, 4, 5, 4, 3, 1, 2, 3, 5, 6, 7, 9, 5, 5, 7, 4, 9, 1, 6, 10, 2, 8, 7, 1, 9, 9, 2, 4, 9, 10, 4, 5, 6, 8, 1, 5, 5, 6, 2, 3, 8, 1, 8, 7, 9, 5, 2, 1, 2, 1, 6, 9, 5, 4, 8, 10, 10, 2, 4, 1, 2, 5, 10, 10, 7, 6, 7, 1, 5, 10, 3, 3, 6, 7, 10, 9, 3, 5, 6, 1, 4, 7, 2, 10, 9, 2, 9, 1, 3, 1, 7, 1, 3, 1, 3, 4, 2, 5, 8, 8, 7, 6, 8, 1, 2, 5, 10, 5, 4, 3, 1, 3, 6, 8, 1, 1, 4, 5, 6, 8, 4, 6, 1, 2, 8, 7, 4, 9, 9, 1, 7, 5, 8, 3, 7, 1, 2, 4, 6, 1, 6, 3, 4, 1, 4, 10, 1, 1, 1, 2, 3, 3, 3, 5, 4, 9, 8, 4, 6, 2, 2, 9, 1, 4, 5, 6, 7, 1, 10, 4, 1, 3, 5, 10, 10, 7, 6, 8, 9, 9, 8, 2, 2, 10], \"Freq\": [0.5359772534811098, 0.44664771123425817, 0.971369888956976, 0.9619545450021457, 0.9805332005762489, 0.9467336786878253, 0.08767693656728325, 0.8767693656728324, 0.07561994804365127, 0.9074393765238152, 0.9207614226626941, 0.9018617038246435, 0.9772665066975695, 0.6677936412211908, 0.13603203802653888, 0.185498233672553, 0.9747001836938857, 0.9186769833054967, 0.23832567118665324, 0.23832567118665324, 0.4766513423733065, 0.6551298760705215, 0.2525739891297335, 0.16838265941982233, 0.505147978259467, 0.8445808761574111, 0.225104924150664, 0.450209848301328, 0.9592359112850183, 0.9708936655294258, 0.30597859072951206, 0.14533983059651823, 0.4054216327166034, 0.0535462533776646, 0.09179357721885362, 0.6792723750831372, 0.8801770169825318, 0.9892821051559896, 0.45868630250952036, 0.9253013641485285, 0.9225384782388873, 0.754335267130581, 0.9348323676302347, 0.9067641829688002, 0.9477148102434595, 0.9229515070920298, 0.6011470202015239, 0.3892807357643641, 0.6055478111890109, 0.995579504228646, 0.8801770169825318, 0.9454649542784792, 0.8375281347462025, 0.9384325207055857, 0.9718824493947508, 0.9768857530781584, 0.32394287461142746, 0.6478857492228549, 0.9206750110823296, 0.8121914050402355, 0.17517853834201155, 0.1363137981425782, 0.6620955909782371, 0.1363137981425782, 0.058420199203962096, 0.8774780644719236, 0.9525388685095472, 0.9200629477236508, 0.662288353178508, 0.9713629663526522, 0.9464420083567359, 0.45867350294701525, 0.7808899313122958, 0.9527043694418964, 0.9796826341280105, 0.7583292565674643, 0.9683514597496125, 0.2556193051017379, 0.5112386102034758, 0.8801789668442586, 0.9680862323774493, 0.8801770169825318, 0.9206279419614364, 0.8801758419096933, 0.8861716708317515, 0.9612799863460066, 0.9186452440638625, 0.9547363024446761, 0.9857729024655565, 0.8925071012496032, 0.28657507114838854, 0.28657507114838854, 0.14328753557419427, 0.28657507114838854, 0.7098408517239313, 0.280200336206815, 0.5319816306334739, 0.43525769779102413, 0.9742244494004698, 0.7582654609289137, 0.3959534467876282, 0.29175517131719975, 0.29175517131719975, 0.974226521649812, 0.9186743210963052, 0.9768847696393624, 0.8875307913502078, 0.9290092297693358, 0.7808801965592276, 0.20831551838229254, 0.6249465551468776, 0.9418535688144043, 0.279089167408578, 0.7176578590506291, 0.9433522297698673, 0.3960496070602921, 0.044005511895588004, 0.35204409516470403, 0.044005511895588004, 0.044005511895588004, 0.044005511895588004, 0.08801102379117601, 0.9797429243014549, 0.5303302313578351, 0.9527009578404204, 0.3650719318439558, 0.7301438636879116, 0.9571919207078768, 0.9192812810409785, 0.9305171967228737, 0.9018629298839739, 0.9081621728205702, 0.6944896553756952, 0.9476981250894515, 0.9731267932087599, 0.6551489698417063, 0.9742203465690851, 0.32505523133333475, 0.433406975111113, 0.2167034875555565, 0.7969153565322635, 0.1943695991542106, 0.9018638285744257, 0.49101801964394587, 0.621766234660649, 0.3108831173303245, 0.04299733396666883, 0.5159680076000259, 0.38697600570001944, 0.9792388777448956, 0.1844820436696817, 0.7379281746787268, 0.7030168890798617, 0.9708913591710551, 0.9464371098858384, 0.9763656619290565, 0.9831290652028749, 0.9290085403619857, 0.8801758419096933, 0.4819519851054049, 0.344251417932432, 0.20655085075945923, 0.670366237598402, 0.29328522894930087, 0.04189788984990012, 0.9229593369114257, 0.9305152939482348, 0.9192780829529269, 0.9419270749117541, 0.9540601664821149, 0.8131841746464065, 0.8725867415047223, 0.8801721805880977, 0.2547296595453178, 0.2547296595453178, 0.5094593190906356, 0.4586849925417641, 0.9779863739584629, 0.6578066741851147, 0.9759426760290936, 0.8909862436306718, 0.6551298760705215, 0.5205588916291742, 0.451151039411951, 0.33896429106457593, 0.38133482744764796, 0.127111609149216, 0.08474107276614398, 0.8324495202395678, 0.16648990404791356, 0.6944160584378607, 0.6551298760705215, 0.9761552394651444, 0.26349843201624606, 0.6587460800406151, 0.043916405336041006, 0.6843843519799869, 0.0016531022994685676, 0.06612409197874271, 0.03967445518724562, 0.11902336556173687, 0.026449636791497082, 0.061164785080337, 0.9067680959154827, 0.9472433703049913, 0.9483854588061702, 0.35152216035405826, 0.7030443207081165, 0.9186772841053207, 0.6715841086938068, 0.9439468125326645, 0.41832952611022073, 0.41832952611022073, 0.892206318495225, 0.9210461406562866, 0.262767273921449, 0.7182305487186272, 0.5783405650816593, 0.9759088744844875, 0.5303302313578351, 0.8801770169825318, 0.8862672388100078, 0.9671857844248661, 0.9527009578404204, 0.812283283915687, 0.9472433703049913, 0.7636946181148332, 0.053292297608814675, 0.9059690593498494, 0.9783624186791999, 0.12818922464021393, 0.8332299601613905, 0.6462835193961012, 0.9721487908954064, 0.9449144942808276, 0.7680862859962525, 0.4475594317797901, 0.537071318135748, 0.28352227818248343, 0.11340891127299338, 0.39693118945547684, 0.11340891127299338, 0.9766214701058111, 0.8465615396248534, 0.7924741627503887, 0.7680539327931395, 0.9857414779100335, 0.9206537847726369, 0.9772546046886171, 0.9527043601891287, 0.9805339779316091, 0.8951993407881496, 0.9067641829688002, 0.5694629606100396, 0.8374797808471297, 0.968279093967727, 0.35114966561044625, 0.2293222306027404, 0.09316215618236329, 0.1719916729520553, 0.14332639412671275, 0.9820071653143972, 0.983133122639292, 0.8918953987328786, 0.06370681419520562, 0.6944197532779067, 0.9305152939482348, 0.9788975412267565, 0.9186756123238192, 0.8801758419096933, 0.9163143464200292, 0.0654510247442878, 0.6944329934631317, 0.9527003045578188, 0.9276952068075645, 0.7385887874305941, 0.752058599391065, 0.8801721805880977, 0.29353738977849675, 0.39734939348064807, 0.18256593754516262, 0.07875393384301133, 0.042956691187097086, 0.007159448531182848, 0.706269230274555, 0.2648509613529581, 0.9186743210963052, 0.8009087570510068, 0.8892809530298931, 0.9955714710944074, 0.748351313963334, 0.1870878284908335, 0.9718888017957876, 0.9305117680527338, 0.5278503384715456, 0.1379245052187292, 0.4137735156561876, 0.4137735156561876, 0.9580159477010823, 0.7424967369591837, 0.9419327765692606, 0.9186769833054967, 0.9541106926933832, 0.9254546428621571, 0.9610291138302701, 0.9768847696393624, 0.9742244494004698, 0.3026756333949178, 0.6053512667898356, 0.7583355592108392, 0.9290295398495381, 0.45875307794999987, 0.8789145252079434, 0.6551298760705215, 0.18740196783142424, 0.5555129760717219, 0.08700805649316125, 0.07362220164805952, 0.09370098391571212, 0.10802409927773661, 0.4591024219303806, 0.4050903722915123, 0.9561926283879215, 0.8242658472008845, 0.6551434125351061, 0.8801749604993964, 0.947249327883918, 0.02028488269293485, 0.953389486567938, 0.4064531058145828, 0.5419374744194437, 0.6750193915675526, 0.13487112820308753, 0.38775449358387665, 0.2528833653807891, 0.18544780127924534, 0.03371778205077188, 0.9282376985055342, 0.9742203465690851, 0.25679241817143295, 0.3950652587252814, 0.03950652587252815, 0.019753262936264074, 0.059259788808792214, 0.1382728405538485, 0.059259788808792214, 0.7374460124299502, 0.9768942339714244, 0.7924741627503887, 0.4587106175681044, 0.9067680959154827, 0.2952922641799707, 0.2952922641799707, 0.2952922641799707, 0.9290104792548208, 0.9303426688572431, 0.9556641956718841, 0.9828617055948707, 0.7560563683973143, 0.9832804392200761, 0.93466505727048, 0.27362904270173505, 0.5472580854034701, 0.6551298760705215, 0.2013408477239797, 0.1308715510205868, 0.5134191616961482, 0.1409385934067858, 0.9792506537349914, 0.9676911082858682, 0.5319816306334739, 0.43525769779102413, 0.9215061384160943, 0.06582186702972102, 0.9552305009654105, 0.9472433703049913, 0.8899187902646418, 0.399968430838345, 0.399968430838345, 0.9718853162644449, 0.7684882256782458, 0.9769947795618752, 0.9186772841053207, 0.9524791206948127, 0.4152019883970781, 0.4152019883970781, 0.8972058007567627, 0.29081550709295967, 0.43622326063943945, 0.14540775354647983, 0.781165412186135, 0.9534975268947458, 0.6647781875590396, 0.058882023537137854, 0.9126713648256367, 0.8866003310741797, 0.9254546428621571, 0.6551390429793637, 0.9591145212023935, 0.8925017662533841, 0.9206072153293395, 0.9525385463868996, 0.9641317023811796, 0.9030331821802442, 0.8525896055896879, 0.33896429106457593, 0.38133482744764796, 0.127111609149216, 0.08474107276614398, 0.9067668597772385, 0.9742270696512427, 0.5274468407168219, 0.45209729204299026, 0.9524880049023193, 0.030715598735902086, 0.9521835608129647, 0.7691513211342744, 0.22910890416765622, 0.6944913954995002, 0.9186769833054967, 0.9811270918162637, 0.6776910615452687, 0.31891344072718525, 0.947235396432011, 0.9206515099513274, 0.15757821900464042, 0.787891095023202, 0.9856890546915996, 0.8584410526398075, 0.12876615789597112, 0.33394482306142237, 0.3617735583165409, 0.2782873525511853, 0.49095546685822417, 0.9527021192339246, 0.8801770169825318, 0.7164648307243672, 0.5192155911876264, 0.4499868456959429, 0.906220635343474, 0.5304374236272992, 0.5277693288867397, 0.9282437342414909, 0.9330010323801895, 0.11979493126063619, 0.8385645188244534, 0.3132738721185005, 0.6550271871568647, 0.9472494195395638, 0.30212881652552026, 0.172645038014583, 0.1381160304116664, 0.1035870228087498, 0.284864312724062, 0.7413506711856807, 0.24711689039522688, 0.24729896518558653, 0.6411454652959651, 0.10075143026079451, 0.6577088435883433, 0.45869449924740446, 0.9067668597772385, 0.9196784251304445, 0.9827750783095899, 0.9477901764420428, 0.6112012869935176, 0.3820008043709485, 0.793038570928889, 0.1132912244184127, 0.9356295981074386, 0.9197320631895176, 0.04840695069418514, 0.8925166373123024, 0.9489659621256759, 0.967170793931163, 0.31821496462276055, 0.6364299292455211, 0.2211204540636925, 0.2211204540636925, 0.442240908127385, 0.9836074534830322, 0.9472433703049913, 0.5425197606171557, 0.3982325902402526, 0.05194338133568512, 0.9766224391455911, 0.946017306952978, 0.9867613553939026, 0.8356883831357977, 0.14661199704136804, 0.9068953923133, 0.381068792170857, 0.6192367872776425, 0.9708137125436889, 0.9186769833054967, 0.878899469031682, 0.3885158403047116, 0.29710034846830885, 0.02285387295910068, 0.2856734119887585, 0.9527003045578188, 0.061203180851381156, 0.9180477127707174, 0.459075149456091, 0.3819319424442761, 0.28644895683320704, 0.09548298561106902, 0.19096597122213804, 0.530341912323611, 0.9527009578404204, 0.5701293215052728, 0.4072352296466235, 0.9067641829688002, 0.9067641829688002, 0.4910097967149956, 0.9186743210963052, 0.9186769833054967, 0.8909434855805439], \"Term\": [\"aamiin\", \"aamiin\", \"aff\", \"afrika\", \"agama\", \"air\", \"aj\", \"aj\", \"ajar\", \"ajar\", \"akademy\", \"akhirat\", \"alhamdulilah\", \"alhamdulillah\", \"alhamdulillah\", \"alhamdulillah\", \"allah\", \"allhamdullilah\", \"alloh\", \"alloh\", \"alloh\", \"als\", \"ambil\", \"ambil\", \"ambil\", \"amiin\", \"amin\", \"amin\", \"amunisi\", \"an\", \"anak\", \"anak\", \"anak\", \"anak\", \"anak\", \"andal\", \"artikulasinyabrcoba\", \"asli\", \"asnawi\", \"atlet\", \"atlit\", \"attitude\", \"atur\", \"audisi\", \"ayah\", \"babak\", \"back\", \"bagus\", \"bagus\", \"bahasa\", \"balau\", \"bangga\", \"bantai\", \"barakallah\", \"basier\", \"basir\", \"bayar\", \"bayar\", \"bebas\", \"bela\", \"bela\", \"belanda\", \"belanda\", \"belanda\", \"belanda\", \"berita\", \"berkat\", \"bet\", \"betawi\", \"bicara\", \"bilang\", \"bin\", \"blm\", \"blom\", \"bola\", \"bos\", \"boy\", \"brazil\", \"brazil\", \"brbrafrika\", \"brlahir\", \"brmaksud\", \"brother\", \"brpernah\", \"brsemoga\", \"bs\", \"bukti\", \"bule\", \"bumi\", \"buruk\", \"butuh\", \"butuh\", \"butuh\", \"butuh\", \"calon\", \"calon\", \"camara\", \"camara\", \"cariin\", \"cengkok\", \"cerdas\", \"cerdas\", \"cerdas\", \"cerdikdan\", \"chow\", \"cil\", \"cocok\", \"contoh\", \"coret\", \"daerah\", \"daerah\", \"daftar\", \"dah\", \"dah\", \"dam\", \"darah\", \"darah\", \"darah\", \"darah\", \"darah\", \"darah\", \"darah\", \"dasar\", \"dat\", \"dblg\", \"de\", \"de\", \"deh\", \"dengar\", \"denger\", \"dieropa\", \"diga\", \"dipnggil\", \"dn\", \"dubbing\", \"dubes\", \"duet\", \"dukung\", \"dukung\", \"dukung\", \"dunia\", \"dunia\", \"dwijangge\", \"eh\", \"eliano\", \"eliano\", \"enak\", \"enak\", \"enak\", \"erik\", \"eropa\", \"eropa\", \"etika\", \"fasih\", \"fiik\", \"final\", \"gabung\", \"gacor\", \"gakbrsearch\", \"ganti\", \"ganti\", \"ganti\", \"garuda\", \"garuda\", \"garuda\", \"gass\", \"gen\", \"gin\", \"good\", \"goodluck\", \"grade\", \"gratisk\", \"guinea\", \"gw\", \"gw\", \"gw\", \"habib\", \"hamzah\", \"hasil\", \"hati\", \"haus\", \"hebben\", \"hidup\", \"hidup\", \"ho\", \"ho\", \"ho\", \"ho\", \"hoax\", \"hoax\", \"hubung\", \"hun\", \"hy\", \"indo\", \"indo\", \"indo\", \"indonesia\", \"indonesia\", \"indonesia\", \"indonesia\", \"indonesia\", \"indonesia\", \"indonesia\", \"indonesiamafia\", \"indonesinya\", \"indra\", \"inimah\", \"inimah\", \"insha\", \"insyaallah\", \"iqbal\", \"iri\", \"iri\", \"iya\", \"jajah\", \"jakarta\", \"jakarta\", \"janji\", \"jay\", \"je\", \"kacau\", \"kaga\", \"kak\", \"kakntr\", \"kali\", \"kapten\", \"karir\", \"kau\", \"kau\", \"kaya\", \"kayak\", \"kayak\", \"kecewa\", \"kecuali\", \"kelas\", \"kelompok\", \"kembang\", \"kembang\", \"keren\", \"keren\", \"keren\", \"keren\", \"ketua\", \"kiberbagik\", \"kibonus\", \"kimain\", \"klau\", \"klu\", \"klub\", \"kmren\", \"kn\", \"komitmen\", \"koplo\", \"kosong\", \"kostum\", \"ku\", \"lahir\", \"lahir\", \"lahir\", \"lahir\", \"lahir\", \"lancar\", \"latih\", \"lawan\", \"lawan\", \"lemari\", \"lhr\", \"liat\", \"lindung\", \"linguistik\", \"logat\", \"logat\", \"loo\", \"loyalitas\", \"lu\", \"lupa\", \"maen\", \"maiket\", \"main\", \"main\", \"main\", \"main\", \"main\", \"main\", \"maju\", \"maju\", \"manik\", \"manpirga\", \"mantab\", \"mantap\", \"marah\", \"marah\", \"markotop\", \"masbiar\", \"mashaallah\", \"masuk\", \"masuk\", \"masuk\", \"masya\", \"masyaallah\", \"mauro\", \"melindungimuuntuk\", \"mental\", \"merah\", \"meshaal\", \"meshall\", \"messalll\", \"milih\", \"milih\", \"mimpi\", \"min\", \"minat\", \"mnit\", \"moet\", \"moga\", \"moga\", \"moga\", \"moga\", \"moga\", \"muda\", \"muda\", \"muda\", \"mudah\", \"muka\", \"na\", \"nadaquot\", \"nakbrsukses\", \"nama\", \"nama\", \"nas\", \"nas\", \"nasionalisme\", \"naturalisasi\", \"naturalisasi\", \"naturalisasi\", \"naturalisasi\", \"naturalisasi\", \"naturilisasinya\", \"neeh\", \"negara\", \"negara\", \"negara\", \"negara\", \"negara\", \"negara\", \"negara\", \"negeri\", \"negro\", \"newmember\", \"neymar\", \"ngatur\", \"ngeri\", \"ngeri\", \"ngeri\", \"nggak\", \"ngomong\", \"nguyen\", \"nihh\", \"nyala\", \"nyanyi\", \"nyata\", \"ok\", \"ok\", \"omdat\", \"orang\", \"orang\", \"orang\", \"orang\", \"ortunya\", \"osman\", \"ousmane\", \"ousmane\", \"pas\", \"pas\", \"pasang\", \"pasehbbgt\", \"paspor\", \"peringkat\", \"peringkat\", \"persija\", \"pertiwi\", \"piala\", \"pijak\", \"pilar\", \"pindah\", \"pindah\", \"pinter\", \"postur\", \"postur\", \"postur\", \"prancis\", \"proses\", \"protes\", \"pssi\", \"pssi\", \"puluh\", \"putih\", \"qm\", \"rakyat\", \"rapi\", \"ras\", \"raya\", \"rendah\", \"rezeki\", \"romeny\", \"ru\", \"ru\", \"ru\", \"ru\", \"rusak\", \"safrigue\", \"salah\", \"salah\", \"salam\", \"sehat\", \"sehat\", \"semangat\", \"semangat\", \"semangattt\", \"senioramin\", \"sepak\", \"sepakbola\", \"sepakbola\", \"sepeeti\", \"serah\", \"serang\", \"serang\", \"sesuai\", \"shin tae-yong\", \"shin tae-yong\", \"sholeh\", \"sholeh\", \"sholeh\", \"sht\", \"sihyo\", \"simak\", \"sllu\", \"smg\", \"smg\", \"soleh\", \"solusi\", \"sombong\", \"spill\", \"strategi\", \"striker\", \"striker\", \"suara\", \"suara\", \"succes\", \"sudan\", \"sudan\", \"sudan\", \"sudan\", \"sudan\", \"suka\", \"suka\", \"sukses\", \"sukses\", \"sukses\", \"sunda\", \"sungai\", \"suport\", \"suruh\", \"susun\", \"swt\", \"syukur\", \"syukur\", \"tahan\", \"tahan\", \"talenta\", \"tanah\", \"tanah\", \"tanda\", \"tangguh\", \"tata\", \"tenang\", \"tenang\", \"terbang\", \"terbang\", \"terbang\", \"tim\", \"timnad\", \"timnas\", \"timnas\", \"timnas\", \"tohir\", \"tonton\", \"top\", \"towel\", \"towel\", \"trus\", \"tua\", \"tua\", \"tuhan\", \"tum\", \"tumbuh\", \"turun\", \"turun\", \"turun\", \"turun\", \"ubah\", \"umur\", \"umur\", \"untung\", \"van\", \"van\", \"van\", \"van\", \"wa\", \"wf\", \"wni\", \"wni\", \"yanyibbrbkira\", \"yob\", \"yra\", \"yunda\", \"yunior\", \"ze\"]}, \"R\": 30, \"lambda.step\": 0.01, \"plot.opts\": {\"xlab\": \"PC1\", \"ylab\": \"PC2\"}, \"topic.order\": [6, 10, 9, 1, 8, 7, 2, 5, 3, 4]};\n",
              "\n",
              "function LDAvis_load_lib(url, callback){\n",
              "  var s = document.createElement('script');\n",
              "  s.src = url;\n",
              "  s.async = true;\n",
              "  s.onreadystatechange = s.onload = callback;\n",
              "  s.onerror = function(){console.warn(\"failed to load library \" + url);};\n",
              "  document.getElementsByTagName(\"head\")[0].appendChild(s);\n",
              "}\n",
              "\n",
              "if(typeof(LDAvis) !== \"undefined\"){\n",
              "   // already loaded: just create the visualization\n",
              "   !function(LDAvis){\n",
              "       new LDAvis(\"#\" + \"ldavis_el9471373665063844968646961142\", ldavis_el9471373665063844968646961142_data);\n",
              "   }(LDAvis);\n",
              "}else if(typeof define === \"function\" && define.amd){\n",
              "   // require.js is available: use it to load d3/LDAvis\n",
              "   require.config({paths: {d3: \"https://d3js.org/d3.v5\"}});\n",
              "   require([\"d3\"], function(d3){\n",
              "      window.d3 = d3;\n",
              "      LDAvis_load_lib(\"https://cdn.jsdelivr.net/gh/bmabey/pyLDAvis@3.4.0/pyLDAvis/js/ldavis.v3.0.0.js\", function(){\n",
              "        new LDAvis(\"#\" + \"ldavis_el9471373665063844968646961142\", ldavis_el9471373665063844968646961142_data);\n",
              "      });\n",
              "    });\n",
              "}else{\n",
              "    // require.js not available: dynamically load d3 & LDAvis\n",
              "    LDAvis_load_lib(\"https://d3js.org/d3.v5.js\", function(){\n",
              "         LDAvis_load_lib(\"https://cdn.jsdelivr.net/gh/bmabey/pyLDAvis@3.4.0/pyLDAvis/js/ldavis.v3.0.0.js\", function(){\n",
              "                 new LDAvis(\"#\" + \"ldavis_el9471373665063844968646961142\", ldavis_el9471373665063844968646961142_data);\n",
              "            })\n",
              "         });\n",
              "}\n",
              "</script>"
            ]
          },
          "metadata": {},
          "execution_count": 50
        }
      ]
    },
    {
      "source": [
        "pyLDAvis.save_html(ldavis_prepared_naturalisasi, '/content/drive/MyDrive/LDA_Tpoic_Modelling/LDA Naturalisas/LDAvis_prepared_naturalisasi'+ str(total_topics) +'.html')"
      ],
      "cell_type": "code",
      "metadata": {
        "id": "WYR-aDJoxhds",
        "colab": {
          "base_uri": "https://localhost:8080/"
        },
        "outputId": "ebe0f484-fd50-4a8e-e78b-ba59ea805545"
      },
      "execution_count": 51,
      "outputs": [
        {
          "output_type": "stream",
          "name": "stderr",
          "text": [
            "/usr/local/lib/python3.10/dist-packages/ipykernel/ipkernel.py:283: DeprecationWarning: `should_run_async` will not call `transform_cell` automatically in the future. Please pass the result to `transformed_cell` argument and any exception that happen during thetransform in `preprocessing_exc_tuple` in IPython 7.17 and above.\n",
            "  and should_run_async(code)\n"
          ]
        }
      ]
    },
    {
      "cell_type": "markdown",
      "source": [],
      "metadata": {
        "id": "w7Fzq-g74UvM"
      }
    }
  ]
}