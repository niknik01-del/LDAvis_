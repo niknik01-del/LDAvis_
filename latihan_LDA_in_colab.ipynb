{
  "nbformat": 4,
  "nbformat_minor": 0,
  "metadata": {
    "colab": {
      "provenance": [],
      "include_colab_link": true
    },
    "kernelspec": {
      "name": "python3",
      "display_name": "Python 3"
    },
    "language_info": {
      "name": "python"
    },
    "widgets": {
      "application/vnd.jupyter.widget-state+json": {
        "7c21c65685ff45b89290eb503d4a2c50": {
          "model_module": "@jupyter-widgets/controls",
          "model_name": "HBoxModel",
          "model_module_version": "1.5.0",
          "state": {
            "_dom_classes": [],
            "_model_module": "@jupyter-widgets/controls",
            "_model_module_version": "1.5.0",
            "_model_name": "HBoxModel",
            "_view_count": null,
            "_view_module": "@jupyter-widgets/controls",
            "_view_module_version": "1.5.0",
            "_view_name": "HBoxView",
            "box_style": "",
            "children": [
              "IPY_MODEL_a8d9a1bc91184dbea91cd9c58fc7e747",
              "IPY_MODEL_2c687b02613247b4a311d4373a094924",
              "IPY_MODEL_078f279bfd5345b28d2e5ec9f7c2557e"
            ],
            "layout": "IPY_MODEL_bd6e4566cc584531a5b59bc05a134c22"
          }
        },
        "a8d9a1bc91184dbea91cd9c58fc7e747": {
          "model_module": "@jupyter-widgets/controls",
          "model_name": "HTMLModel",
          "model_module_version": "1.5.0",
          "state": {
            "_dom_classes": [],
            "_model_module": "@jupyter-widgets/controls",
            "_model_module_version": "1.5.0",
            "_model_name": "HTMLModel",
            "_view_count": null,
            "_view_module": "@jupyter-widgets/controls",
            "_view_module_version": "1.5.0",
            "_view_name": "HTMLView",
            "description": "",
            "description_tooltip": null,
            "layout": "IPY_MODEL_4b6e448836a843239368e0c35b9c8ece",
            "placeholder": "​",
            "style": "IPY_MODEL_fb81f44a90de4446989ca592033b3526",
            "value": "Pandas Apply: 100%"
          }
        },
        "2c687b02613247b4a311d4373a094924": {
          "model_module": "@jupyter-widgets/controls",
          "model_name": "FloatProgressModel",
          "model_module_version": "1.5.0",
          "state": {
            "_dom_classes": [],
            "_model_module": "@jupyter-widgets/controls",
            "_model_module_version": "1.5.0",
            "_model_name": "FloatProgressModel",
            "_view_count": null,
            "_view_module": "@jupyter-widgets/controls",
            "_view_module_version": "1.5.0",
            "_view_name": "ProgressView",
            "bar_style": "success",
            "description": "",
            "description_tooltip": null,
            "layout": "IPY_MODEL_c99e631ccab2413aa9b0d2102a5790d6",
            "max": 2081,
            "min": 0,
            "orientation": "horizontal",
            "style": "IPY_MODEL_e12323c8f0ab42bd94c3521074cd037a",
            "value": 2081
          }
        },
        "078f279bfd5345b28d2e5ec9f7c2557e": {
          "model_module": "@jupyter-widgets/controls",
          "model_name": "HTMLModel",
          "model_module_version": "1.5.0",
          "state": {
            "_dom_classes": [],
            "_model_module": "@jupyter-widgets/controls",
            "_model_module_version": "1.5.0",
            "_model_name": "HTMLModel",
            "_view_count": null,
            "_view_module": "@jupyter-widgets/controls",
            "_view_module_version": "1.5.0",
            "_view_name": "HTMLView",
            "description": "",
            "description_tooltip": null,
            "layout": "IPY_MODEL_696179e988ae40edb0ec51e0bc4aa935",
            "placeholder": "​",
            "style": "IPY_MODEL_fca6e79cb1274e8bb81244740712f711",
            "value": " 2081/2081 [00:00&lt;00:00, 56609.20it/s]"
          }
        },
        "bd6e4566cc584531a5b59bc05a134c22": {
          "model_module": "@jupyter-widgets/base",
          "model_name": "LayoutModel",
          "model_module_version": "1.2.0",
          "state": {
            "_model_module": "@jupyter-widgets/base",
            "_model_module_version": "1.2.0",
            "_model_name": "LayoutModel",
            "_view_count": null,
            "_view_module": "@jupyter-widgets/base",
            "_view_module_version": "1.2.0",
            "_view_name": "LayoutView",
            "align_content": null,
            "align_items": null,
            "align_self": null,
            "border": null,
            "bottom": null,
            "display": null,
            "flex": null,
            "flex_flow": null,
            "grid_area": null,
            "grid_auto_columns": null,
            "grid_auto_flow": null,
            "grid_auto_rows": null,
            "grid_column": null,
            "grid_gap": null,
            "grid_row": null,
            "grid_template_areas": null,
            "grid_template_columns": null,
            "grid_template_rows": null,
            "height": null,
            "justify_content": null,
            "justify_items": null,
            "left": null,
            "margin": null,
            "max_height": null,
            "max_width": null,
            "min_height": null,
            "min_width": null,
            "object_fit": null,
            "object_position": null,
            "order": null,
            "overflow": null,
            "overflow_x": null,
            "overflow_y": null,
            "padding": null,
            "right": null,
            "top": null,
            "visibility": null,
            "width": null
          }
        },
        "4b6e448836a843239368e0c35b9c8ece": {
          "model_module": "@jupyter-widgets/base",
          "model_name": "LayoutModel",
          "model_module_version": "1.2.0",
          "state": {
            "_model_module": "@jupyter-widgets/base",
            "_model_module_version": "1.2.0",
            "_model_name": "LayoutModel",
            "_view_count": null,
            "_view_module": "@jupyter-widgets/base",
            "_view_module_version": "1.2.0",
            "_view_name": "LayoutView",
            "align_content": null,
            "align_items": null,
            "align_self": null,
            "border": null,
            "bottom": null,
            "display": null,
            "flex": null,
            "flex_flow": null,
            "grid_area": null,
            "grid_auto_columns": null,
            "grid_auto_flow": null,
            "grid_auto_rows": null,
            "grid_column": null,
            "grid_gap": null,
            "grid_row": null,
            "grid_template_areas": null,
            "grid_template_columns": null,
            "grid_template_rows": null,
            "height": null,
            "justify_content": null,
            "justify_items": null,
            "left": null,
            "margin": null,
            "max_height": null,
            "max_width": null,
            "min_height": null,
            "min_width": null,
            "object_fit": null,
            "object_position": null,
            "order": null,
            "overflow": null,
            "overflow_x": null,
            "overflow_y": null,
            "padding": null,
            "right": null,
            "top": null,
            "visibility": null,
            "width": null
          }
        },
        "fb81f44a90de4446989ca592033b3526": {
          "model_module": "@jupyter-widgets/controls",
          "model_name": "DescriptionStyleModel",
          "model_module_version": "1.5.0",
          "state": {
            "_model_module": "@jupyter-widgets/controls",
            "_model_module_version": "1.5.0",
            "_model_name": "DescriptionStyleModel",
            "_view_count": null,
            "_view_module": "@jupyter-widgets/base",
            "_view_module_version": "1.2.0",
            "_view_name": "StyleView",
            "description_width": ""
          }
        },
        "c99e631ccab2413aa9b0d2102a5790d6": {
          "model_module": "@jupyter-widgets/base",
          "model_name": "LayoutModel",
          "model_module_version": "1.2.0",
          "state": {
            "_model_module": "@jupyter-widgets/base",
            "_model_module_version": "1.2.0",
            "_model_name": "LayoutModel",
            "_view_count": null,
            "_view_module": "@jupyter-widgets/base",
            "_view_module_version": "1.2.0",
            "_view_name": "LayoutView",
            "align_content": null,
            "align_items": null,
            "align_self": null,
            "border": null,
            "bottom": null,
            "display": null,
            "flex": null,
            "flex_flow": null,
            "grid_area": null,
            "grid_auto_columns": null,
            "grid_auto_flow": null,
            "grid_auto_rows": null,
            "grid_column": null,
            "grid_gap": null,
            "grid_row": null,
            "grid_template_areas": null,
            "grid_template_columns": null,
            "grid_template_rows": null,
            "height": null,
            "justify_content": null,
            "justify_items": null,
            "left": null,
            "margin": null,
            "max_height": null,
            "max_width": null,
            "min_height": null,
            "min_width": null,
            "object_fit": null,
            "object_position": null,
            "order": null,
            "overflow": null,
            "overflow_x": null,
            "overflow_y": null,
            "padding": null,
            "right": null,
            "top": null,
            "visibility": null,
            "width": null
          }
        },
        "e12323c8f0ab42bd94c3521074cd037a": {
          "model_module": "@jupyter-widgets/controls",
          "model_name": "ProgressStyleModel",
          "model_module_version": "1.5.0",
          "state": {
            "_model_module": "@jupyter-widgets/controls",
            "_model_module_version": "1.5.0",
            "_model_name": "ProgressStyleModel",
            "_view_count": null,
            "_view_module": "@jupyter-widgets/base",
            "_view_module_version": "1.2.0",
            "_view_name": "StyleView",
            "bar_color": null,
            "description_width": ""
          }
        },
        "696179e988ae40edb0ec51e0bc4aa935": {
          "model_module": "@jupyter-widgets/base",
          "model_name": "LayoutModel",
          "model_module_version": "1.2.0",
          "state": {
            "_model_module": "@jupyter-widgets/base",
            "_model_module_version": "1.2.0",
            "_model_name": "LayoutModel",
            "_view_count": null,
            "_view_module": "@jupyter-widgets/base",
            "_view_module_version": "1.2.0",
            "_view_name": "LayoutView",
            "align_content": null,
            "align_items": null,
            "align_self": null,
            "border": null,
            "bottom": null,
            "display": null,
            "flex": null,
            "flex_flow": null,
            "grid_area": null,
            "grid_auto_columns": null,
            "grid_auto_flow": null,
            "grid_auto_rows": null,
            "grid_column": null,
            "grid_gap": null,
            "grid_row": null,
            "grid_template_areas": null,
            "grid_template_columns": null,
            "grid_template_rows": null,
            "height": null,
            "justify_content": null,
            "justify_items": null,
            "left": null,
            "margin": null,
            "max_height": null,
            "max_width": null,
            "min_height": null,
            "min_width": null,
            "object_fit": null,
            "object_position": null,
            "order": null,
            "overflow": null,
            "overflow_x": null,
            "overflow_y": null,
            "padding": null,
            "right": null,
            "top": null,
            "visibility": null,
            "width": null
          }
        },
        "fca6e79cb1274e8bb81244740712f711": {
          "model_module": "@jupyter-widgets/controls",
          "model_name": "DescriptionStyleModel",
          "model_module_version": "1.5.0",
          "state": {
            "_model_module": "@jupyter-widgets/controls",
            "_model_module_version": "1.5.0",
            "_model_name": "DescriptionStyleModel",
            "_view_count": null,
            "_view_module": "@jupyter-widgets/base",
            "_view_module_version": "1.2.0",
            "_view_name": "StyleView",
            "description_width": ""
          }
        }
      }
    }
  },
  "cells": [
    {
      "cell_type": "markdown",
      "metadata": {
        "id": "view-in-github",
        "colab_type": "text"
      },
      "source": [
        "<a href=\"https://colab.research.google.com/github/niknik01-del/niknik01-del/blob/main/latihan_LDA_in_colab.ipynb\" target=\"_parent\"><img src=\"https://colab.research.google.com/assets/colab-badge.svg\" alt=\"Open In Colab\"/></a>"
      ]
    },
    {
      "cell_type": "markdown",
      "source": [
        "# Preparing Data"
      ],
      "metadata": {
        "id": "w87sQ_bfFu3S"
      }
    },
    {
      "source": [
        "from google.colab import drive\n",
        "drive.mount('/content/drive')"
      ],
      "cell_type": "code",
      "metadata": {
        "colab": {
          "base_uri": "https://localhost:8080/"
        },
        "id": "elsWL0NFJp9C",
        "outputId": "a8cd870e-948d-4f75-b07f-02c47c9fe2f6"
      },
      "execution_count": null,
      "outputs": [
        {
          "output_type": "stream",
          "name": "stdout",
          "text": [
            "Mounted at /content/drive\n"
          ]
        }
      ]
    },
    {
      "cell_type": "markdown",
      "metadata": {
        "id": "Us-FVDTlMj1d"
      },
      "source": [
        "# LDA Bahasa Indonesia"
      ]
    },
    {
      "cell_type": "markdown",
      "source": [],
      "metadata": {
        "id": "eEC-dC-qFs0B"
      }
    },
    {
      "cell_type": "markdown",
      "metadata": {
        "id": "VrlwHBpPslgu"
      },
      "source": [
        "Instalasi beberapa library yang diperlukan, untuk NLTK dan GENSIM sudah include di Colab"
      ]
    },
    {
      "cell_type": "code",
      "metadata": {
        "id": "Jb09FJAq58To",
        "colab": {
          "base_uri": "https://localhost:8080/"
        },
        "outputId": "5d87750c-2031-43dc-bcea-5fc982586f26"
      },
      "source": [
        "pip install --upgrade gensim"
      ],
      "execution_count": null,
      "outputs": [
        {
          "output_type": "stream",
          "name": "stdout",
          "text": [
            "Requirement already satisfied: gensim in /usr/local/lib/python3.10/dist-packages (4.3.3)\n",
            "Requirement already satisfied: numpy<2.0,>=1.18.5 in /usr/local/lib/python3.10/dist-packages (from gensim) (1.26.4)\n",
            "Requirement already satisfied: scipy<1.14.0,>=1.7.0 in /usr/local/lib/python3.10/dist-packages (from gensim) (1.13.1)\n",
            "Requirement already satisfied: smart-open>=1.8.1 in /usr/local/lib/python3.10/dist-packages (from gensim) (7.0.5)\n",
            "Requirement already satisfied: wrapt in /usr/local/lib/python3.10/dist-packages (from smart-open>=1.8.1->gensim) (1.17.0)\n"
          ]
        }
      ]
    },
    {
      "cell_type": "code",
      "metadata": {
        "id": "Npfo7KZAsKKT",
        "colab": {
          "base_uri": "https://localhost:8080/"
        },
        "outputId": "9ecf1ad8-3ff7-49d7-a16f-d153ca9adef0"
      },
      "source": [
        "pip install pyldavis==3.2.1"
      ],
      "execution_count": null,
      "outputs": [
        {
          "output_type": "stream",
          "name": "stdout",
          "text": [
            "Collecting pyldavis==3.2.1\n",
            "  Using cached pyLDAvis-3.2.1-py2.py3-none-any.whl\n",
            "Requirement already satisfied: wheel>=0.23.0 in /usr/local/lib/python3.10/dist-packages (from pyldavis==3.2.1) (0.45.0)\n",
            "Requirement already satisfied: numpy>=1.9.2 in /usr/local/lib/python3.10/dist-packages (from pyldavis==3.2.1) (1.26.4)\n",
            "Requirement already satisfied: scipy>=0.18.0 in /usr/local/lib/python3.10/dist-packages (from pyldavis==3.2.1) (1.13.1)\n",
            "Requirement already satisfied: joblib>=0.8.4 in /usr/local/lib/python3.10/dist-packages (from pyldavis==3.2.1) (1.4.2)\n",
            "Requirement already satisfied: jinja2>=2.7.2 in /usr/local/lib/python3.10/dist-packages (from pyldavis==3.2.1) (3.1.4)\n",
            "Requirement already satisfied: numexpr in /usr/local/lib/python3.10/dist-packages (from pyldavis==3.2.1) (2.10.1)\n",
            "Requirement already satisfied: future in /usr/local/lib/python3.10/dist-packages (from pyldavis==3.2.1) (1.0.0)\n",
            "Requirement already satisfied: funcy in /usr/local/lib/python3.10/dist-packages (from pyldavis==3.2.1) (2.0)\n",
            "Requirement already satisfied: pandas>=0.17.0 in /usr/local/lib/python3.10/dist-packages (from pyldavis==3.2.1) (2.2.3)\n",
            "Requirement already satisfied: MarkupSafe>=2.0 in /usr/local/lib/python3.10/dist-packages (from jinja2>=2.7.2->pyldavis==3.2.1) (3.0.2)\n",
            "Requirement already satisfied: python-dateutil>=2.8.2 in /usr/local/lib/python3.10/dist-packages (from pandas>=0.17.0->pyldavis==3.2.1) (2.8.2)\n",
            "Requirement already satisfied: pytz>=2020.1 in /usr/local/lib/python3.10/dist-packages (from pandas>=0.17.0->pyldavis==3.2.1) (2024.2)\n",
            "Requirement already satisfied: tzdata>=2022.7 in /usr/local/lib/python3.10/dist-packages (from pandas>=0.17.0->pyldavis==3.2.1) (2024.2)\n",
            "Requirement already satisfied: six>=1.5 in /usr/local/lib/python3.10/dist-packages (from python-dateutil>=2.8.2->pandas>=0.17.0->pyldavis==3.2.1) (1.16.0)\n",
            "Installing collected packages: pyldavis\n",
            "  Attempting uninstall: pyldavis\n",
            "    Found existing installation: pyLDAvis 3.4.1\n",
            "    Uninstalling pyLDAvis-3.4.1:\n",
            "      Successfully uninstalled pyLDAvis-3.4.1\n",
            "Successfully installed pyldavis-3.2.1\n"
          ]
        }
      ]
    },
    {
      "source": [
        "!pip install --upgrade pyLDAvis"
      ],
      "cell_type": "code",
      "metadata": {
        "colab": {
          "base_uri": "https://localhost:8080/"
        },
        "id": "HMxwbJnDIBVP",
        "outputId": "558a2468-50ed-4f04-e598-e3983b7bb149"
      },
      "execution_count": null,
      "outputs": [
        {
          "output_type": "stream",
          "name": "stdout",
          "text": [
            "Collecting pyLDAvis\n",
            "  Downloading pyLDAvis-3.4.1-py3-none-any.whl.metadata (4.2 kB)\n",
            "Requirement already satisfied: numpy>=1.24.2 in /usr/local/lib/python3.10/dist-packages (from pyLDAvis) (1.26.4)\n",
            "Requirement already satisfied: scipy in /usr/local/lib/python3.10/dist-packages (from pyLDAvis) (1.13.1)\n",
            "Requirement already satisfied: pandas>=2.0.0 in /usr/local/lib/python3.10/dist-packages (from pyLDAvis) (2.2.2)\n",
            "Requirement already satisfied: joblib>=1.2.0 in /usr/local/lib/python3.10/dist-packages (from pyLDAvis) (1.4.2)\n",
            "Requirement already satisfied: jinja2 in /usr/local/lib/python3.10/dist-packages (from pyLDAvis) (3.1.4)\n",
            "Requirement already satisfied: numexpr in /usr/local/lib/python3.10/dist-packages (from pyLDAvis) (2.10.2)\n",
            "Collecting funcy (from pyLDAvis)\n",
            "  Downloading funcy-2.0-py2.py3-none-any.whl.metadata (5.9 kB)\n",
            "Requirement already satisfied: scikit-learn>=1.0.0 in /usr/local/lib/python3.10/dist-packages (from pyLDAvis) (1.5.2)\n",
            "Requirement already satisfied: gensim in /usr/local/lib/python3.10/dist-packages (from pyLDAvis) (4.3.3)\n",
            "Requirement already satisfied: setuptools in /usr/local/lib/python3.10/dist-packages (from pyLDAvis) (75.1.0)\n",
            "Requirement already satisfied: python-dateutil>=2.8.2 in /usr/local/lib/python3.10/dist-packages (from pandas>=2.0.0->pyLDAvis) (2.8.2)\n",
            "Requirement already satisfied: pytz>=2020.1 in /usr/local/lib/python3.10/dist-packages (from pandas>=2.0.0->pyLDAvis) (2024.2)\n",
            "Requirement already satisfied: tzdata>=2022.7 in /usr/local/lib/python3.10/dist-packages (from pandas>=2.0.0->pyLDAvis) (2024.2)\n",
            "Requirement already satisfied: threadpoolctl>=3.1.0 in /usr/local/lib/python3.10/dist-packages (from scikit-learn>=1.0.0->pyLDAvis) (3.5.0)\n",
            "Requirement already satisfied: smart-open>=1.8.1 in /usr/local/lib/python3.10/dist-packages (from gensim->pyLDAvis) (7.0.5)\n",
            "Requirement already satisfied: MarkupSafe>=2.0 in /usr/local/lib/python3.10/dist-packages (from jinja2->pyLDAvis) (3.0.2)\n",
            "Requirement already satisfied: six>=1.5 in /usr/local/lib/python3.10/dist-packages (from python-dateutil>=2.8.2->pandas>=2.0.0->pyLDAvis) (1.16.0)\n",
            "Requirement already satisfied: wrapt in /usr/local/lib/python3.10/dist-packages (from smart-open>=1.8.1->gensim->pyLDAvis) (1.17.0)\n",
            "Downloading pyLDAvis-3.4.1-py3-none-any.whl (2.6 MB)\n",
            "\u001b[2K   \u001b[90m━━━━━━━━━━━━━━━━━━━━━━━━━━━━━━━━━━━━━━━━\u001b[0m \u001b[32m2.6/2.6 MB\u001b[0m \u001b[31m21.5 MB/s\u001b[0m eta \u001b[36m0:00:00\u001b[0m\n",
            "\u001b[?25hDownloading funcy-2.0-py2.py3-none-any.whl (30 kB)\n",
            "Installing collected packages: funcy, pyLDAvis\n",
            "Successfully installed funcy-2.0 pyLDAvis-3.4.1\n"
          ]
        }
      ]
    },
    {
      "cell_type": "code",
      "metadata": {
        "id": "RZFgf793QUdr",
        "colab": {
          "base_uri": "https://localhost:8080/"
        },
        "outputId": "8499c2cf-4fe1-4931-9716-f87e5cba6d39"
      },
      "source": [
        "pip install Sastrawi"
      ],
      "execution_count": null,
      "outputs": [
        {
          "output_type": "stream",
          "name": "stdout",
          "text": [
            "Collecting Sastrawi\n",
            "  Downloading Sastrawi-1.0.1-py2.py3-none-any.whl.metadata (909 bytes)\n",
            "Downloading Sastrawi-1.0.1-py2.py3-none-any.whl (209 kB)\n",
            "\u001b[2K   \u001b[90m━━━━━━━━━━━━━━━━━━━━━━━━━━━━━━━━━━━━━━━━\u001b[0m \u001b[32m209.7/209.7 kB\u001b[0m \u001b[31m5.4 MB/s\u001b[0m eta \u001b[36m0:00:00\u001b[0m\n",
            "\u001b[?25hInstalling collected packages: Sastrawi\n",
            "Successfully installed Sastrawi-1.0.1\n"
          ]
        }
      ]
    },
    {
      "cell_type": "code",
      "metadata": {
        "id": "8qR4cmyvQbNf",
        "colab": {
          "base_uri": "https://localhost:8080/"
        },
        "outputId": "c276df40-4289-4549-8a40-bba503cc64e3"
      },
      "source": [
        "pip install swifter"
      ],
      "execution_count": null,
      "outputs": [
        {
          "output_type": "stream",
          "name": "stdout",
          "text": [
            "Collecting swifter\n",
            "  Downloading swifter-1.4.0.tar.gz (1.2 MB)\n",
            "\u001b[?25l     \u001b[90m━━━━━━━━━━━━━━━━━━━━━━━━━━━━━━━━━━━━━━━━\u001b[0m \u001b[32m0.0/1.2 MB\u001b[0m \u001b[31m?\u001b[0m eta \u001b[36m-:--:--\u001b[0m\r\u001b[2K     \u001b[91m━━━━━━━━━━━━━━━\u001b[0m\u001b[90m╺\u001b[0m\u001b[90m━━━━━━━━━━━━━━━━━━━━━━━━\u001b[0m \u001b[32m0.5/1.2 MB\u001b[0m \u001b[31m13.2 MB/s\u001b[0m eta \u001b[36m0:00:01\u001b[0m\r\u001b[2K     \u001b[90m━━━━━━━━━━━━━━━━━━━━━━━━━━━━━━━━━━━━━━━━\u001b[0m \u001b[32m1.2/1.2 MB\u001b[0m \u001b[31m19.6 MB/s\u001b[0m eta \u001b[36m0:00:00\u001b[0m\n",
            "\u001b[?25h  Preparing metadata (setup.py) ... \u001b[?25l\u001b[?25hdone\n",
            "Requirement already satisfied: pandas>=1.0.0 in /usr/local/lib/python3.10/dist-packages (from swifter) (2.2.2)\n",
            "Requirement already satisfied: psutil>=5.6.6 in /usr/local/lib/python3.10/dist-packages (from swifter) (5.9.5)\n",
            "Requirement already satisfied: dask>=2.10.0 in /usr/local/lib/python3.10/dist-packages (from dask[dataframe]>=2.10.0->swifter) (2024.10.0)\n",
            "Requirement already satisfied: tqdm>=4.33.0 in /usr/local/lib/python3.10/dist-packages (from swifter) (4.66.6)\n",
            "Requirement already satisfied: click>=8.1 in /usr/local/lib/python3.10/dist-packages (from dask>=2.10.0->dask[dataframe]>=2.10.0->swifter) (8.1.7)\n",
            "Requirement already satisfied: cloudpickle>=3.0.0 in /usr/local/lib/python3.10/dist-packages (from dask>=2.10.0->dask[dataframe]>=2.10.0->swifter) (3.1.0)\n",
            "Requirement already satisfied: fsspec>=2021.09.0 in /usr/local/lib/python3.10/dist-packages (from dask>=2.10.0->dask[dataframe]>=2.10.0->swifter) (2024.10.0)\n",
            "Requirement already satisfied: packaging>=20.0 in /usr/local/lib/python3.10/dist-packages (from dask>=2.10.0->dask[dataframe]>=2.10.0->swifter) (24.2)\n",
            "Requirement already satisfied: partd>=1.4.0 in /usr/local/lib/python3.10/dist-packages (from dask>=2.10.0->dask[dataframe]>=2.10.0->swifter) (1.4.2)\n",
            "Requirement already satisfied: pyyaml>=5.3.1 in /usr/local/lib/python3.10/dist-packages (from dask>=2.10.0->dask[dataframe]>=2.10.0->swifter) (6.0.2)\n",
            "Requirement already satisfied: toolz>=0.10.0 in /usr/local/lib/python3.10/dist-packages (from dask>=2.10.0->dask[dataframe]>=2.10.0->swifter) (0.12.1)\n",
            "Requirement already satisfied: importlib-metadata>=4.13.0 in /usr/local/lib/python3.10/dist-packages (from dask>=2.10.0->dask[dataframe]>=2.10.0->swifter) (8.5.0)\n",
            "Collecting dask-expr<1.2,>=1.1 (from dask[dataframe]>=2.10.0->swifter)\n",
            "  Downloading dask_expr-1.1.20-py3-none-any.whl.metadata (2.6 kB)\n",
            "Requirement already satisfied: numpy>=1.22.4 in /usr/local/lib/python3.10/dist-packages (from pandas>=1.0.0->swifter) (1.26.4)\n",
            "Requirement already satisfied: python-dateutil>=2.8.2 in /usr/local/lib/python3.10/dist-packages (from pandas>=1.0.0->swifter) (2.8.2)\n",
            "Requirement already satisfied: pytz>=2020.1 in /usr/local/lib/python3.10/dist-packages (from pandas>=1.0.0->swifter) (2024.2)\n",
            "Requirement already satisfied: tzdata>=2022.7 in /usr/local/lib/python3.10/dist-packages (from pandas>=1.0.0->swifter) (2024.2)\n",
            "INFO: pip is looking at multiple versions of dask-expr to determine which version is compatible with other requirements. This could take a while.\n",
            "  Downloading dask_expr-1.1.19-py3-none-any.whl.metadata (2.6 kB)\n",
            "  Downloading dask_expr-1.1.18-py3-none-any.whl.metadata (2.6 kB)\n",
            "  Downloading dask_expr-1.1.16-py3-none-any.whl.metadata (2.5 kB)\n",
            "Requirement already satisfied: pyarrow>=14.0.1 in /usr/local/lib/python3.10/dist-packages (from dask-expr<1.2,>=1.1->dask[dataframe]>=2.10.0->swifter) (17.0.0)\n",
            "Requirement already satisfied: zipp>=3.20 in /usr/local/lib/python3.10/dist-packages (from importlib-metadata>=4.13.0->dask>=2.10.0->dask[dataframe]>=2.10.0->swifter) (3.21.0)\n",
            "Requirement already satisfied: locket in /usr/local/lib/python3.10/dist-packages (from partd>=1.4.0->dask>=2.10.0->dask[dataframe]>=2.10.0->swifter) (1.0.0)\n",
            "Requirement already satisfied: six>=1.5 in /usr/local/lib/python3.10/dist-packages (from python-dateutil>=2.8.2->pandas>=1.0.0->swifter) (1.16.0)\n",
            "Downloading dask_expr-1.1.16-py3-none-any.whl (243 kB)\n",
            "\u001b[2K   \u001b[90m━━━━━━━━━━━━━━━━━━━━━━━━━━━━━━━━━━━━━━━━\u001b[0m \u001b[32m243.2/243.2 kB\u001b[0m \u001b[31m14.6 MB/s\u001b[0m eta \u001b[36m0:00:00\u001b[0m\n",
            "\u001b[?25hBuilding wheels for collected packages: swifter\n",
            "  Building wheel for swifter (setup.py) ... \u001b[?25l\u001b[?25hdone\n",
            "  Created wheel for swifter: filename=swifter-1.4.0-py3-none-any.whl size=16507 sha256=38cfcadc2baa2ed42c30e8c9862fd759f85a62527ab7550a035fe1cf5b410a98\n",
            "  Stored in directory: /root/.cache/pip/wheels/e4/cf/51/0904952972ee2c7aa3709437065278dc534ec1b8d2ad41b443\n",
            "Successfully built swifter\n",
            "Installing collected packages: dask-expr, swifter\n",
            "Successfully installed dask-expr-1.1.16 swifter-1.4.0\n"
          ]
        }
      ]
    },
    {
      "cell_type": "markdown",
      "metadata": {
        "id": "L7coo48jufYT"
      },
      "source": [
        "# Preparing Data"
      ]
    },
    {
      "cell_type": "code",
      "metadata": {
        "id": "-3S6Z9dmMiRs"
      },
      "source": [
        "import pandas as pd\n",
        "import numpy as np\n",
        "import nltk"
      ],
      "execution_count": null,
      "outputs": []
    },
    {
      "cell_type": "code",
      "metadata": {
        "colab": {
          "base_uri": "https://localhost:8080/"
        },
        "id": "khx0rcagM5rd",
        "outputId": "98a51ac8-248d-4815-e898-2b47f2e98859"
      },
      "source": [
        "#import data dari GDrive\n",
        "#bisa lihat di video ini https://youtu.be/AAwgqf2d82k\n",
        "! gdown --id 1JXKfpv2rAPVn9OcPQAVh3YCXGn7XnACR #id file di drive, bisa dilihat di link file dengan menu share file"
      ],
      "execution_count": null,
      "outputs": [
        {
          "output_type": "stream",
          "name": "stdout",
          "text": [
            "/usr/local/lib/python3.10/dist-packages/gdown/__main__.py:140: FutureWarning: Option `--id` was deprecated in version 4.3.1 and will be removed in 5.0. You don't need to pass it anymore to use a file ID.\n",
            "  warnings.warn(\n",
            "Downloading...\n",
            "From: https://drive.google.com/uc?id=1JXKfpv2rAPVn9OcPQAVh3YCXGn7XnACR\n",
            "To: /content/dataBerita.xlsx\n",
            "100% 26.9k/26.9k [00:00<00:00, 29.7MB/s]\n"
          ]
        }
      ]
    },
    {
      "cell_type": "code",
      "source": [
        "import pandas as pd\n",
        "import numpy as np\n",
        "import nltk"
      ],
      "metadata": {
        "id": "2VkwkcKRF2Vx"
      },
      "execution_count": null,
      "outputs": []
    },
    {
      "source": [
        "!pip install gdown"
      ],
      "cell_type": "code",
      "metadata": {
        "colab": {
          "base_uri": "https://localhost:8080/"
        },
        "id": "jblJliRxtoIb",
        "outputId": "c0eea470-f75f-4336-a4bc-af96e865038c"
      },
      "execution_count": null,
      "outputs": [
        {
          "output_type": "stream",
          "name": "stdout",
          "text": [
            "Requirement already satisfied: gdown in /usr/local/lib/python3.10/dist-packages (5.2.0)\n",
            "Requirement already satisfied: beautifulsoup4 in /usr/local/lib/python3.10/dist-packages (from gdown) (4.12.3)\n",
            "Requirement already satisfied: filelock in /usr/local/lib/python3.10/dist-packages (from gdown) (3.16.1)\n",
            "Requirement already satisfied: requests[socks] in /usr/local/lib/python3.10/dist-packages (from gdown) (2.32.3)\n",
            "Requirement already satisfied: tqdm in /usr/local/lib/python3.10/dist-packages (from gdown) (4.66.6)\n",
            "Requirement already satisfied: soupsieve>1.2 in /usr/local/lib/python3.10/dist-packages (from beautifulsoup4->gdown) (2.6)\n",
            "Requirement already satisfied: charset-normalizer<4,>=2 in /usr/local/lib/python3.10/dist-packages (from requests[socks]->gdown) (3.4.0)\n",
            "Requirement already satisfied: idna<4,>=2.5 in /usr/local/lib/python3.10/dist-packages (from requests[socks]->gdown) (3.10)\n",
            "Requirement already satisfied: urllib3<3,>=1.21.1 in /usr/local/lib/python3.10/dist-packages (from requests[socks]->gdown) (2.2.3)\n",
            "Requirement already satisfied: certifi>=2017.4.17 in /usr/local/lib/python3.10/dist-packages (from requests[socks]->gdown) (2024.8.30)\n",
            "Requirement already satisfied: PySocks!=1.5.7,>=1.5.6 in /usr/local/lib/python3.10/dist-packages (from requests[socks]->gdown) (1.7.1)\n"
          ]
        }
      ]
    },
    {
      "cell_type": "code",
      "source": [
        "#import data dari Gdrive\n",
        "! gdown--id 1LSUFjTX8gRN1x1PwBmIPeJ"
      ],
      "metadata": {
        "colab": {
          "base_uri": "https://localhost:8080/"
        },
        "id": "GMzEDRXwJBsf",
        "outputId": "e158627a-8c55-498d-ba52-e78727b81e30"
      },
      "execution_count": null,
      "outputs": [
        {
          "output_type": "stream",
          "name": "stdout",
          "text": [
            "/bin/bash: line 1: gdown--id: command not found\n"
          ]
        }
      ]
    },
    {
      "source": [
        "!rm -rf ~/.cache/gdown  # Delete gdown cache directory"
      ],
      "cell_type": "code",
      "metadata": {
        "id": "f8QX9moXugzz"
      },
      "execution_count": null,
      "outputs": []
    },
    {
      "source": [
        "#import file xlsx untuk proses normalisasi\n",
        "!gdown --id 1LSUFjTX8gRN1x1PwBmIPeJ #id file di drive"
      ],
      "cell_type": "code",
      "metadata": {
        "colab": {
          "base_uri": "https://localhost:8080/"
        },
        "id": "ryx-jmvztyyA",
        "outputId": "c379142c-fdc3-411a-8769-9290e29e19fa"
      },
      "execution_count": null,
      "outputs": [
        {
          "output_type": "stream",
          "name": "stdout",
          "text": [
            "/usr/local/lib/python3.10/dist-packages/gdown/__main__.py:140: FutureWarning: Option `--id` was deprecated in version 4.3.1 and will be removed in 5.0. You don't need to pass it anymore to use a file ID.\n",
            "  warnings.warn(\n",
            "Failed to retrieve file url:\n",
            "\n",
            "\tCannot retrieve the public link of the file. You may need to change\n",
            "\tthe permission to 'Anyone with the link', or have had many accesses.\n",
            "\tCheck FAQ in https://github.com/wkentaro/gdown?tab=readme-ov-file#faq.\n",
            "\n",
            "You may still be able to access the file from the browser:\n",
            "\n",
            "\thttps://drive.google.com/uc?id=1LSUFjTX8gRN1x1PwBmIPeJ\n",
            "\n",
            "but Gdown can't. Please check connections and permissions.\n"
          ]
        }
      ]
    },
    {
      "source": [
        "# Instead of using pd.read_csv(), use pd.read_excel() if your data is in an Excel file:\n",
        "#dataSB = pd.read_excel('/content/drive/MyDrive/LDA_Tpoic_Modelling/youtube-comments_palestine israel war_LDA.xlsx', sheet_name=\"Sheet1\") #lokasi file\n",
        "\n",
        "\n",
        "#If your file is actually a CSV file, remove the 'sheet_name' argument:\n",
        "dataSB = pd.read_csv('/content/drive/MyDrive/LDA_Tpoic_Modelling/youtube-comments_naturalisasi_Timnas_2000.csv') #lokasi file"
      ],
      "cell_type": "code",
      "metadata": {
        "id": "a5OBJzJaTghi"
      },
      "execution_count": null,
      "outputs": []
    },
    {
      "source": [
        "print(dataSB.head())"
      ],
      "cell_type": "code",
      "metadata": {
        "colab": {
          "base_uri": "https://localhost:8080/"
        },
        "id": "o95Oiz6vNx1l",
        "outputId": "241d03d2-2b4d-4b69-a197-c80a51d405ba"
      },
      "execution_count": null,
      "outputs": [
        {
          "output_type": "stream",
          "name": "stdout",
          "text": [
            "            publishedAt     authorDisplayName  \\\n",
            "0  2024-11-25T06:40:42Z        @RAIHANAHSHORT   \n",
            "1  2024-11-24T14:28:49Z         @TrueLine-x2p   \n",
            "2  2024-11-24T14:27:13Z  @yohanessetiawan2170   \n",
            "3  2024-11-24T13:38:07Z          @Broomen-f3e   \n",
            "4  2024-11-24T13:25:53Z      @RizqAkhmadFauzi   \n",
            "\n",
            "                                textDisplay  likeCount  \n",
            "0                     NAMAY RAFAEL NGUYEN 😅          0  \n",
            "1  Baru satu Wkwkw <br>Easy buat bang jay😂😅          0  \n",
            "2              Nguyen sound System horeg...          0  \n",
            "3     Wajib hati-hati nih udh setara neymar          0  \n",
            "4                               Ga ngaruh 😂          0  \n"
          ]
        }
      ]
    },
    {
      "source": [
        "# Check the actual column names in your DataFrame\n",
        "print(dataSB.columns)\n",
        "\n",
        "# If 'textDisplay' is not in the columns, and 'textdata' is, use 'textdata':\n",
        "if 'textDisplay' not in dataSB.columns and 'textdata' in dataSB.columns:\n",
        "    text_column_name = 'textdata'\n",
        "# Otherwise, if 'textDisplay' is in the columns, use it:\n",
        "elif 'textDisplay' in dataSB.columns:\n",
        "    text_column_name = 'textDisplay'\n",
        "# If neither column exists, raise an error or handle it appropriately\n",
        "else:\n",
        "    raise KeyError(\"Neither 'textDisplay' nor 'textdata' column found in the DataFrame.\")\n",
        "\n",
        "# Now use the correct column name for case folding and renaming\n",
        "dataSB[text_column_name] = dataSB[text_column_name].str.lower()\n",
        "dataSB = dataSB.rename(columns={text_column_name: 'textdata'})"
      ],
      "cell_type": "code",
      "metadata": {
        "colab": {
          "base_uri": "https://localhost:8080/"
        },
        "id": "Ir5NrLcF0LFc",
        "outputId": "b6278e63-0610-4a8f-b3fb-832425b3a99f"
      },
      "execution_count": null,
      "outputs": [
        {
          "output_type": "stream",
          "name": "stdout",
          "text": [
            "Index(['publishedAt', 'authorDisplayName', 'textDisplay', 'likeCount'], dtype='object')\n"
          ]
        }
      ]
    },
    {
      "cell_type": "code",
      "metadata": {
        "colab": {
          "base_uri": "https://localhost:8080/"
        },
        "id": "Ir6LW2PuN7dw",
        "outputId": "0e59dd09-868e-4b81-b2f9-e34912008d32"
      },
      "source": [
        "# ------ Case Folding --------\n",
        "# gunakan fungsi Series.str.lower() pada Pandas\n",
        "\n",
        "dataSB['textdata'] = dataSB['textdata'].str.lower()\n",
        "\n",
        "print('Case Folding Result : \\n')\n",
        "print(dataSB['textdata'].head(5))"
      ],
      "execution_count": null,
      "outputs": [
        {
          "output_type": "stream",
          "name": "stdout",
          "text": [
            "Case Folding Result : \n",
            "\n",
            "0                       namay rafael nguyen 😅\n",
            "1    baru satu wkwkw <br>easy buat bang jay😂😅\n",
            "2                nguyen sound system horeg...\n",
            "3       wajib hati-hati nih udh setara neymar\n",
            "4                                 ga ngaruh 😂\n",
            "Name: textdata, dtype: object\n"
          ]
        }
      ]
    },
    {
      "cell_type": "markdown",
      "metadata": {
        "id": "6QHEcQNluwc2"
      },
      "source": [
        "# Tokenizing\n",
        "\n",
        "Menghapus karakter-karakter yang tidak penting dari text"
      ]
    },
    {
      "cell_type": "code",
      "metadata": {
        "id": "bRMi74w-OKjC"
      },
      "source": [
        "import string\n",
        "import re #regex library\n",
        "\n",
        "# import word_tokenize & FreqDist from NLTK\n",
        "from nltk.tokenize import word_tokenize\n",
        "from nltk.probability import FreqDist"
      ],
      "execution_count": null,
      "outputs": []
    },
    {
      "source": [
        "# ------ Tokenizing ---------\n",
        "import nltk\n",
        "\n",
        "nltk.download('punkt')\n",
        "nltk.download('punkt_tab') # Added this line to download 'punkt_tab' data\n",
        "\n",
        "def remove_tweet_special(text):\n",
        "    # Check if the input is a string\n",
        "    if isinstance(text, str):\n",
        "        # remove tab, new line, ans back slice\n",
        "        text = text.replace('\\\\t',\" \").replace('\\\\n',\" \").replace('\\\\u',\" \").replace('\\\\',\"\")\n",
        "        # remove non ASCII (emoticon, chinese word, .etc)\n",
        "        text = text.encode('ascii', 'replace').decode('ascii')\n",
        "        # remove mention, link, hashtag\n",
        "        text = ' '.join(re.sub(\"([@#][A-Za-z0-9]+)|(\\w+:\\/\\/\\S+)\",\" \", text).split())\n",
        "        # remove incomplete URL\n",
        "        return text.replace(\"http://\", \" \").replace(\"https://\", \" \")\n",
        "    else:\n",
        "        # If not a string, return an empty string to avoid errors\n",
        "        return ''\n",
        "\n",
        "dataSB['textdata'] = dataSB['textdata'].apply(remove_tweet_special)\n",
        "\n",
        "# ... (rest of your code)\n",
        "#remove number\n",
        "def remove_number(text):\n",
        "    return  re.sub(r\"\\d+\", \"\", text)\n",
        "\n",
        "dataSB['textdata'] = dataSB['textdata'].apply(remove_number)\n",
        "\n",
        "#remove punctuation\n",
        "def remove_punctuation(text):\n",
        "    return text.translate(str.maketrans(\"\",\"\",string.punctuation))\n",
        "\n",
        "dataSB['textdata'] = dataSB['textdata'].apply(remove_punctuation)\n",
        "\n",
        "#remove whitespace leading & trailing\n",
        "def remove_whitespace_LT(text):\n",
        "    return text.strip()\n",
        "\n",
        "dataSB['textdata'] = dataSB['textdata'].apply(remove_whitespace_LT)\n",
        "\n",
        "#remove multiple whitespace into single whitespace\n",
        "def remove_whitespace_multiple(text):\n",
        "    return re.sub('\\s+',' ',text)\n",
        "\n",
        "dataSB['textdata'] = dataSB['textdata'].apply(remove_whitespace_multiple)\n",
        "\n",
        "# remove single char\n",
        "def remove_singl_char(text):\n",
        "    return re.sub(r\"\\b[a-zA-Z]\\b\", \"\", text)\n",
        "\n",
        "dataSB['textdata'] = dataSB['textdata'].apply(remove_singl_char)\n",
        "\n",
        "# NLTK word tokenize\n",
        "def word_tokenize_wrapper(text):\n",
        "    return word_tokenize(text)\n",
        "\n",
        "dataSB['textdata_tokens'] = dataSB['textdata'].apply(word_tokenize_wrapper)\n",
        "\n",
        "print('Tokenizing Result : \\n')\n",
        "print(dataSB['textdata_tokens'].head())\n"
      ],
      "cell_type": "code",
      "metadata": {
        "colab": {
          "base_uri": "https://localhost:8080/"
        },
        "id": "HXpsqNe5V6vH",
        "outputId": "1ec441ee-5b03-4007-fc2d-867f1ca28a9d"
      },
      "execution_count": null,
      "outputs": [
        {
          "output_type": "stream",
          "name": "stderr",
          "text": [
            "[nltk_data] Downloading package punkt to /root/nltk_data...\n",
            "[nltk_data]   Unzipping tokenizers/punkt.zip.\n",
            "[nltk_data] Downloading package punkt_tab to /root/nltk_data...\n",
            "[nltk_data]   Unzipping tokenizers/punkt_tab.zip.\n"
          ]
        },
        {
          "output_type": "stream",
          "name": "stdout",
          "text": [
            "Tokenizing Result : \n",
            "\n",
            "0                         [namay, rafael, nguyen]\n",
            "1    [baru, satu, wkwkw, breasy, buat, bang, jay]\n",
            "2                  [nguyen, sound, system, horeg]\n",
            "3     [wajib, hatihati, nih, udh, setara, neymar]\n",
            "4                                    [ga, ngaruh]\n",
            "Name: textdata_tokens, dtype: object\n"
          ]
        }
      ]
    },
    {
      "cell_type": "code",
      "metadata": {
        "id": "k9aPbhDxdPSv",
        "colab": {
          "base_uri": "https://localhost:8080/"
        },
        "outputId": "67213372-4237-4724-8f77-bc8a61b272b1"
      },
      "source": [
        "# NLTK calc frequency distribution\n",
        "def freqDist_wrapper(text):\n",
        "    return FreqDist(text)\n",
        "\n",
        "dataSB['textdata_tokens_fdist'] = dataSB['textdata_tokens'].apply(freqDist_wrapper)\n",
        "\n",
        "print('Frequency Tokens : \\n')\n",
        "print(dataSB['textdata_tokens_fdist'].head().apply(lambda x : x.most_common()))"
      ],
      "execution_count": null,
      "outputs": [
        {
          "output_type": "stream",
          "name": "stdout",
          "text": [
            "Frequency Tokens : \n",
            "\n",
            "0               [(namay, 1), (rafael, 1), (nguyen, 1)]\n",
            "1    [(baru, 1), (satu, 1), (wkwkw, 1), (breasy, 1)...\n",
            "2    [(nguyen, 1), (sound, 1), (system, 1), (horeg,...\n",
            "3    [(wajib, 1), (hatihati, 1), (nih, 1), (udh, 1)...\n",
            "4                               [(ga, 1), (ngaruh, 1)]\n",
            "Name: textdata_tokens_fdist, dtype: object\n"
          ]
        }
      ]
    },
    {
      "cell_type": "markdown",
      "metadata": {
        "id": "oNgujoy0dPSw"
      },
      "source": [
        "# Stopwords\n",
        "Membersihkan teks dari kata-kata yang termasuk ke dalam stopwords"
      ]
    },
    {
      "cell_type": "code",
      "metadata": {
        "colab": {
          "base_uri": "https://localhost:8080/"
        },
        "id": "XQ_gaIXZdgS5",
        "outputId": "0dc75e94-ec0c-43d7-c6be-b68750a44fe4"
      },
      "source": [
        "nltk.download('stopwords')"
      ],
      "execution_count": null,
      "outputs": [
        {
          "output_type": "stream",
          "name": "stderr",
          "text": [
            "[nltk_data] Downloading package stopwords to /root/nltk_data...\n",
            "[nltk_data]   Unzipping corpora/stopwords.zip.\n"
          ]
        },
        {
          "output_type": "execute_result",
          "data": {
            "text/plain": [
              "True"
            ]
          },
          "metadata": {},
          "execution_count": 15
        }
      ]
    },
    {
      "cell_type": "code",
      "metadata": {
        "id": "PO8UwLZddPSx",
        "colab": {
          "base_uri": "https://localhost:8080/"
        },
        "outputId": "37f89204-bee3-410f-bf5e-41eba98bafad"
      },
      "source": [
        "from nltk.corpus import stopwords\n",
        "\n",
        "# ----------------------- get stopword from NLTK stopword -------------------------------\n",
        "# get stopword indonesia\n",
        "list_stopwords = stopwords.words('indonesian')\n",
        "\n",
        "\n",
        "# ---------------------------- manualy add stopword  ------------------------------------\n",
        "# append additional stopword\n",
        "list_stopwords.extend([\"yg\", \"dg\", \"rt\", \"dgn\", \"ny\", \"d\", 'klo',\n",
        "                       'kalo', 'amp', 'biar', 'bikin', 'bilang',\n",
        "                       'gak', 'ga', 'krn', 'nya', 'nih', 'sih',\n",
        "                       'si', 'tau', 'tdk', 'tuh', 'utk', 'ya',\n",
        "                       'jd', 'jgn', 'sdh', 'aja', 'n', 't',\n",
        "                       'nyg', 'hehe', 'pen', 'u', 'nan', 'loh', 'rt',\n",
        "                       '&amp', 'yah', 'bisnis','udh','wkwkw',\n",
        "                       'bang'])\n",
        "\n",
        "# convert list to dictionary\n",
        "list_stopwords = set(list_stopwords)\n",
        "\n",
        "#remove stopword pada list token\n",
        "def stopwords_removal(words):\n",
        "    return [word for word in words if word not in list_stopwords]\n",
        "\n",
        "dataSB['textdata_tokens_WSW'] = dataSB['textdata_tokens'].apply(stopwords_removal)\n",
        "\n",
        "print(dataSB['textdata_tokens_WSW'].head())"
      ],
      "execution_count": null,
      "outputs": [
        {
          "output_type": "stream",
          "name": "stdout",
          "text": [
            "0              [namay, rafael, nguyen]\n",
            "1                        [breasy, jay]\n",
            "2       [nguyen, sound, system, horeg]\n",
            "3    [wajib, hatihati, setara, neymar]\n",
            "4                             [ngaruh]\n",
            "Name: textdata_tokens_WSW, dtype: object\n"
          ]
        }
      ]
    },
    {
      "cell_type": "markdown",
      "metadata": {
        "id": "KLT9hddUdPSx"
      },
      "source": [
        "# Normalisasi\n",
        "Mengganti kata-kata tertentu dengan kata lain yang lebih tepat"
      ]
    },
    {
      "cell_type": "code",
      "metadata": {
        "colab": {
          "base_uri": "https://localhost:8080/"
        },
        "id": "yGn1ja6KPtce",
        "outputId": "e27dde9d-cb33-4da3-a52d-69634c119805"
      },
      "source": [
        "#import file xlsx untuk proses normalisasi\n",
        "! gdown --id 1LSUFjTX8gRN1x1PwBmIPeJ #id file di drive"
      ],
      "execution_count": null,
      "outputs": [
        {
          "output_type": "stream",
          "name": "stdout",
          "text": [
            "/usr/local/lib/python3.10/dist-packages/gdown/__main__.py:140: FutureWarning: Option `--id` was deprecated in version 4.3.1 and will be removed in 5.0. You don't need to pass it anymore to use a file ID.\n",
            "  warnings.warn(\n",
            "Failed to retrieve file url:\n",
            "\n",
            "\tCannot retrieve the public link of the file. You may need to change\n",
            "\tthe permission to 'Anyone with the link', or have had many accesses.\n",
            "\tCheck FAQ in https://github.com/wkentaro/gdown?tab=readme-ov-file#faq.\n",
            "\n",
            "You may still be able to access the file from the browser:\n",
            "\n",
            "\thttps://drive.google.com/uc?id=1LSUFjTX8gRN1x1PwBmIPeJ\n",
            "\n",
            "but Gdown can't. Please check connections and permissions.\n"
          ]
        }
      ]
    },
    {
      "source": [
        "!wget -O normalisasi.xlsx \"https://drive.google.com/uc?id=1LSUFjTX8gRN1x1PwBmIPeJ\""
      ],
      "cell_type": "code",
      "metadata": {
        "colab": {
          "base_uri": "https://localhost:8080/"
        },
        "id": "EeXaYBGHc8KL",
        "outputId": "7469a7f8-7f19-4463-a5ba-8eea35564d2a"
      },
      "execution_count": null,
      "outputs": [
        {
          "output_type": "stream",
          "name": "stdout",
          "text": [
            "--2024-12-04 12:43:30--  https://drive.google.com/uc?id=1LSUFjTX8gRN1x1PwBmIPeJ\n",
            "Resolving drive.google.com (drive.google.com)... 142.251.2.113, 142.251.2.138, 142.251.2.139, ...\n",
            "Connecting to drive.google.com (drive.google.com)|142.251.2.113|:443... connected.\n",
            "HTTP request sent, awaiting response... 303 See Other\n",
            "Location: https://drive.usercontent.google.com/download?id=1LSUFjTX8gRN1x1PwBmIPeJ [following]\n",
            "--2024-12-04 12:43:30--  https://drive.usercontent.google.com/download?id=1LSUFjTX8gRN1x1PwBmIPeJ\n",
            "Resolving drive.usercontent.google.com (drive.usercontent.google.com)... 74.125.137.132, 2607:f8b0:4023:c03::84\n",
            "Connecting to drive.usercontent.google.com (drive.usercontent.google.com)|74.125.137.132|:443... connected.\n",
            "HTTP request sent, awaiting response... 404 Not Found\n",
            "2024-12-04 12:43:30 ERROR 404: Not Found.\n",
            "\n"
          ]
        }
      ]
    },
    {
      "cell_type": "code",
      "metadata": {
        "colab": {
          "base_uri": "https://localhost:8080/",
          "height": 487
        },
        "id": "PAWdsJhwP6RQ",
        "outputId": "be283026-97a4-4b7b-edf3-e85efd77a61d"
      },
      "source": [
        "normalizad_word = pd.read_excel('/content/drive/MyDrive/LDA_Tpoic_Modelling/normalisasi.xlsx') #lokasi file\n",
        "\n",
        "normalizad_word_dict = {}\n",
        "\n",
        "for index, row in normalizad_word.iterrows():\n",
        "    if row[0] not in normalizad_word_dict:\n",
        "        normalizad_word_dict[row[0]] = row[1]\n",
        "\n",
        "def normalized_term(document):\n",
        "    return [normalizad_word_dict[term] if term in normalizad_word_dict else term for term in document]\n",
        "\n",
        "dataSB['textdata_normalized'] = dataSB['textdata_tokens_WSW'].apply(normalized_term)\n",
        "\n",
        "dataSB['textdata_normalized'].head(10)"
      ],
      "execution_count": null,
      "outputs": [
        {
          "output_type": "stream",
          "name": "stderr",
          "text": [
            "<ipython-input-17-de14f503ff4a>:6: FutureWarning: Series.__getitem__ treating keys as positions is deprecated. In a future version, integer keys will always be treated as labels (consistent with DataFrame behavior). To access a value by position, use `ser.iloc[pos]`\n",
            "  if row[0] not in normalizad_word_dict:\n",
            "<ipython-input-17-de14f503ff4a>:7: FutureWarning: Series.__getitem__ treating keys as positions is deprecated. In a future version, integer keys will always be treated as labels (consistent with DataFrame behavior). To access a value by position, use `ser.iloc[pos]`\n",
            "  normalizad_word_dict[row[0]] = row[1]\n"
          ]
        },
        {
          "output_type": "execute_result",
          "data": {
            "text/plain": [
              "0                              [namay, rafael, nguyen]\n",
              "1                                        [breasy, jay]\n",
              "2                       [nguyen, sound, system, horeg]\n",
              "3                    [wajib, hatihati, setara, neymar]\n",
              "4                                             [ngaruh]\n",
              "5    [kocak, vietnam, pemain, gabung, rela, ganti, ...\n",
              "6    [vietnam, indonesia, menaturalisasi, pemain, b...\n",
              "7                                      [nguyen, orang]\n",
              "8         [ngapain, aff, doang, bjir, aff, akui, fifa]\n",
              "9          [bagussemoga, mengalahkan, indonesiawkwkwk]\n",
              "Name: textdata_normalized, dtype: object"
            ],
            "text/html": [
              "<div>\n",
              "<style scoped>\n",
              "    .dataframe tbody tr th:only-of-type {\n",
              "        vertical-align: middle;\n",
              "    }\n",
              "\n",
              "    .dataframe tbody tr th {\n",
              "        vertical-align: top;\n",
              "    }\n",
              "\n",
              "    .dataframe thead th {\n",
              "        text-align: right;\n",
              "    }\n",
              "</style>\n",
              "<table border=\"1\" class=\"dataframe\">\n",
              "  <thead>\n",
              "    <tr style=\"text-align: right;\">\n",
              "      <th></th>\n",
              "      <th>textdata_normalized</th>\n",
              "    </tr>\n",
              "  </thead>\n",
              "  <tbody>\n",
              "    <tr>\n",
              "      <th>0</th>\n",
              "      <td>[namay, rafael, nguyen]</td>\n",
              "    </tr>\n",
              "    <tr>\n",
              "      <th>1</th>\n",
              "      <td>[breasy, jay]</td>\n",
              "    </tr>\n",
              "    <tr>\n",
              "      <th>2</th>\n",
              "      <td>[nguyen, sound, system, horeg]</td>\n",
              "    </tr>\n",
              "    <tr>\n",
              "      <th>3</th>\n",
              "      <td>[wajib, hatihati, setara, neymar]</td>\n",
              "    </tr>\n",
              "    <tr>\n",
              "      <th>4</th>\n",
              "      <td>[ngaruh]</td>\n",
              "    </tr>\n",
              "    <tr>\n",
              "      <th>5</th>\n",
              "      <td>[kocak, vietnam, pemain, gabung, rela, ganti, ...</td>\n",
              "    </tr>\n",
              "    <tr>\n",
              "      <th>6</th>\n",
              "      <td>[vietnam, indonesia, menaturalisasi, pemain, b...</td>\n",
              "    </tr>\n",
              "    <tr>\n",
              "      <th>7</th>\n",
              "      <td>[nguyen, orang]</td>\n",
              "    </tr>\n",
              "    <tr>\n",
              "      <th>8</th>\n",
              "      <td>[ngapain, aff, doang, bjir, aff, akui, fifa]</td>\n",
              "    </tr>\n",
              "    <tr>\n",
              "      <th>9</th>\n",
              "      <td>[bagussemoga, mengalahkan, indonesiawkwkwk]</td>\n",
              "    </tr>\n",
              "  </tbody>\n",
              "</table>\n",
              "</div><br><label><b>dtype:</b> object</label>"
            ]
          },
          "metadata": {},
          "execution_count": 17
        }
      ]
    },
    {
      "cell_type": "code",
      "metadata": {
        "id": "TNzlXxSJdPSy",
        "colab": {
          "base_uri": "https://localhost:8080/"
        },
        "outputId": "764d0d82-7d7f-4b6e-eaf7-923e08795f2c"
      },
      "source": [
        "# import Sastrawi package\n",
        "from Sastrawi.Stemmer.StemmerFactory import StemmerFactory\n",
        "import swifter\n",
        "\n",
        "# create stemmer\n",
        "factory = StemmerFactory()\n",
        "stemmer = factory.create_stemmer()\n",
        "\n",
        "# stemmed\n",
        "def stemmed_wrapper(term):\n",
        "    return stemmer.stem(term)\n",
        "\n",
        "term_dict = {}\n",
        "\n",
        "for document in dataSB['textdata_normalized']:\n",
        "    for term in document:\n",
        "        if term not in term_dict:\n",
        "            term_dict[term] = ' '\n",
        "\n",
        "print(len(term_dict))\n"
      ],
      "execution_count": null,
      "outputs": [
        {
          "output_type": "stream",
          "name": "stdout",
          "text": [
            "4381\n"
          ]
        }
      ]
    },
    {
      "cell_type": "markdown",
      "source": [
        "Agak lama"
      ],
      "metadata": {
        "id": "unRYztWdKkhp"
      }
    },
    {
      "cell_type": "code",
      "metadata": {
        "scrolled": true,
        "id": "Kvkan257dPS1"
      },
      "source": [
        "for term in term_dict:\n",
        "    term_dict[term] = stemmed_wrapper(term)\n",
        "\n",
        "    # untuk melihat hasilnya silahkan jalankan baris di bawah ini\n",
        "    # print(term,\":\" ,term_dict[term])"
      ],
      "execution_count": null,
      "outputs": []
    },
    {
      "cell_type": "code",
      "metadata": {
        "colab": {
          "base_uri": "https://localhost:8080/",
          "height": 257,
          "referenced_widgets": [
            "7c21c65685ff45b89290eb503d4a2c50",
            "a8d9a1bc91184dbea91cd9c58fc7e747",
            "2c687b02613247b4a311d4373a094924",
            "078f279bfd5345b28d2e5ec9f7c2557e",
            "bd6e4566cc584531a5b59bc05a134c22",
            "4b6e448836a843239368e0c35b9c8ece",
            "fb81f44a90de4446989ca592033b3526",
            "c99e631ccab2413aa9b0d2102a5790d6",
            "e12323c8f0ab42bd94c3521074cd037a",
            "696179e988ae40edb0ec51e0bc4aa935",
            "fca6e79cb1274e8bb81244740712f711"
          ]
        },
        "id": "OWpFQKehdPS2",
        "outputId": "6da24bb2-ee9f-4760-abcc-3e1edf356bf5"
      },
      "source": [
        "# apply stemmed term to dataframe\n",
        "def get_stemmed_term(document):\n",
        "    return [term_dict[term] for term in document]\n",
        "\n",
        "dataSB['textdata_tokens_stemmed'] = dataSB['textdata_normalized'].swifter.apply(get_stemmed_term)\n",
        "\n",
        "print(dataSB['textdata_tokens_stemmed'])"
      ],
      "execution_count": null,
      "outputs": [
        {
          "output_type": "display_data",
          "data": {
            "text/plain": [
              "Pandas Apply:   0%|          | 0/2081 [00:00<?, ?it/s]"
            ],
            "application/vnd.jupyter.widget-view+json": {
              "version_major": 2,
              "version_minor": 0,
              "model_id": "7c21c65685ff45b89290eb503d4a2c50"
            }
          },
          "metadata": {}
        },
        {
          "output_type": "stream",
          "name": "stdout",
          "text": [
            "0                                 [namay, rafael, nguyen]\n",
            "1                                           [breasy, jay]\n",
            "2                          [nguyen, sound, system, horeg]\n",
            "3                         [wajib, hatihati, tara, neymar]\n",
            "4                                                [ngaruh]\n",
            "                              ...                        \n",
            "2076                   [smg, sukses, nak, gabung, timnas]\n",
            "2077                                               [umur]\n",
            "2078                        [suara, bagus, nyanyi, fasih]\n",
            "2079    [nyanyi, rusak, mental, atlet, suport, sepak, ...\n",
            "2080    [bwaduh, suruh, yanyibbrbkira, audisi, nyanyi,...\n",
            "Name: textdata_tokens_stemmed, Length: 2081, dtype: object\n"
          ]
        }
      ]
    },
    {
      "cell_type": "code",
      "metadata": {
        "id": "Lc6tEmgadPS2",
        "colab": {
          "base_uri": "https://localhost:8080/"
        },
        "outputId": "4fd2e598-ee72-464d-ec22-8e9ddc865308"
      },
      "source": [
        "#stopwords #2\n",
        "\n",
        "from nltk.corpus import stopwords\n",
        "\n",
        "# ----------------------- get stopword from NLTK stopword -------------------------------\n",
        "# get stopword indonesia\n",
        "list_stopwords = stopwords.words('indonesian')\n",
        "\n",
        "\n",
        "# ---------------------------- manualy add stopword  ------------------------------------\n",
        "# append additional stopword\n",
        "list_stopwords.extend(['ole','krn','org','ki','sdh','mu','kirain',\n",
        "                       'da','udah','aja','tp','bgt','ma','jd','utk',\n",
        "                       'gk','gak','dgn','bro','tau','klo','bh','sih',\n",
        "                       'nak','nih','nya','ayo','ya','kalo','ga','mah',\n",
        "                       'bh','ni','ma','jgn','d','si','dr','tdk','biar',\n",
        "                       'yg','semoga','banget','bwaduh'])\n",
        "\n",
        "# convert list to dictionary\n",
        "list_stopwords = set(list_stopwords)\n",
        "\n",
        "#remove stopword pada list token\n",
        "def stopwords_removal(words):\n",
        "    return [word for word in words if word not in list_stopwords]\n",
        "\n",
        "dataSB['textdata_tokens_stemmed2'] = dataSB['textdata_tokens_stemmed'].apply(stopwords_removal)\n",
        "\n",
        "print(dataSB['textdata_tokens_stemmed2'].head())"
      ],
      "execution_count": null,
      "outputs": [
        {
          "output_type": "stream",
          "name": "stdout",
          "text": [
            "0            [namay, rafael, nguyen]\n",
            "1                      [breasy, jay]\n",
            "2     [nguyen, sound, system, horeg]\n",
            "3    [wajib, hatihati, tara, neymar]\n",
            "4                           [ngaruh]\n",
            "Name: textdata_tokens_stemmed2, dtype: object\n"
          ]
        }
      ]
    },
    {
      "cell_type": "code",
      "metadata": {
        "id": "bWZQiEXPdPS3",
        "colab": {
          "base_uri": "https://localhost:8080/"
        },
        "outputId": "b0cd7c1a-c31e-42ed-dc1e-aeff234edd82"
      },
      "source": [
        "for i in range(len(dataSB)):\n",
        "        a=dataSB.iloc[i][6]\n",
        "        document.append(a)\n",
        "\n",
        "document[0:5]"
      ],
      "execution_count": null,
      "outputs": [
        {
          "output_type": "execute_result",
          "data": {
            "text/plain": [
              "['bwaduh', 'suruh', 'yanyibbrbkira', 'audisi', 'nyanyi']"
            ]
          },
          "metadata": {},
          "execution_count": 22
        }
      ]
    },
    {
      "cell_type": "code",
      "metadata": {
        "id": "uhGB8a3HdPS3",
        "colab": {
          "base_uri": "https://localhost:8080/",
          "height": 458
        },
        "outputId": "3686b681-ddc3-428c-cff0-be1686f9982f"
      },
      "source": [
        "doc_clean = dataSB['textdata_tokens_stemmed2']\n",
        "doc_clean"
      ],
      "execution_count": null,
      "outputs": [
        {
          "output_type": "execute_result",
          "data": {
            "text/plain": [
              "0                                 [namay, rafael, nguyen]\n",
              "1                                           [breasy, jay]\n",
              "2                          [nguyen, sound, system, horeg]\n",
              "3                         [wajib, hatihati, tara, neymar]\n",
              "4                                                [ngaruh]\n",
              "                              ...                        \n",
              "2076                        [smg, sukses, gabung, timnas]\n",
              "2077                                               [umur]\n",
              "2078                        [suara, bagus, nyanyi, fasih]\n",
              "2079    [nyanyi, rusak, mental, atlet, suport, sepak, ...\n",
              "2080    [suruh, yanyibbrbkira, audisi, nyanyi, koplo, ...\n",
              "Name: textdata_tokens_stemmed2, Length: 2081, dtype: object"
            ],
            "text/html": [
              "<div>\n",
              "<style scoped>\n",
              "    .dataframe tbody tr th:only-of-type {\n",
              "        vertical-align: middle;\n",
              "    }\n",
              "\n",
              "    .dataframe tbody tr th {\n",
              "        vertical-align: top;\n",
              "    }\n",
              "\n",
              "    .dataframe thead th {\n",
              "        text-align: right;\n",
              "    }\n",
              "</style>\n",
              "<table border=\"1\" class=\"dataframe\">\n",
              "  <thead>\n",
              "    <tr style=\"text-align: right;\">\n",
              "      <th></th>\n",
              "      <th>textdata_tokens_stemmed2</th>\n",
              "    </tr>\n",
              "  </thead>\n",
              "  <tbody>\n",
              "    <tr>\n",
              "      <th>0</th>\n",
              "      <td>[namay, rafael, nguyen]</td>\n",
              "    </tr>\n",
              "    <tr>\n",
              "      <th>1</th>\n",
              "      <td>[breasy, jay]</td>\n",
              "    </tr>\n",
              "    <tr>\n",
              "      <th>2</th>\n",
              "      <td>[nguyen, sound, system, horeg]</td>\n",
              "    </tr>\n",
              "    <tr>\n",
              "      <th>3</th>\n",
              "      <td>[wajib, hatihati, tara, neymar]</td>\n",
              "    </tr>\n",
              "    <tr>\n",
              "      <th>4</th>\n",
              "      <td>[ngaruh]</td>\n",
              "    </tr>\n",
              "    <tr>\n",
              "      <th>...</th>\n",
              "      <td>...</td>\n",
              "    </tr>\n",
              "    <tr>\n",
              "      <th>2076</th>\n",
              "      <td>[smg, sukses, gabung, timnas]</td>\n",
              "    </tr>\n",
              "    <tr>\n",
              "      <th>2077</th>\n",
              "      <td>[umur]</td>\n",
              "    </tr>\n",
              "    <tr>\n",
              "      <th>2078</th>\n",
              "      <td>[suara, bagus, nyanyi, fasih]</td>\n",
              "    </tr>\n",
              "    <tr>\n",
              "      <th>2079</th>\n",
              "      <td>[nyanyi, rusak, mental, atlet, suport, sepak, ...</td>\n",
              "    </tr>\n",
              "    <tr>\n",
              "      <th>2080</th>\n",
              "      <td>[suruh, yanyibbrbkira, audisi, nyanyi, koplo, ...</td>\n",
              "    </tr>\n",
              "  </tbody>\n",
              "</table>\n",
              "<p>2081 rows × 1 columns</p>\n",
              "</div><br><label><b>dtype:</b> object</label>"
            ]
          },
          "metadata": {},
          "execution_count": 23
        }
      ]
    },
    {
      "cell_type": "code",
      "source": [],
      "metadata": {
        "id": "I00Ou70oHRCG"
      },
      "execution_count": null,
      "outputs": []
    },
    {
      "source": [
        "import matplotlib.pyplot as plt\n",
        "from wordcloud import WordCloud, STOPWORDS\n",
        "from google.colab import drive\n",
        "\n",
        "# Mount Google Drive\n",
        "#drive.mount('/content/drive')\n",
        "\n",
        "# Gabungkan semua token yang telah dibersihkan menjadi satu string teks\n",
        "all_words = ' '.join([' '.join(tokens) for tokens in dataSB['textdata_tokens_stemmed2']])\n",
        "\n",
        "# Buat objek WordCloud\n",
        "wordcloud = WordCloud(width=800, height=400,\n",
        "                      background_color='white',\n",
        "                      stopwords=STOPWORDS,\n",
        "                      min_font_size=10).generate(all_words)\n",
        "\n",
        "# Tampilkan word cloud\n",
        "plt.figure(figsize=(8, 8), facecolor=None)\n",
        "plt.imshow(wordcloud)\n",
        "plt.axis(\"off\")\n",
        "plt.tight_layout(pad=0)\n",
        "plt.show()\n",
        "\n",
        "# Simpan word cloud dalam format JPG\n",
        "wordcloud.to_file('/content/drive/My Drive/wordcloud.jpg')\n",
        "\n",
        "# Simpan word cloud dalam format PNG\n",
        "wordcloud.to_file('/content/drive/My Drive/wordcloud.png')\n",
        "\n",
        "print(\"Word cloud telah disimpan di Google Drive Anda.\")"
      ],
      "cell_type": "code",
      "metadata": {
        "colab": {
          "base_uri": "https://localhost:8080/",
          "height": 441
        },
        "id": "1gil4r5IHRoK",
        "outputId": "2df60cf3-e3ec-4cdf-b7b1-5053825f7d35"
      },
      "execution_count": null,
      "outputs": [
        {
          "output_type": "display_data",
          "data": {
            "text/plain": [
              "<Figure size 800x800 with 1 Axes>"
            ],
            "image/png": "[encoded data removed]"
          },
          "metadata": {}
        },
        {
          "output_type": "stream",
          "name": "stdout",
          "text": [
            "Word cloud telah disimpan di Google Drive Anda.\n"
          ]
        }
      ]
    },
    {
      "cell_type": "markdown",
      "metadata": {
        "id": "7IpABMN5dPS4"
      },
      "source": [
        "# LDA model using gensim\n",
        "Proses topic modeling dengan LDA gensim"
      ]
    },
    {
      "cell_type": "code",
      "metadata": {
        "id": "gsrO1YZcdPS3",
        "colab": {
          "base_uri": "https://localhost:8080/"
        },
        "outputId": "ed781f1d-5656-4417-d26c-7c64a0d2c3c7"
      },
      "source": [
        "import gensim\n",
        "from gensim import corpora\n",
        "\n",
        "dictionary = corpora.Dictionary(doc_clean)\n",
        "print(dictionary)\n",
        "\n",
        "doc_term_matrix = [dictionary.doc2bow(doc) for doc in doc_clean]"
      ],
      "execution_count": null,
      "outputs": [
        {
          "output_type": "stream",
          "name": "stdout",
          "text": [
            "Dictionary<3723 unique tokens: ['namay', 'nguyen', 'rafael', 'breasy', 'jay']...>\n"
          ]
        }
      ]
    },
    {
      "cell_type": "code",
      "metadata": {
        "id": "IjX9uZ-udPS4"
      },
      "source": [
        "# Creating the object for LDA model using gensim library\n",
        "Lda = gensim.models.ldamodel.LdaModel\n",
        "\n",
        "total_topics = 10 # jumlah topik yang akan di extract\n",
        "number_words = 10 # jumlah kata per topik"
      ],
      "execution_count": null,
      "outputs": []
    },
    {
      "cell_type": "code",
      "metadata": {
        "id": "NcPeAh8PdPS4",
        "colab": {
          "base_uri": "https://localhost:8080/"
        },
        "outputId": "130d3344-8a36-4f5d-faa7-5af3b150da4f"
      },
      "source": [
        "# Running and Trainign LDA model on the document term matrix.\n",
        "lda_model = Lda(doc_term_matrix, num_topics=total_topics, id2word = dictionary, passes=50)\n",
        "\n",
        "lda_model.show_topics(num_topics=total_topics, num_words=number_words)"
      ],
      "execution_count": null,
      "outputs": [
        {
          "output_type": "execute_result",
          "data": {
            "text/plain": [
              "[(0,\n",
              "  '0.044*\"alhamdulillah\" + 0.037*\"sudan\" + 0.034*\"indonesia\" + 0.028*\"allah\" + 0.027*\"timnas\" + 0.024*\"asli\" + 0.023*\"bela\" + 0.020*\"anak\" + 0.020*\"moga\" + 0.020*\"lahir\"'),\n",
              " (1,\n",
              "  '0.057*\"mantap\" + 0.028*\"top\" + 0.027*\"masuk\" + 0.025*\"kn\" + 0.019*\"aff\" + 0.018*\"indonesia\" + 0.016*\"klub\" + 0.016*\"pas\" + 0.014*\"enak\" + 0.014*\"bahasa\"'),\n",
              " (2,\n",
              "  '0.062*\"moga\" + 0.047*\"sukses\" + 0.034*\"jakarta\" + 0.032*\"towel\" + 0.029*\"orang\" + 0.024*\"suka\" + 0.022*\"aamiin\" + 0.022*\"sehat\" + 0.018*\"lahir\" + 0.018*\"anak\"'),\n",
              " (3,\n",
              "  '0.031*\"latih\" + 0.027*\"semangat\" + 0.026*\"agama\" + 0.025*\"kak\" + 0.022*\"pssi\" + 0.021*\"naturalisasi\" + 0.019*\"umur\" + 0.018*\"dubbing\" + 0.017*\"boy\" + 0.017*\"asli\"'),\n",
              " (4,\n",
              "  '0.059*\"indonesia\" + 0.046*\"timnas\" + 0.028*\"garuda\" + 0.024*\"tata\" + 0.023*\"lancar\" + 0.023*\"sukses\" + 0.022*\"mantap\" + 0.019*\"dunia\" + 0.019*\"negara\" + 0.019*\"calon\"'),\n",
              " (5,\n",
              "  '0.064*\"bagus\" + 0.036*\"bahasa\" + 0.033*\"suara\" + 0.029*\"hamzah\" + 0.023*\"fasih\" + 0.019*\"moga\" + 0.018*\"tangguh\" + 0.018*\"timnas\" + 0.017*\"anak\" + 0.016*\"atur\"'),\n",
              " (6,\n",
              "  '0.021*\"main\" + 0.019*\"suara\" + 0.018*\"bule\" + 0.018*\"dasar\" + 0.016*\"nadaquot\" + 0.014*\"nguyen\" + 0.013*\"akademy\" + 0.009*\"kelas\" + 0.009*\"naturalisasi\" + 0.009*\"eropa\"'),\n",
              " (7,\n",
              "  '0.040*\"nama\" + 0.027*\"main\" + 0.020*\"timnas\" + 0.020*\"afrika\" + 0.016*\"sudan\" + 0.014*\"gacor\" + 0.014*\"trus\" + 0.014*\"pasang\" + 0.013*\"ras\" + 0.012*\"iqbal\"'),\n",
              " (8,\n",
              "  '0.070*\"main\" + 0.032*\"bola\" + 0.028*\"cerdas\" + 0.024*\"ru\" + 0.024*\"ho\" + 0.016*\"rakyat\" + 0.013*\"aj\" + 0.013*\"bebas\" + 0.013*\"serah\" + 0.013*\"towel\"'),\n",
              " (9,\n",
              "  '0.185*\"indonesia\" + 0.040*\"bahasa\" + 0.037*\"main\" + 0.031*\"lahir\" + 0.024*\"anak\" + 0.023*\"orang\" + 0.022*\"turun\" + 0.021*\"tua\" + 0.019*\"sepakbola\" + 0.017*\"nyanyi\"')]"
            ]
          },
          "metadata": {},
          "execution_count": 27
        }
      ]
    },
    {
      "cell_type": "code",
      "metadata": {
        "id": "WrqQ9VKidPS4",
        "colab": {
          "base_uri": "https://localhost:8080/"
        },
        "outputId": "5d240261-6b72-40ff-d931-70501c355b11"
      },
      "source": [
        "# Word Count of Topic Keywords\n",
        "\n",
        "from collections import Counter\n",
        "topics = lda_model.show_topics(formatted=False)\n",
        "data_flat = [w for w_list in doc_clean for w in w_list]\n",
        "counter = Counter(data_flat)\n",
        "\n",
        "out = []\n",
        "for i, topic in topics:\n",
        "    for word, weight in topic:\n",
        "        out.append([word, i , weight, counter[word]])\n",
        "\n",
        "df_imp_wcount_naturalisasi = pd.DataFrame(out, columns=['word', 'topic_id', 'importance', 'word_count'])\n",
        "print(df_imp_wcount_naturalisasi)"
      ],
      "execution_count": null,
      "outputs": [
        {
          "output_type": "stream",
          "name": "stdout",
          "text": [
            "             word  topic_id  importance  word_count\n",
            "0   alhamdulillah         0    0.043960          70\n",
            "1           sudan         0    0.036743         107\n",
            "2       indonesia         0    0.033992         640\n",
            "3           allah         0    0.027780          31\n",
            "4          timnas         0    0.027217         224\n",
            "..            ...       ...         ...         ...\n",
            "95          orang         9    0.022734         116\n",
            "96          turun         9    0.021963          97\n",
            "97            tua         9    0.020893          29\n",
            "98      sepakbola         9    0.019118          17\n",
            "99         nyanyi         9    0.016651           4\n",
            "\n",
            "[100 rows x 4 columns]\n"
          ]
        }
      ]
    },
    {
      "cell_type": "code",
      "metadata": {
        "colab": {
          "base_uri": "https://localhost:8080/"
        },
        "id": "VyMPU4DEpYcv",
        "outputId": "e0ea6330-4f3e-4c17-c9bb-7350cab5c1f3"
      },
      "source": [
        "from google.colab import drive\n",
        "drive.mount('drive')"
      ],
      "execution_count": null,
      "outputs": [
        {
          "output_type": "stream",
          "name": "stdout",
          "text": [
            "Drive already mounted at drive; to attempt to forcibly remount, call drive.mount(\"drive\", force_remount=True).\n"
          ]
        }
      ]
    },
    {
      "cell_type": "code",
      "metadata": {
        "id": "dF8NhoAzqtcQ",
        "colab": {
          "base_uri": "https://localhost:8080/"
        },
        "outputId": "0710e57a-b5f5-4a15-a29c-35ea6ca2cf02"
      },
      "source": [
        "#simpan ke google drive\n",
        "df_imp_wcount.to_csv('df_imp_wcount_naturalisasi.csv')\n",
        "!cp df_imp_wcount_naturalisasi.csv \"/content/drive/MyDrive/LDA_Tpoic_Modelling/LDA Naturalisasi/\""
      ],
      "execution_count": null,
      "outputs": [
        {
          "output_type": "stream",
          "name": "stdout",
          "text": [
            "cp: cannot create regular file '/content/drive/MyDrive/LDA_Tpoic_Modelling/LDA Naturalisasi/': Not a directory\n"
          ]
        }
      ]
    },
    {
      "source": [
        "# ... your code ...\n",
        "\n",
        "#simpan ke google drive\n",
        "df_imp_wcount_naturalisasi.to_csv('df_imp_wcount.csv')\n",
        "\n",
        "# Create the target directory\n",
        "!mkdir -p \"drive/My Drive/LDA_Tpoic_Modelling/LDA Naturalisas\"\n",
        "\n",
        "# Copy the file to the target directory with the file name\n",
        "!cp df_imp_wcount_naturalisasi.csv \"drive/My Drive/LDA_Tpoic_Modelling/LDA Naturalisas/df_imp_wcount.csv\"\n",
        "\n",
        "# ... rest of your code ..."
      ],
      "cell_type": "code",
      "metadata": {
        "id": "qk_314hWCFl9"
      },
      "execution_count": null,
      "outputs": []
    },
    {
      "cell_type": "code",
      "metadata": {
        "id": "u_fmI6SedPS4"
      },
      "source": [
        "#jika simpan ke local drive\n",
        "#filedisimpan='df_imp_wcount.xlsx'\n",
        "#df_imp_wcount.to_excel(filedisimpan, index = False, header=True)"
      ],
      "execution_count": null,
      "outputs": []
    },
    {
      "source": [
        "# Dominan topic and its percentage contribution in each topic\n",
        "def format_topics_sentences(ldamodel=None, corpus=doc_term_matrix, texts=document):\n",
        "    # Init output\n",
        "    sent_topics_df = []  # Initialize as a list to store rows\n",
        "\n",
        "    # Get main topic in each document\n",
        "    for i, row_list in enumerate(ldamodel[corpus]):\n",
        "        row = row_list[0] if ldamodel.per_word_topics else row_list\n",
        "        # print(row)\n",
        "        row = sorted(row, key=lambda x: (x[1]), reverse=True)\n",
        "        # Get the Dominant topic, Perc Contribution and Keywords for each document\n",
        "        for j, (topic_num, prop_topic) in enumerate(row):\n",
        "            if j == 0:  # => dominant topic\n",
        "                wp = ldamodel.show_topic(topic_num)\n",
        "                topic_keywords = \", \".join([word for word, prop in wp])\n",
        "                # Append a new row as a dictionary to the list\n",
        "                sent_topics_df.append({\n",
        "                    'Dominant_Topic': int(topic_num),\n",
        "                    'Perc_Contribution': round(prop_topic, 4),\n",
        "                    'Topic_Keywords': topic_keywords\n",
        "                })\n",
        "            else:\n",
        "                break\n",
        "\n",
        "    # Create DataFrame after the loop\n",
        "    sent_topics_df = pd.DataFrame(sent_topics_df)\n",
        "\n",
        "    # Add original text to the end of the output\n",
        "    contents = pd.Series(texts)\n",
        "    sent_topics_df = pd.concat([sent_topics_df, contents], axis=1)\n",
        "\n",
        "    return(sent_topics_df)\n",
        "\n",
        "# Call the function and assign the result to df_dominant_topic\n",
        "df_topic_sents_keywords = format_topics_sentences(ldamodel=lda_model, corpus=doc_term_matrix, texts=doc_clean)\n",
        "df_dominant_topic_naturalisasi = df_topic_sents_keywords.reset_index()\n",
        "df_dominant_topic_naturalisasi.columns = ['Document_No', 'Dominant_Topic', 'Topic_Perc_Contrib', 'Keywords', 'Text']\n",
        "\n",
        "# Now you can save it to a CSV file\n",
        "df_dominant_topic_naturalisasi.to_csv('df_dominant_topic.csv')\n",
        "!cp df_dominant_topic_naturalisasi.csv \"/content/drive/MyDrive/LDA_Tpoic_Modelling/LDA Naturalisas/\""
      ],
      "cell_type": "code",
      "metadata": {
        "id": "7bQmry12DqF6",
        "colab": {
          "base_uri": "https://localhost:8080/"
        },
        "outputId": "e29dc6ad-16e6-42e4-9605-011c198fc958"
      },
      "execution_count": null,
      "outputs": [
        {
          "output_type": "stream",
          "name": "stdout",
          "text": [
            "cp: cannot stat 'df_dominant_topic_naturalisasi.csv': No such file or directory\n"
          ]
        }
      ]
    },
    {
      "cell_type": "code",
      "metadata": {
        "id": "uxlqTXuip97X"
      },
      "source": [
        "#simpan ke google drive\n",
        "df_dominant_topic_naturalisasi.to_csv('df_dominant_topic_naturalisasi.csv')\n",
        "!cp df_dominant_topic_naturalisasi.csv \"/content/drive/MyDrive/LDA_Tpoic_Modelling/LDA Naturalisas/\""
      ],
      "execution_count": null,
      "outputs": []
    },
    {
      "cell_type": "code",
      "metadata": {
        "id": "3tVzJCX5dPS5"
      },
      "source": [
        "# jika simpan ke local drive\n",
        "# filedisimpan='df_dominant_topic.xlsx'\n",
        "# df_dominant_topic.to_excel(filedisimpan, index = False, header=True)"
      ],
      "execution_count": null,
      "outputs": []
    },
    {
      "cell_type": "code",
      "metadata": {
        "id": "CPxZdk2adPS5"
      },
      "source": [
        "import pyLDAvis.gensim\n",
        "import pickle\n",
        "import pyLDAvis\n",
        "# Visualize the topics\n",
        "pyLDAvis.enable_notebook()"
      ],
      "execution_count": null,
      "outputs": []
    },
    {
      "cell_type": "code",
      "metadata": {
        "id": "Yh7qhTZadPS5",
        "colab": {
          "base_uri": "https://localhost:8080/"
        },
        "outputId": "4d0949b8-21a2-4ca8-fde2-9bfb28ffbdf9"
      },
      "source": [
        "import os\n",
        "LDAvis_data_filepath = os.path.join('ldavis_prepared_naturalisasi'+str(total_topics))"
      ],
      "execution_count": null,
      "outputs": [
        {
          "output_type": "stream",
          "name": "stderr",
          "text": [
            "/usr/local/lib/python3.10/dist-packages/ipykernel/ipkernel.py:283: DeprecationWarning: `should_run_async` will not call `transform_cell` automatically in the future. Please pass the result to `transformed_cell` argument and any exception that happen during thetransform in `preprocessing_exc_tuple` in IPython 7.17 and above.\n",
            "  and should_run_async(code)\n"
          ]
        }
      ]
    },
    {
      "cell_type": "code",
      "metadata": {
        "id": "AtNwD5fcdPS5",
        "colab": {
          "base_uri": "https://localhost:8080/"
        },
        "outputId": "f8374702-8a21-446b-a256-3dd14c12f8fd"
      },
      "source": [
        "corpus = [dictionary.doc2bow(text) for text in doc_clean]"
      ],
      "execution_count": null,
      "outputs": [
        {
          "output_type": "stream",
          "name": "stderr",
          "text": [
            "/usr/local/lib/python3.10/dist-packages/ipykernel/ipkernel.py:283: DeprecationWarning: `should_run_async` will not call `transform_cell` automatically in the future. Please pass the result to `transformed_cell` argument and any exception that happen during thetransform in `preprocessing_exc_tuple` in IPython 7.17 and above.\n",
            "  and should_run_async(code)\n"
          ]
        }
      ]
    },
    {
      "source": [
        "!pip install --upgrade pandas"
      ],
      "cell_type": "code",
      "metadata": {
        "colab": {
          "base_uri": "https://localhost:8080/"
        },
        "id": "pcLWKAZ-G8yX",
        "outputId": "c6c492e8-cb15-4ac5-e1db-83001d983b9a"
      },
      "execution_count": null,
      "outputs": [
        {
          "output_type": "stream",
          "name": "stderr",
          "text": [
            "/usr/local/lib/python3.10/dist-packages/ipykernel/ipkernel.py:283: DeprecationWarning: `should_run_async` will not call `transform_cell` automatically in the future. Please pass the result to `transformed_cell` argument and any exception that happen during thetransform in `preprocessing_exc_tuple` in IPython 7.17 and above.\n",
            "  and should_run_async(code)\n"
          ]
        },
        {
          "output_type": "stream",
          "name": "stdout",
          "text": [
            "Requirement already satisfied: pandas in /usr/local/lib/python3.10/dist-packages (2.2.2)\n",
            "Collecting pandas\n",
            "  Downloading pandas-2.2.3-cp310-cp310-manylinux_2_17_x86_64.manylinux2014_x86_64.whl.metadata (89 kB)\n",
            "\u001b[2K     \u001b[90m━━━━━━━━━━━━━━━━━━━━━━━━━━━━━━━━━━━━━━━━\u001b[0m \u001b[32m89.9/89.9 kB\u001b[0m \u001b[31m4.9 MB/s\u001b[0m eta \u001b[36m0:00:00\u001b[0m\n",
            "\u001b[?25hRequirement already satisfied: numpy>=1.22.4 in /usr/local/lib/python3.10/dist-packages (from pandas) (1.26.4)\n",
            "Requirement already satisfied: python-dateutil>=2.8.2 in /usr/local/lib/python3.10/dist-packages (from pandas) (2.8.2)\n",
            "Requirement already satisfied: pytz>=2020.1 in /usr/local/lib/python3.10/dist-packages (from pandas) (2024.2)\n",
            "Requirement already satisfied: tzdata>=2022.7 in /usr/local/lib/python3.10/dist-packages (from pandas) (2024.2)\n",
            "Requirement already satisfied: six>=1.5 in /usr/local/lib/python3.10/dist-packages (from python-dateutil>=2.8.2->pandas) (1.16.0)\n",
            "Downloading pandas-2.2.3-cp310-cp310-manylinux_2_17_x86_64.manylinux2014_x86_64.whl (13.1 MB)\n",
            "\u001b[2K   \u001b[90m━━━━━━━━━━━━━━━━━━━━━━━━━━━━━━━━━━━━━━━━\u001b[0m \u001b[32m13.1/13.1 MB\u001b[0m \u001b[31m57.4 MB/s\u001b[0m eta \u001b[36m0:00:00\u001b[0m\n",
            "\u001b[?25hInstalling collected packages: pandas\n",
            "  Attempting uninstall: pandas\n",
            "    Found existing installation: pandas 2.2.2\n",
            "    Uninstalling pandas-2.2.2:\n",
            "      Successfully uninstalled pandas-2.2.2\n",
            "\u001b[31mERROR: pip's dependency resolver does not currently take into account all the packages that are installed. This behaviour is the source of the following dependency conflicts.\n",
            "cudf-cu12 24.10.1 requires pandas<2.2.3dev0,>=2.0, but you have pandas 2.2.3 which is incompatible.\n",
            "google-colab 1.0.0 requires pandas==2.2.2, but you have pandas 2.2.3 which is incompatible.\u001b[0m\u001b[31m\n",
            "\u001b[0mSuccessfully installed pandas-2.2.3\n"
          ]
        }
      ]
    },
    {
      "source": [
        "# proses ini mungkin agak lama\n",
        "if 1 == 1:\n",
        "    ldavis_prepared_naturalisasi = pyLDAvis.gensim.prepare(lda_model, corpus, dictionary)\n",
        "    with open(LDAvis_data_filepath, 'wb') as f:\n",
        "        pickle.dump(LDAvis_prepared, f)"
      ],
      "cell_type": "code",
      "metadata": {
        "colab": {
          "base_uri": "https://localhost:8080/"
        },
        "id": "lV0DBQuuHmFz",
        "outputId": "cc216529-3fe6-44db-99d6-104684d45369"
      },
      "execution_count": null,
      "outputs": [
        {
          "output_type": "stream",
          "name": "stderr",
          "text": [
            "/usr/local/lib/python3.10/dist-packages/ipykernel/ipkernel.py:283: DeprecationWarning: `should_run_async` will not call `transform_cell` automatically in the future. Please pass the result to `transformed_cell` argument and any exception that happen during thetransform in `preprocessing_exc_tuple` in IPython 7.17 and above.\n",
            "  and should_run_async(code)\n"
          ]
        }
      ]
    },
    {
      "cell_type": "code",
      "metadata": {
        "id": "436P-l4udPS5",
        "colab": {
          "base_uri": "https://localhost:8080/"
        },
        "outputId": "75e5e1c0-02f6-48fe-9bae-d6816e5d08bb"
      },
      "source": [
        "# load the pre-prepared pyLDAvis data from disk\n",
        "with open(LDAvis_data_filepath, 'rb') as f:\n",
        "    ldavis_prepared_naturalisasi = pickle.load(f)"
      ],
      "execution_count": null,
      "outputs": [
        {
          "output_type": "stream",
          "name": "stderr",
          "text": [
            "/usr/local/lib/python3.10/dist-packages/ipykernel/ipkernel.py:283: DeprecationWarning: `should_run_async` will not call `transform_cell` automatically in the future. Please pass the result to `transformed_cell` argument and any exception that happen during thetransform in `preprocessing_exc_tuple` in IPython 7.17 and above.\n",
            "  and should_run_async(code)\n"
          ]
        }
      ]
    },
    {
      "cell_type": "code",
      "metadata": {
        "id": "Uk4RnnzSdPS5",
        "colab": {
          "base_uri": "https://localhost:8080/"
        },
        "outputId": "acfa024d-1812-4982-8ce9-3164623647db"
      },
      "source": [
        "pyLDAvis.save_html(ldavis_prepared_naturalisasi, '/content/drive/MyDrive/LDA_Tpoic_Modelling/LDA Naturalisas/ldavis_prepared_naturalisasi'+ str(total_topics) +'.html')"
      ],
      "execution_count": null,
      "outputs": [
        {
          "output_type": "stream",
          "name": "stderr",
          "text": [
            "/usr/local/lib/python3.10/dist-packages/ipykernel/ipkernel.py:283: DeprecationWarning: `should_run_async` will not call `transform_cell` automatically in the future. Please pass the result to `transformed_cell` argument and any exception that happen during thetransform in `preprocessing_exc_tuple` in IPython 7.17 and above.\n",
            "  and should_run_async(code)\n"
          ]
        }
      ]
    },
    {
      "cell_type": "code",
      "metadata": {
        "id": "dRBL8ZqcdPS6",
        "colab": {
          "base_uri": "https://localhost:8080/",
          "height": 917
        },
        "outputId": "7d053589-067d-4dc0-e27c-0825867cdee5"
      },
      "source": [
        "# proses ini mungkin agak lama\n",
        "ldavis_prepared_naturalisasi"
      ],
      "execution_count": null,
      "outputs": [
        {
          "output_type": "stream",
          "name": "stderr",
          "text": [
            "/usr/local/lib/python3.10/dist-packages/ipykernel/ipkernel.py:283: DeprecationWarning: `should_run_async` will not call `transform_cell` automatically in the future. Please pass the result to `transformed_cell` argument and any exception that happen during thetransform in `preprocessing_exc_tuple` in IPython 7.17 and above.\n",
            "  and should_run_async(code)\n"
          ]
        },
        {
          "output_type": "execute_result",
          "data": {
            "text/plain": [
              "PreparedData(topic_coordinates=              x         y  topics  cluster       Freq\n",
              "topic                                                \n",
              "9      0.182385 -0.172751       1        1  17.016257\n",
              "4      0.073299 -0.093190       2        1  13.801710\n",
              "0      0.166364  0.002468       3        1  11.287407\n",
              "7     -0.121205 -0.038711       4        1  10.723989\n",
              "2      0.127012  0.268225       5        1  10.240116\n",
              "8     -0.086894 -0.026325       6        1   9.573836\n",
              "6     -0.119141  0.004463       7        1   8.026192\n",
              "1     -0.070651 -0.051815       8        1   7.024203\n",
              "3     -0.140455  0.039276       9        1   6.504049\n",
              "5     -0.010714  0.068359      10        1   5.802241, topic_info=           Term        Freq       Total Category  logprob  loglift\n",
              "22    indonesia  557.000000  557.000000  Default  30.0000  30.0000\n",
              "108        moga  126.000000  126.000000  Default  29.0000  29.0000\n",
              "342      mantap   89.000000   89.000000  Default  28.0000  28.0000\n",
              "1052     bahasa  122.000000  122.000000  Default  27.0000  27.0000\n",
              "159       bagus   65.000000   65.000000  Default  26.0000  26.0000\n",
              "...         ...         ...         ...      ...      ...      ...\n",
              "280       butuh    2.208133    6.190197  Topic10  -5.7882   1.8161\n",
              "108        moga   13.978693  126.753389  Topic10  -3.9428   0.6422\n",
              "546        anak   12.167879  119.401096  Topic10  -4.0815   0.5632\n",
              "198       lahir   11.356615  126.990077  Topic10  -4.1505   0.4326\n",
              "42       timnas   12.640568  159.613485  Topic10  -4.0434   0.3111\n",
              "\n",
              "[460 rows x 6 columns], token_table=      Topic      Freq           Term\n",
              "term                                \n",
              "439       5  0.988220         aamiin\n",
              "1182      7  0.802974          adabr\n",
              "2133     10  0.888963           adik\n",
              "27        8  0.928474            aff\n",
              "2087      4  0.911645         afrika\n",
              "...     ...       ...            ...\n",
              "1012     10  0.653801          yamal\n",
              "3721      1  0.966169  yanyibbrbkira\n",
              "3722      1  0.966169            yob\n",
              "3680      9  0.903116          yunda\n",
              "3668      3  0.939716         yunior\n",
              "\n",
              "[531 rows x 3 columns], R=30, lambda_step=0.01, plot_opts={'xlab': 'PC1', 'ylab': 'PC2'}, topic_order=[10, 5, 1, 8, 3, 9, 7, 2, 4, 6])"
            ],
            "text/html": [
              "\n",
              "<link rel=\"stylesheet\" type=\"text/css\" href=\"https://cdn.jsdelivr.net/gh/bmabey/pyLDAvis@3.4.0/pyLDAvis/js/ldavis.v1.0.0.css\">\n",
              "\n",
              "\n",
              "<div id=\"ldavis_el7311359174704692483767108015\" style=\"background-color:white;\"></div>\n",
              "<script type=\"text/javascript\">\n",
              "\n",
              "var ldavis_el7311359174704692483767108015_data = {\"mdsDat\": {\"x\": [0.1823850132888607, 0.07329863572196046, 0.16636392897400246, -0.12120465455168983, 0.12701207833553185, -0.08689362976798963, -0.11914125000048172, -0.07065082648370573, -0.14045523536450852, -0.01071406015197973], \"y\": [-0.17275065996576128, -0.0931903412182637, 0.0024678665530483866, -0.0387109743909229, 0.2682249698384766, -0.026325055780350517, 0.00446347715597823, -0.05181451387564676, 0.03927582839241338, 0.06835940329102862], \"topics\": [1, 2, 3, 4, 5, 6, 7, 8, 9, 10], \"cluster\": [1, 1, 1, 1, 1, 1, 1, 1, 1, 1], \"Freq\": [17.016256928646218, 13.801710499183098, 11.287406812556254, 10.723988572275125, 10.240116383864176, 9.573836388530772, 8.026191671089688, 7.024202628104177, 6.5040492472772815, 5.802240868473209]}, \"tinfo\": {\"Term\": [\"indonesia\", \"moga\", \"mantap\", \"bahasa\", \"bagus\", \"sukses\", \"main\", \"alhamdulillah\", \"timnas\", \"nama\", \"orang\", \"lahir\", \"jakarta\", \"towel\", \"bola\", \"garuda\", \"suara\", \"sudan\", \"anak\", \"semangat\", \"allah\", \"cerdas\", \"asli\", \"tata\", \"lancar\", \"calon\", \"tua\", \"suka\", \"hamzah\", \"latih\", \"sepakbola\", \"nyanyi\", \"salah\", \"kembang\", \"hy\", \"tua\", \"dn\", \"rendah\", \"ajar\", \"suruh\", \"sesuai\", \"logat\", \"dieropa\", \"dam\", \"sepeeti\", \"audisi\", \"koplo\", \"yanyibbrbkira\", \"yob\", \"masbiar\", \"indonesinya\", \"pasehbbgt\", \"rusak\", \"suport\", \"tim\", \"hati\", \"mental\", \"bngt\", \"alir\", \"oke\", \"persie\", \"indonesia\", \"bahasa\", \"darah\", \"turun\", \"lahir\", \"orang\", \"anak\", \"main\", \"maju\", \"bicara\", \"sepak\", \"sudan\", \"bola\", \"bagus\", \"belanda\", \"naturalisasi\", \"tata\", \"lancar\", \"smg\", \"garuda\", \"ngomong\", \"ku\", \"amunisi\", \"talenta\", \"tanda\", \"rapi\", \"salam\", \"gin\", \"atlet\", \"brlahir\", \"nihh\", \"fiik\", \"kapten\", \"timnad\", \"nakbrsukses\", \"denger\", \"piala\", \"mantab\", \"bhs\", \"mas\", \"dek\", \"pribumi\", \"bnget\", \"rezeki\", \"buka\", \"masyaallah\", \"calon\", \"warga\", \"dunia\", \"negara\", \"timnas\", \"muda\", \"mantap\", \"sukses\", \"indonesia\", \"semangat\", \"maju\", \"gabung\", \"bicara\", \"main\", \"bela\", \"sudan\", \"cerdas\", \"alhamdulillah\", \"allah\", \"wni\", \"ortunya\", \"mudah\", \"bumi\", \"contoh\", \"osman\", \"bs\", \"iya\", \"merah\", \"putih\", \"nyata\", \"persija\", \"kecuali\", \"barakallah\", \"gen\", \"lhr\", \"komitmen\", \"allhamdullilah\", \"melindungimuuntuk\", \"senioramin\", \"tum\", \"yunior\", \"insha\", \"pijak\", \"basir\", \"kau\", \"asli\", \"senang\", \"sholeh\", \"sudan\", \"bela\", \"timnas\", \"anak\", \"moga\", \"lahir\", \"indonesia\", \"syukur\", \"muda\", \"gabung\", \"main\", \"orang\", \"turun\", \"semangat\", \"jakarta\", \"gacor\", \"trus\", \"nama\", \"pasang\", \"ras\", \"iqbal\", \"ganti\", \"dwijangge\", \"gass\", \"tumbuh\", \"dblg\", \"kakntr\", \"wf\", \"spill\", \"brbrafrika\", \"afrika\", \"serang\", \"mauro\", \"strategi\", \"arab\", \"lawan\", \"menang\", \"maret\", \"coret\", \"tuju\", \"romeny\", \"dpt\", \"australia\", \"lolos\", \"paspor\", \"striker\", \"bule\", \"belanda\", \"main\", \"timnas\", \"sudan\", \"nguyen\", \"naturalisasi\", \"shin tae-yong\", \"suka\", \"aamiin\", \"sehat\", \"dah\", \"hidup\", \"liat\", \"erik\", \"kaya\", \"air\", \"alhamdulilah\", \"bukti\", \"tohir\", \"ketua\", \"tanah\", \"lu\", \"brother\", \"swt\", \"berkat\", \"final\", \"raya\", \"akhirat\", \"mnit\", \"babak\", \"bilang\", \"tuhan\", \"cerdikdan\", \"loyalitas\", \"ubah\", \"lindung\", \"sihyo\", \"jakarta\", \"towel\", \"moga\", \"bangga\", \"sukses\", \"kayak\", \"orang\", \"anak\", \"lahir\", \"syukur\", \"dunia\", \"sholeh\", \"ho\", \"ru\", \"rakyat\", \"bebas\", \"aj\", \"serah\", \"dengar\", \"messalll\", \"brpernah\", \"gakbrsearch\", \"linguistik\", \"indonesiamafia\", \"ngatur\", \"diga\", \"eliano\", \"lupa\", \"gratisk\", \"kiberbagik\", \"daftar\", \"manpirga\", \"cita\", \"teamnas\", \"kitidakgacormodalkembali\", \"bet\", \"mata\", \"bayar\", \"hadap\", \"juang\", \"kimain\", \"kuat\", \"cerdas\", \"bola\", \"enak\", \"main\", \"shin tae-yong\", \"sepak\", \"towel\", \"hebat\", \"indo\", \"dasar\", \"nadaquot\", \"akademy\", \"atlit\", \"kelas\", \"nasional\", \"nyari\", \"to\", \"mending\", \"eropa\", \"kerja\", \"cocok\", \"ngaruh\", \"liga\", \"bina\", \"asnawi\", \"adabr\", \"negri\", \"pr\", \"asimilasi\", \"rekrut\", \"for\", \"chiki\", \"we\", \"ky\", \"bagot\", \"khusus\", \"witan\", \"kenal\", \"united\", \"nguyen\", \"bule\", \"suara\", \"son\", \"vietnam\", \"internasional\", \"kualitas\", \"ambil\", \"ko\", \"welcome\", \"angkut\", \"makan\", \"good\", \"main\", \"dukung\", \"naturalisasi\", \"negara\", \"van\", \"muda\", \"shin tae-yong\", \"top\", \"kn\", \"aff\", \"klub\", \"pas\", \"markotop\", \"klau\", \"tonton\", \"ayah\", \"an\", \"goodluck\", \"guinea\", \"maiket\", \"cariin\", \"succes\", \"negro\", \"kmren\", \"masuk\", \"kibonus\", \"newmember\", \"prancis\", \"cengkok\", \"asah\", \"meshal\", \"maaf\", \"messi\", \"coach\", \"kiri\", \"mantap\", \"kostum\", \"camara\", \"ousmane\", \"enak\", \"bek\", \"turun\", \"bahasa\", \"indonesia\", \"saudara\", \"naturalisasi\", \"indo\", \"belanda\", \"agama\", \"kak\", \"umur\", \"dubbing\", \"boy\", \"nggak\", \"proses\", \"indra\", \"jay\", \"klu\", \"deh\", \"chow\", \"manik\", \"yunda\", \"duet\", \"neeh\", \"safrigue\", \"blom\", \"latih\", \"kw\", \"peringkat\", \"muslim\", \"kevin\", \"bos\", \"ajak\", \"erick\", \"panggil\", \"gua\", \"pot\", \"diks\", \"pssi\", \"senior\", \"andal\", \"semangat\", \"naturalisasi\", \"asli\", \"calon\", \"cerdas\", \"timnas\", \"bek\", \"fasih\", \"tangguh\", \"atur\", \"basier\", \"buruk\", \"pilar\", \"susun\", \"cil\", \"meshall\", \"artikulasinyabrcoba\", \"balau\", \"brmaksud\", \"kacau\", \"simak\", \"adik\", \"yamal\", \"hoax\", \"attitude\", \"bagus\", \"hamzah\", \"kabar\", \"horeg\", \"dewasa\", \"bin\", \"system\", \"ntt\", \"suara\", \"broo\", \"indo\", \"meshaal\", \"camara\", \"ousmane\", \"bahasa\", \"berita\", \"butuh\", \"moga\", \"anak\", \"lahir\", \"timnas\"], \"Freq\": [557.0, 126.0, 89.0, 122.0, 65.0, 99.0, 267.0, 62.0, 159.0, 55.0, 102.0, 126.0, 55.0, 56.0, 71.0, 50.0, 43.0, 118.0, 119.0, 61.0, 39.0, 59.0, 47.0, 41.0, 40.0, 45.0, 45.0, 31.0, 32.0, 29.0, 40.41093933726383, 35.19690323507533, 30.042235927096716, 26.03279498236498, 23.626146119581083, 44.163591250126125, 16.466205164915586, 15.263562850613424, 13.65950299548861, 12.857442554751913, 12.857374638331718, 12.114940877342447, 12.055353569432816, 12.055286637308566, 11.654331715579998, 11.654304155293543, 11.654304155293543, 11.654304155293543, 11.654304155293543, 11.65427757930303, 11.654248050424686, 11.654248050424686, 11.654265767751694, 11.654265767751694, 33.41191797373484, 16.910470092513716, 12.270335615340482, 3.29156512149261, 3.2907053389847793, 2.8902329683431773, 4.895969726272108, 391.59607839753465, 83.98565782105345, 16.015270647995116, 46.42550726858666, 65.10397564302457, 48.054485559851415, 50.70424961523882, 77.531385205245, 24.289600958251135, 19.34252560222621, 20.41337659528796, 26.00896911472382, 21.623853905311172, 18.53074327044218, 15.265603296107107, 12.550149297951966, 40.72279746280229, 39.976737248335745, 28.496549482560283, 48.66701587712741, 18.903444587046238, 17.147241994408386, 15.830414180959501, 15.828704110355556, 14.074285036732276, 14.07304599397909, 13.635290273233073, 13.633952234795998, 13.63257906885819, 13.19621327944806, 13.194769858508781, 13.194020205709013, 12.757276795665984, 12.757276795665984, 12.757225701119461, 12.757173808220648, 27.055153164688026, 9.749478158443488, 9.310579995571306, 11.430633240818635, 5.359167273159767, 4.042339858887028, 3.1640040465830843, 3.1638102465648266, 2.724957190596996, 3.6017723413776603, 31.919941580974392, 11.889996366277908, 32.44605893311384, 32.38953878443179, 78.0814788879756, 23.123303266776528, 38.496940185342204, 39.907053867105674, 101.86692276996361, 24.934935458869077, 19.933756537457548, 19.009866543931007, 17.949752102555507, 29.16491085881095, 18.75570151236547, 15.534145646354329, 14.767026495197362, 61.63785597313014, 38.950493883642906, 25.424350568453676, 21.69151708816304, 14.953485980131235, 13.595960692271271, 12.577716830566871, 11.899211434669006, 11.899120026738812, 11.55982684813508, 11.559816401514485, 11.559816401514485, 11.559735440204886, 10.881014582757278, 10.541629343309564, 10.54155817570677, 9.862798796345723, 9.862798796345723, 9.862770721052877, 9.862778556018323, 9.862778556018323, 9.862778556018323, 9.862778556018323, 9.862778556018323, 9.862769415225303, 9.862769415225303, 9.862767456483942, 13.631283328153314, 33.319292674121485, 1.7672095915361534, 22.915487555044383, 51.51782807916733, 31.57495775388789, 38.16221278689255, 28.7395934487917, 27.444745272838066, 27.37143350116747, 47.66031418209232, 13.380025127119252, 14.40923794044691, 13.737376595246563, 20.439949261328607, 16.497689766343324, 15.367443767772434, 13.657556578946167, 12.321556552819274, 19.05738361729907, 19.05669257728606, 53.24298790512355, 18.029221532884094, 17.000726955249213, 16.486459195767114, 15.534032367355731, 15.457959655546865, 15.457767355363712, 15.454892777787165, 14.943703061881854, 14.943703061881854, 14.943703061881854, 14.943643510857394, 14.94363358568665, 26.46171359134971, 5.7637792718614875, 5.763474072861129, 4.735129923595329, 4.735013923162266, 16.430290173237726, 10.36707284231111, 4.732685540138189, 3.1920670399017794, 5.162179624846933, 4.5526631033566165, 2.6778306067398403, 8.557487177514874, 7.0397548803663215, 5.003020517291086, 6.142935682014154, 15.457814499924742, 15.742436140039542, 36.52023644753011, 26.96407610852514, 21.940813205502963, 7.971635364692597, 9.620597028763582, 7.444265759506086, 31.114702598907325, 28.563911634050914, 27.589155198751563, 22.06490041683141, 21.415593524430864, 20.76559715542534, 14.64007849525995, 13.34028004275271, 12.691001582377112, 12.041283610282532, 11.71598096617929, 11.391194837195927, 11.391109541121084, 16.23754958695984, 11.065829405704259, 10.741136865469683, 10.416481049933997, 10.09170321362458, 10.09142600138134, 10.091082447746556, 9.766797433202898, 9.766608478703766, 9.7666055170345, 9.765005623297341, 9.763284301120303, 9.44186973642865, 9.441853151080764, 9.441853151080764, 9.441828865392788, 9.441671896921724, 42.68412713849078, 40.813991742875125, 79.26100793151586, 16.252965667820003, 59.38706040246787, 13.015748617326171, 37.46547397672055, 22.43916774656535, 22.596394475190497, 11.598429943700893, 12.573604566700517, 10.54454836763991, 28.113844080583235, 28.113844080583235, 19.02063634378802, 15.696953079053955, 15.696970800438157, 15.69691099076648, 14.747357137019396, 13.79771910669736, 13.797717999110846, 13.797717999110846, 13.797717999110846, 13.797711353591772, 13.797711353591772, 8.645761614704801, 8.645313595960484, 6.745940621496565, 5.796766669923278, 5.796739534053721, 5.321897259575939, 4.3722523068382, 3.8972876440507846, 3.8967942142594536, 3.422566927192753, 3.4222526495198236, 3.4210725160907254, 2.947596726472775, 2.947554915081927, 10.996690411013866, 2.4729072989337224, 10.918792744001292, 33.26647609276192, 38.133344139189425, 14.549813544577546, 83.24198459213008, 9.751469660507093, 15.012462399138911, 15.222218240467889, 5.635649382705434, 5.123009057107882, 17.540336627628957, 15.899587592622053, 12.69858847442475, 7.773812951684289, 9.396938274491072, 3.396292923623743, 3.3960292179195894, 2.8493997921517376, 2.8491657997663618, 8.987570453358767, 5.520179361282173, 6.081201640103658, 2.302191653073626, 8.236022196098174, 2.8400712028673065, 1.7553032803753312, 1.7553029321723768, 1.7553029321723768, 1.7553029321723768, 1.755289584392457, 1.7552545319617112, 1.7552421127230033, 1.755204042533319, 1.7551046886236557, 1.7550755556431352, 1.7508970041223468, 2.3025036429207937, 3.3908293871334636, 2.3023455587794834, 1.208112783580244, 13.632372229914818, 17.541133315988688, 19.165382173661758, 3.3696203451792495, 6.608988179060286, 2.8494248627644563, 4.07283849663583, 6.5286503291440345, 2.302385950322197, 2.253048145168071, 2.2692641888910896, 2.2539005460005113, 2.8490388217556473, 20.637079138564435, 3.74673319810167, 9.07473168836999, 5.8722431900689465, 3.2974583006329694, 3.9403923067247204, 3.3968421557505275, 24.806585054824755, 21.883859254029904, 16.459178557473425, 13.537002089293097, 13.536865568761678, 11.710675926813247, 11.71063935881376, 11.708132419293356, 10.980155375812279, 10.97997091057042, 10.979810823994887, 10.614858126001202, 10.614858126001202, 10.61480774342413, 10.61480774342413, 10.614820745379504, 10.613542490641873, 23.76247278004324, 2.998146283959512, 2.998146283959512, 1.9018646790206375, 1.5371017283131798, 1.5369559642041126, 1.5367596143624214, 1.4942191463589307, 1.1717572448360987, 1.1716655201040516, 1.1708649856486102, 50.0927797384799, 1.5370874058467139, 10.614861376490046, 10.614861376490046, 12.593008933996588, 4.174324498355841, 11.880093030570986, 12.363270883529122, 16.052311618467467, 2.2672691949635433, 4.827014125559279, 3.153585066757702, 3.940117838351036, 21.22911800288126, 20.520516802317992, 15.257891223897515, 14.549395365808287, 13.83935247824314, 13.131869412797194, 12.777510874154837, 12.06885775480079, 11.714539095809322, 11.714434505781522, 11.711570695380088, 10.297162879600615, 10.297162879600615, 10.297162879600615, 10.297150088014481, 10.297150088014481, 10.297150088014481, 10.297115475487296, 24.704722881021045, 1.8455254649129051, 1.8454214392197894, 1.8450764426173043, 1.84500383155484, 1.4908077272452234, 1.4901145361437198, 2.5537408486649977, 4.914589845559323, 1.1367975712134455, 1.1366435078451602, 1.1364755242213764, 17.542042622781143, 4.472648069106592, 1.4909022533045193, 22.019920945723882, 17.052761443386764, 13.394497229936926, 12.495001922378552, 10.747274717361487, 3.3246841015889945, 2.0529788444926105, 16.749556805797067, 13.27708049183008, 11.69849323958213, 10.120318809042484, 10.120239600974873, 9.804648480680573, 9.488950630871441, 9.17327694623548, 9.17327694623548, 9.173265534903706, 9.173265534903706, 9.173265534903706, 9.173265534903706, 9.173265534903706, 2.5910287999628956, 2.2753428649266465, 3.5380857660031295, 1.9596179971114032, 45.96780864798708, 20.56570484253558, 1.643931055192939, 1.0125936708363177, 1.0124954159134671, 1.0123994264756013, 1.012382393384791, 1.012144097927152, 23.657350109945163, 1.6438746697888778, 10.165257304824355, 11.05289580194339, 9.17327627498067, 9.17327627498067, 25.674100282094052, 1.9402731047347805, 2.2081334770502687, 13.978693472129455, 12.16787890572708, 11.356615109663592, 12.640568488048087], \"Total\": [557.0, 126.0, 89.0, 122.0, 65.0, 99.0, 267.0, 62.0, 159.0, 55.0, 102.0, 126.0, 55.0, 56.0, 71.0, 50.0, 43.0, 118.0, 119.0, 61.0, 39.0, 59.0, 47.0, 41.0, 40.0, 45.0, 45.0, 31.0, 32.0, 29.0, 41.176918898655, 35.962850344711654, 30.808297003582688, 26.798685750955507, 24.39205533816857, 45.7886144187004, 17.232257730351108, 16.02948373979619, 14.42541358189898, 13.62333950557339, 13.623287412019799, 12.88087585421007, 12.82123261138705, 12.821171155882336, 12.420210322539058, 12.420182762252603, 12.420182762252603, 12.420182762252603, 12.420182762252603, 12.42015618626209, 12.420126657383745, 12.420126657383745, 12.42014887167951, 12.42014887167951, 38.08628916189042, 19.525242772054806, 14.38417788747803, 4.057465264758725, 4.057141158448085, 3.6561646897379414, 6.20861563831403, 557.7124788577323, 122.64702002566912, 21.659990585011105, 81.72820909392678, 126.99007706207914, 102.64515626704097, 119.40109630653498, 267.83700490102115, 44.89776653624241, 37.96772786059561, 46.76813214920443, 118.45066037693798, 71.14677854233337, 65.19873796334417, 52.00346520106411, 55.88342842383982, 41.480885321262875, 40.734738173458645, 29.254532088489746, 50.0024713390534, 19.66144569032754, 17.905257060566402, 16.58839504660613, 16.58683924682073, 14.832271290197557, 14.831189576845093, 14.393259315927832, 14.392013460768009, 14.3907549821902, 13.954187876085502, 13.952914455731065, 13.952159278077925, 13.515245187189349, 13.515245187189349, 13.515194092642826, 13.515148502546419, 29.143825296655486, 10.507470028947097, 10.068571652833683, 12.925016797165075, 6.117171785293837, 4.800337427205776, 3.922015999325582, 3.9218271299460903, 3.4829932077963264, 4.714799957143056, 45.09909362744932, 16.344946936007133, 48.17998011567271, 55.67078472255547, 159.61348501104538, 42.04616537567916, 89.27159913208712, 99.98438163505698, 557.7124788577323, 61.22584375436929, 44.89776653624241, 43.2448345381715, 37.96772786059561, 267.83700490102115, 59.81293438011264, 118.45066037693798, 59.36598764828177, 62.41947075542978, 39.72928435905367, 26.20327003582404, 22.470251746336835, 15.732316446432991, 14.37476412759105, 13.356533673698024, 12.677953231830854, 12.67787190403633, 12.338561775964049, 12.338553289991385, 12.338553289991385, 12.338500751030171, 11.659748107351541, 11.320359413672456, 11.320290756568086, 10.641526763338527, 10.641526763338527, 10.641498688045681, 10.641508040866626, 10.641508040866626, 10.641508040866626, 10.641508040866626, 10.641508040866626, 10.64150087991744, 10.64150087991744, 10.641499843279343, 16.59250513278567, 47.41873322571339, 2.545985542084221, 34.171070011869794, 118.45066037693798, 59.81293438011264, 159.61348501104538, 119.40109630653498, 126.75338909243055, 126.99007706207914, 557.7124788577323, 25.68948564836861, 42.04616537567916, 43.2448345381715, 267.83700490102115, 102.64515626704097, 81.72820909392678, 61.22584375436929, 55.716739879750676, 19.79969210229943, 19.79907632147804, 55.36715728385514, 18.771524888036407, 17.74302006393779, 17.22875205275529, 16.27663120438272, 16.200248097157534, 16.20005573404424, 16.197398050543196, 15.685991440562383, 15.685991440562383, 15.685991440562383, 15.685931889537923, 15.685928166960148, 28.519866635398092, 6.506084235436998, 6.505811246603179, 5.477446578570679, 5.477336978836005, 19.86018392071687, 12.556634455316845, 5.8154974475386245, 3.934400028486732, 6.370623476796988, 5.774773284834667, 3.420152546846052, 10.993138276836296, 9.145898292633083, 6.550424048537517, 8.272020109677962, 33.62721501597432, 52.00346520106411, 267.83700490102115, 159.61348501104538, 118.45066037693798, 22.232282163237958, 55.88342842383982, 22.713061056496123, 31.896477309597362, 29.345688896355767, 28.37092858045823, 22.846767863580684, 22.1973528800632, 21.547381819591354, 15.421947658010268, 14.122238752571077, 13.472778643679428, 12.823037964259948, 12.497776201956537, 12.172984185829732, 12.17292444219356, 17.361516266972394, 11.847723793429001, 11.522922765608802, 11.198255975759583, 10.87345317891006, 10.873230694359066, 10.873045656715497, 10.548544331854197, 10.548389901254767, 10.54838747406037, 10.54705719393316, 10.545436696900353, 10.223616609575505, 10.223600024227618, 10.223600024227618, 10.223579411179694, 10.223427567213585, 55.716739879750676, 56.71904110533731, 126.75338909243055, 19.6380675608141, 99.98438163505698, 15.258522359685639, 102.64515626704097, 119.40109630653498, 126.99007706207914, 25.68948564836861, 48.17998011567271, 34.171070011869794, 28.864354331958054, 28.864354331958054, 19.771173136867937, 16.447474226789613, 16.447496519041394, 16.447441407375234, 15.497871634841493, 14.548226088537506, 14.54822976127029, 14.54822976127029, 14.54822976127029, 14.548225199409863, 14.548225199409863, 9.396268596544948, 9.39587197900313, 7.496487238909903, 6.547273651763426, 6.547246515893869, 6.072408526728528, 5.122759288678348, 4.647807662571878, 4.647354222066491, 4.173073909032901, 4.172790586334925, 4.171905231624262, 3.698115598485092, 3.698090535610327, 13.962688133789124, 3.2234142807738695, 14.523811395249188, 59.36598764828177, 71.14677854233337, 27.817254184283662, 267.83700490102115, 22.713061056496123, 46.76813214920443, 56.71904110533731, 11.806951416305123, 19.050508904304046, 18.275833600704928, 16.635020878996365, 13.434025176521851, 8.509273808680092, 10.498501935181134, 4.1317582763476475, 4.131534734847449, 3.584852709309669, 3.584642243384921, 11.387524397869848, 7.0757692266450585, 7.86612212409635, 3.0376364317507663, 11.30271537369898, 3.9357570824066, 2.490737982577529, 2.4907406485771815, 2.4907406485771815, 2.4907406485771815, 2.490725646788923, 2.490693879528855, 2.49068111209295, 2.4906420067530743, 2.490559647716863, 2.4905283762359303, 2.4867016264549413, 3.3765424863869966, 5.084060450352942, 3.476204045893721, 1.9435460699545535, 22.232282163237958, 33.62721501597432, 43.492396161118364, 5.496827145540734, 12.81910998559831, 4.6026828966180995, 7.641493429019801, 15.306483912157303, 3.707339244335891, 3.667128208738194, 3.7151859148670785, 3.6901777714875013, 5.719793549759329, 267.83700490102115, 9.75595412971724, 55.88342842383982, 55.67078472255547, 10.982630690305236, 42.04616537567916, 22.713061056496123, 25.57993108136653, 22.657275244861722, 17.232570433604305, 14.310374054194378, 14.310245753547985, 12.484015449275148, 12.483988893027128, 12.481925115359356, 11.753490326936506, 11.753323613826915, 11.753160404500159, 11.388192934300537, 11.388192934300537, 11.388142551723465, 11.388142551723465, 11.388157705516665, 11.387895025680566, 28.04003240896782, 3.7715125546382198, 3.7715125546382198, 2.6752545458211623, 2.3104403777141087, 2.3103049066057753, 2.310130202033808, 2.318119589903276, 1.9451040119020642, 1.9450463798451947, 1.9443489537566627, 89.27159913208712, 2.7489463107186527, 20.495683971168376, 20.495683971168376, 27.817254184283662, 13.144867968289269, 81.72820909392678, 122.64702002566912, 557.7124788577323, 6.466409879699471, 55.88342842383982, 19.050508904304046, 52.00346520106411, 22.004761108168847, 21.29613014142694, 16.033550668945193, 15.325019960825138, 14.61511362404664, 13.907523449358905, 13.553156847107553, 12.844489749120175, 12.490165808824592, 12.490073023197844, 12.487669670742166, 11.07277621870956, 11.07277621870956, 11.07277621870956, 11.072763427123427, 11.072763427123427, 11.072763427123427, 11.07272881459624, 29.255371360884578, 2.621140574736957, 2.6210492622897457, 2.6207362296435024, 2.620722623582383, 2.266466282209241, 2.266026717561733, 4.059507533100507, 7.92079111519992, 1.9124115396771102, 1.9122761665267007, 1.912131981966177, 31.117662529836807, 8.514345286653368, 2.5819645247501746, 61.22584375436929, 55.88342842383982, 47.41873322571339, 45.09909362744932, 59.36598764828177, 159.61348501104538, 13.144867968289269, 17.533257103233243, 14.060777578929674, 12.482214735803316, 10.903996189891558, 10.903932680428333, 10.588323884181847, 10.272630033515892, 9.956952038235093, 9.956952038235093, 9.956944793880897, 9.956944793880897, 9.956944793880897, 9.956944793880897, 9.956944793880897, 3.374717129172872, 3.0590340641985545, 4.796057349077819, 2.7433113748328415, 65.19873796334417, 32.07895924346321, 2.766594718493014, 1.7962890568182437, 1.7961965003458276, 1.796128943508933, 1.7961259015796618, 1.7959297524366058, 43.492396161118364, 3.0770651356548786, 19.050508904304046, 22.662373895585066, 20.495683971168376, 20.495683971168376, 122.64702002566912, 4.808495017320548, 6.190196591674253, 126.75338909243055, 119.40109630653498, 126.99007706207914, 159.61348501104538], \"Category\": [\"Default\", \"Default\", \"Default\", \"Default\", \"Default\", \"Default\", \"Default\", \"Default\", \"Default\", \"Default\", \"Default\", \"Default\", \"Default\", \"Default\", \"Default\", \"Default\", \"Default\", \"Default\", \"Default\", \"Default\", \"Default\", \"Default\", \"Default\", \"Default\", \"Default\", \"Default\", \"Default\", \"Default\", \"Default\", \"Default\", \"Topic1\", \"Topic1\", \"Topic1\", \"Topic1\", \"Topic1\", \"Topic1\", \"Topic1\", \"Topic1\", \"Topic1\", \"Topic1\", \"Topic1\", \"Topic1\", \"Topic1\", \"Topic1\", \"Topic1\", \"Topic1\", \"Topic1\", \"Topic1\", \"Topic1\", \"Topic1\", \"Topic1\", \"Topic1\", \"Topic1\", \"Topic1\", \"Topic1\", \"Topic1\", \"Topic1\", \"Topic1\", \"Topic1\", \"Topic1\", \"Topic1\", \"Topic1\", \"Topic1\", \"Topic1\", \"Topic1\", \"Topic1\", \"Topic1\", \"Topic1\", \"Topic1\", \"Topic1\", \"Topic1\", \"Topic1\", \"Topic1\", \"Topic1\", \"Topic1\", \"Topic1\", \"Topic1\", \"Topic2\", \"Topic2\", \"Topic2\", \"Topic2\", \"Topic2\", \"Topic2\", \"Topic2\", \"Topic2\", \"Topic2\", \"Topic2\", \"Topic2\", \"Topic2\", \"Topic2\", \"Topic2\", \"Topic2\", \"Topic2\", \"Topic2\", \"Topic2\", \"Topic2\", \"Topic2\", \"Topic2\", \"Topic2\", \"Topic2\", \"Topic2\", \"Topic2\", \"Topic2\", \"Topic2\", \"Topic2\", \"Topic2\", \"Topic2\", \"Topic2\", \"Topic2\", \"Topic2\", \"Topic2\", \"Topic2\", \"Topic2\", \"Topic2\", \"Topic2\", \"Topic2\", \"Topic2\", \"Topic2\", \"Topic2\", \"Topic2\", \"Topic2\", \"Topic2\", \"Topic2\", \"Topic2\", \"Topic3\", \"Topic3\", \"Topic3\", \"Topic3\", \"Topic3\", \"Topic3\", \"Topic3\", \"Topic3\", \"Topic3\", \"Topic3\", \"Topic3\", \"Topic3\", \"Topic3\", \"Topic3\", \"Topic3\", \"Topic3\", \"Topic3\", \"Topic3\", \"Topic3\", \"Topic3\", \"Topic3\", \"Topic3\", \"Topic3\", \"Topic3\", \"Topic3\", \"Topic3\", \"Topic3\", \"Topic3\", \"Topic3\", \"Topic3\", \"Topic3\", \"Topic3\", \"Topic3\", \"Topic3\", \"Topic3\", \"Topic3\", \"Topic3\", \"Topic3\", \"Topic3\", \"Topic3\", \"Topic3\", \"Topic3\", \"Topic3\", \"Topic3\", \"Topic3\", \"Topic3\", \"Topic4\", \"Topic4\", \"Topic4\", \"Topic4\", \"Topic4\", \"Topic4\", \"Topic4\", \"Topic4\", \"Topic4\", \"Topic4\", \"Topic4\", \"Topic4\", \"Topic4\", \"Topic4\", \"Topic4\", \"Topic4\", \"Topic4\", \"Topic4\", \"Topic4\", \"Topic4\", \"Topic4\", \"Topic4\", \"Topic4\", \"Topic4\", \"Topic4\", \"Topic4\", \"Topic4\", \"Topic4\", \"Topic4\", \"Topic4\", \"Topic4\", \"Topic4\", \"Topic4\", \"Topic4\", \"Topic4\", \"Topic4\", \"Topic4\", \"Topic4\", \"Topic4\", \"Topic5\", \"Topic5\", \"Topic5\", \"Topic5\", \"Topic5\", \"Topic5\", \"Topic5\", \"Topic5\", \"Topic5\", \"Topic5\", \"Topic5\", \"Topic5\", \"Topic5\", \"Topic5\", \"Topic5\", \"Topic5\", \"Topic5\", \"Topic5\", \"Topic5\", \"Topic5\", \"Topic5\", \"Topic5\", \"Topic5\", \"Topic5\", \"Topic5\", \"Topic5\", \"Topic5\", \"Topic5\", \"Topic5\", \"Topic5\", \"Topic5\", \"Topic5\", \"Topic5\", \"Topic5\", \"Topic5\", \"Topic5\", \"Topic5\", \"Topic5\", \"Topic5\", \"Topic5\", \"Topic5\", \"Topic5\", \"Topic6\", \"Topic6\", \"Topic6\", \"Topic6\", \"Topic6\", \"Topic6\", \"Topic6\", \"Topic6\", \"Topic6\", \"Topic6\", \"Topic6\", \"Topic6\", \"Topic6\", \"Topic6\", \"Topic6\", \"Topic6\", \"Topic6\", \"Topic6\", \"Topic6\", \"Topic6\", \"Topic6\", \"Topic6\", \"Topic6\", \"Topic6\", \"Topic6\", \"Topic6\", \"Topic6\", \"Topic6\", \"Topic6\", \"Topic6\", \"Topic6\", \"Topic6\", \"Topic6\", \"Topic6\", \"Topic6\", \"Topic6\", \"Topic6\", \"Topic6\", \"Topic6\", \"Topic7\", \"Topic7\", \"Topic7\", \"Topic7\", \"Topic7\", \"Topic7\", \"Topic7\", \"Topic7\", \"Topic7\", \"Topic7\", \"Topic7\", \"Topic7\", \"Topic7\", \"Topic7\", \"Topic7\", \"Topic7\", \"Topic7\", \"Topic7\", \"Topic7\", \"Topic7\", \"Topic7\", \"Topic7\", \"Topic7\", \"Topic7\", \"Topic7\", \"Topic7\", \"Topic7\", \"Topic7\", \"Topic7\", \"Topic7\", \"Topic7\", \"Topic7\", \"Topic7\", \"Topic7\", \"Topic7\", \"Topic7\", \"Topic7\", \"Topic7\", \"Topic7\", \"Topic7\", \"Topic7\", \"Topic7\", \"Topic7\", \"Topic7\", \"Topic7\", \"Topic7\", \"Topic7\", \"Topic7\", \"Topic7\", \"Topic7\", \"Topic8\", \"Topic8\", \"Topic8\", \"Topic8\", \"Topic8\", \"Topic8\", \"Topic8\", \"Topic8\", \"Topic8\", \"Topic8\", \"Topic8\", \"Topic8\", \"Topic8\", \"Topic8\", \"Topic8\", \"Topic8\", \"Topic8\", \"Topic8\", \"Topic8\", \"Topic8\", \"Topic8\", \"Topic8\", \"Topic8\", \"Topic8\", \"Topic8\", \"Topic8\", \"Topic8\", \"Topic8\", \"Topic8\", \"Topic8\", \"Topic8\", \"Topic8\", \"Topic8\", \"Topic8\", \"Topic8\", \"Topic8\", \"Topic8\", \"Topic8\", \"Topic8\", \"Topic8\", \"Topic8\", \"Topic9\", \"Topic9\", \"Topic9\", \"Topic9\", \"Topic9\", \"Topic9\", \"Topic9\", \"Topic9\", \"Topic9\", \"Topic9\", \"Topic9\", \"Topic9\", \"Topic9\", \"Topic9\", \"Topic9\", \"Topic9\", \"Topic9\", \"Topic9\", \"Topic9\", \"Topic9\", \"Topic9\", \"Topic9\", \"Topic9\", \"Topic9\", \"Topic9\", \"Topic9\", \"Topic9\", \"Topic9\", \"Topic9\", \"Topic9\", \"Topic9\", \"Topic9\", \"Topic9\", \"Topic9\", \"Topic9\", \"Topic9\", \"Topic9\", \"Topic9\", \"Topic9\", \"Topic9\", \"Topic10\", \"Topic10\", \"Topic10\", \"Topic10\", \"Topic10\", \"Topic10\", \"Topic10\", \"Topic10\", \"Topic10\", \"Topic10\", \"Topic10\", \"Topic10\", \"Topic10\", \"Topic10\", \"Topic10\", \"Topic10\", \"Topic10\", \"Topic10\", \"Topic10\", \"Topic10\", \"Topic10\", \"Topic10\", \"Topic10\", \"Topic10\", \"Topic10\", \"Topic10\", \"Topic10\", \"Topic10\", \"Topic10\", \"Topic10\", \"Topic10\", \"Topic10\", \"Topic10\", \"Topic10\", \"Topic10\", \"Topic10\", \"Topic10\", \"Topic10\", \"Topic10\"], \"logprob\": [30.0, 29.0, 28.0, 27.0, 26.0, 25.0, 24.0, 23.0, 22.0, 21.0, 20.0, 19.0, 18.0, 17.0, 16.0, 15.0, 14.0, 13.0, 12.0, 11.0, 10.0, 9.0, 8.0, 7.0, 6.0, 5.0, 4.0, 3.0, 2.0, 1.0, -3.9571, -4.0953, -4.2536, -4.3969, -4.4939, -3.8683, -4.8549, -4.9308, -5.0418, -5.1023, -5.1023, -5.1618, -5.1667, -5.1667, -5.2005, -5.2005, -5.2005, -5.2005, -5.2005, -5.2006, -5.2006, -5.2006, -5.2006, -5.2006, -4.1473, -4.8283, -5.149, -6.4649, -6.4651, -6.5949, -6.0678, -1.686, -3.2256, -4.8827, -3.8184, -3.4802, -3.7839, -3.7302, -3.3055, -4.4662, -4.6939, -4.64, -4.3978, -4.5824, -4.7368, -4.9306, -5.1265, -3.7401, -3.7585, -4.0971, -3.5618, -4.5075, -4.605, -4.6849, -4.685, -4.8025, -4.8026, -4.8342, -4.8343, -4.8344, -4.8669, -4.867, -4.8671, -4.9007, -4.9007, -4.9007, -4.9008, -4.149, -5.1696, -5.2157, -5.0105, -5.768, -6.05, -6.295, -6.2951, -6.4444, -6.1654, -3.9836, -4.9711, -3.9673, -3.969, -3.0891, -4.306, -3.7963, -3.7603, -2.8232, -4.2306, -4.4544, -4.5019, -4.5593, -4.0739, -4.5153, -4.7038, -4.7544, -3.1245, -3.5835, -4.01, -4.1688, -4.5408, -4.636, -4.7138, -4.7693, -4.7693, -4.7982, -4.7982, -4.7982, -4.7982, -4.8587, -4.8904, -4.8904, -4.957, -4.957, -4.957, -4.957, -4.957, -4.957, -4.957, -4.957, -4.957, -4.957, -4.957, -4.6334, -3.7396, -6.6763, -4.1139, -3.3038, -3.7934, -3.6039, -3.8875, -3.9336, -3.9362, -3.3816, -4.652, -4.5779, -4.6256, -4.2283, -4.4425, -4.5135, -4.6314, -4.7344, -4.2471, -4.2471, -3.2197, -4.3025, -4.3613, -4.392, -4.4515, -4.4564, -4.4564, -4.4566, -4.4902, -4.4902, -4.4902, -4.4903, -4.4903, -3.9188, -5.4429, -5.443, -5.6395, -5.6396, -4.3954, -4.8559, -5.64, -6.0339, -5.5532, -5.6788, -6.2095, -5.0477, -5.243, -5.5845, -5.3792, -4.4564, -4.4382, -3.5967, -3.9, -4.1062, -5.1186, -4.9306, -5.1871, -3.7107, -3.7962, -3.8309, -4.0544, -4.0842, -4.1151, -4.4646, -4.5576, -4.6075, -4.66, -4.6874, -4.7155, -4.7155, -4.361, -4.7445, -4.7743, -4.805, -4.8367, -4.8367, -4.8367, -4.8694, -4.8694, -4.8694, -4.8696, -4.8697, -4.9032, -4.9032, -4.9032, -4.9032, -4.9032, -3.3945, -3.4393, -2.7756, -4.3601, -3.0643, -4.5822, -3.5249, -4.0376, -4.0306, -4.6975, -4.6168, -4.7928, -3.7448, -3.7448, -4.1356, -4.3276, -4.3276, -4.3276, -4.39, -4.4566, -4.4566, -4.4566, -4.4566, -4.4566, -4.4566, -4.924, -4.9241, -5.1721, -5.3238, -5.3238, -5.4093, -5.6058, -5.7208, -5.7209, -5.8507, -5.8508, -5.8511, -6.0001, -6.0001, -4.6835, -6.1757, -4.6906, -3.5765, -3.44, -4.4035, -2.6593, -4.8037, -4.3722, -4.3583, -5.352, -5.4473, -4.0403, -4.1385, -4.3633, -4.854, -4.6644, -5.6821, -5.6822, -5.8577, -5.8577, -4.7089, -5.1964, -5.0996, -6.0709, -4.7962, -5.8609, -6.3421, -6.3421, -6.3421, -6.3421, -6.3421, -6.3422, -6.3422, -6.3422, -6.3422, -6.3423, -6.3446, -6.0708, -5.6837, -6.0708, -6.7157, -4.2923, -4.0402, -3.9517, -5.69, -5.0163, -5.8576, -5.5004, -5.0286, -6.0708, -6.0925, -6.0853, -6.0921, -5.8578, -3.8777, -5.5839, -4.6993, -5.1345, -5.7116, -5.5335, -5.6819, -3.5603, -3.6857, -3.9705, -4.166, -4.166, -4.3109, -4.3109, -4.3111, -4.3753, -4.3753, -4.3754, -4.4092, -4.4092, -4.4092, -4.4092, -4.4092, -4.4093, -3.6033, -5.6734, -5.6734, -6.1286, -6.3415, -6.3416, -6.3417, -6.3698, -6.6129, -6.613, -6.6137, -2.8575, -6.3415, -4.4092, -4.4092, -4.2383, -5.3425, -4.2966, -4.2567, -3.9956, -5.9528, -5.1972, -5.6229, -5.4002, -3.6391, -3.6731, -3.9694, -4.0169, -4.067, -4.1194, -4.1468, -4.2039, -4.2336, -4.2337, -4.2339, -4.3626, -4.3626, -4.3626, -4.3626, -4.3626, -4.3626, -4.3626, -3.4875, -6.0817, -6.0818, -6.082, -6.082, -6.2952, -6.2956, -5.7569, -5.1023, -6.5663, -6.5664, -6.5665, -3.8299, -5.1965, -6.2951, -3.6025, -3.8582, -4.0996, -4.1692, -4.3198, -5.4931, -5.9752, -3.7619, -3.9943, -4.1208, -4.2658, -4.2658, -4.2974, -4.3302, -4.364, -4.364, -4.364, -4.364, -4.364, -4.364, -4.364, -5.6282, -5.7582, -5.3167, -5.9075, -2.7524, -3.5567, -6.0832, -6.5678, -6.5679, -6.568, -6.568, -6.5682, -3.4166, -6.0832, -4.2613, -4.1776, -4.364, -4.364, -3.3348, -5.9175, -5.7882, -3.9428, -4.0815, -4.1505, -4.0434], \"loglift\": [30.0, 29.0, 28.0, 27.0, 26.0, 25.0, 24.0, 23.0, 22.0, 21.0, 20.0, 19.0, 18.0, 17.0, 16.0, 15.0, 14.0, 13.0, 12.0, 11.0, 10.0, 9.0, 8.0, 7.0, 6.0, 5.0, 4.0, 3.0, 2.0, 1.0, 1.7522, 1.7495, 1.7458, 1.742, 1.7391, 1.7349, 1.7255, 1.722, 1.7164, 1.7131, 1.7131, 1.7097, 1.7094, 1.7094, 1.7074, 1.7074, 1.7074, 1.7074, 1.7074, 1.7074, 1.7074, 1.7074, 1.7074, 1.7074, 1.6401, 1.6272, 1.6121, 1.5618, 1.5616, 1.5359, 1.5335, 1.4174, 1.3923, 1.4691, 1.2055, 1.1029, 1.0121, 0.9145, 0.5313, 1.1567, 1.0966, 0.942, 0.2549, 0.5801, 0.513, 0.5453, 0.2775, 1.9619, 1.9616, 1.9541, 1.9533, 1.9411, 1.9371, 1.9336, 1.9336, 1.9279, 1.9279, 1.9263, 1.9263, 1.9263, 1.9245, 1.9245, 1.9245, 1.9227, 1.9227, 1.9227, 1.9227, 1.906, 1.9055, 1.9021, 1.8575, 1.8481, 1.8085, 1.7656, 1.7656, 1.7349, 1.7111, 1.6347, 1.6622, 1.585, 1.4388, 1.2654, 1.3825, 1.1393, 1.0619, 0.2802, 1.0821, 1.1684, 1.1585, 1.2312, -0.237, 0.8207, -0.0511, 0.5891, 2.1689, 2.1617, 2.1513, 2.1462, 2.1307, 2.1258, 2.1214, 2.1181, 2.1181, 2.1163, 2.1163, 2.1163, 2.1163, 2.1124, 2.1102, 2.1102, 2.1055, 2.1055, 2.1055, 2.1055, 2.1055, 2.1055, 2.1055, 2.1055, 2.1055, 2.1055, 2.1055, 1.9849, 1.8286, 1.8164, 1.7819, 1.3489, 1.5426, 0.7506, 0.7573, 0.6514, 0.6469, -0.2783, 1.5292, 1.1106, 1.0347, -0.3914, 0.3534, 0.5103, 0.6812, 0.6726, 2.1945, 2.1945, 2.1936, 2.1923, 2.19, 2.1886, 2.186, 2.1858, 2.1858, 2.1858, 2.1842, 2.1842, 2.1842, 2.1842, 2.1842, 2.1578, 2.1115, 2.1115, 2.0871, 2.0871, 2.0431, 2.0411, 2.0267, 2.0236, 2.0223, 1.9949, 1.988, 1.9822, 1.971, 1.9632, 1.9351, 1.4555, 1.0377, 0.2402, 0.4544, 0.5465, 1.207, 0.4733, 1.1172, 2.254, 2.2519, 2.2509, 2.244, 2.243, 2.2419, 2.2268, 2.2219, 2.2191, 2.216, 2.2143, 2.2125, 2.2125, 2.2119, 2.2106, 2.2086, 2.2065, 2.2042, 2.2042, 2.2042, 2.2019, 2.2019, 2.2019, 2.2018, 2.2018, 2.1993, 2.1993, 2.1993, 2.1993, 2.1993, 2.0124, 1.9498, 1.8094, 2.0897, 1.7579, 2.1199, 1.271, 0.6072, 0.5525, 1.4836, 0.9355, 1.1031, 2.3198, 2.3198, 2.3074, 2.2994, 2.2994, 2.2994, 2.2965, 2.2932, 2.2932, 2.2932, 2.2932, 2.2932, 2.2932, 2.2629, 2.2629, 2.2406, 2.2244, 2.2244, 2.2142, 2.1877, 2.17, 2.17, 2.1479, 2.1479, 2.1477, 2.1193, 2.1193, 2.1073, 2.0811, 2.0608, 1.767, 1.7225, 1.6981, 1.1775, 1.5006, 1.2098, 1.0308, 1.6066, 1.0328, 2.4814, 2.4772, 2.4662, 2.4321, 2.4116, 2.3264, 2.3264, 2.2929, 2.2928, 2.2858, 2.2742, 2.2651, 2.2452, 2.2059, 2.1962, 2.1725, 2.1725, 2.1725, 2.1725, 2.1725, 2.1725, 2.1725, 2.1725, 2.1725, 2.1725, 2.1716, 2.1396, 2.1174, 2.1104, 2.047, 2.0334, 1.8717, 1.703, 2.0331, 1.86, 2.0429, 1.8932, 1.6704, 2.0461, 2.0353, 2.0295, 2.0294, 1.8255, -0.0408, 1.5655, 0.7047, 0.2732, 1.3193, 0.155, 0.6224, 2.6251, 2.6211, 2.6099, 2.6003, 2.6002, 2.5919, 2.5919, 2.5918, 2.5877, 2.5877, 2.5877, 2.5855, 2.5855, 2.5855, 2.5855, 2.5855, 2.5854, 2.4903, 2.4263, 2.4263, 2.3146, 2.2483, 2.2482, 2.2482, 2.2167, 2.149, 2.1489, 2.1486, 2.078, 2.0745, 1.9978, 1.9978, 1.8633, 1.5087, 0.7273, 0.3612, -0.8922, 1.6078, 0.2068, 0.8573, 0.0757, 2.6969, 2.6956, 2.6832, 2.6808, 2.6782, 2.6754, 2.6738, 2.6705, 2.6686, 2.6686, 2.6686, 2.6601, 2.6601, 2.6601, 2.6601, 2.6601, 2.6601, 2.6601, 2.5637, 2.3819, 2.3819, 2.3818, 2.3818, 2.3138, 2.3136, 2.2692, 2.2555, 2.2126, 2.2125, 2.2125, 2.1596, 2.089, 2.1836, 1.7101, 1.5458, 1.4686, 1.4492, 1.0237, -1.1386, 0.876, 2.8012, 2.7896, 2.7821, 2.7723, 2.7723, 2.77, 2.7676, 2.7649, 2.7649, 2.7649, 2.7649, 2.7649, 2.7649, 2.7649, 2.5827, 2.551, 2.5427, 2.5105, 2.4974, 2.4024, 2.3264, 2.2737, 2.2737, 2.2736, 2.2736, 2.2735, 2.238, 2.22, 2.2188, 2.1289, 2.043, 2.043, 1.2831, 1.9394, 1.8161, 0.6422, 0.5632, 0.4326, 0.3111]}, \"token.table\": {\"Topic\": [5, 7, 10, 8, 4, 8, 9, 5, 6, 9, 1, 7, 5, 5, 3, 1, 3, 3, 1, 4, 6, 7, 2, 8, 1, 3, 5, 6, 10, 9, 7, 4, 10, 8, 7, 3, 9, 7, 2, 7, 10, 10, 1, 4, 6, 8, 5, 7, 1, 10, 1, 8, 10, 10, 3, 4, 5, 3, 10, 3, 6, 6, 2, 4, 8, 9, 2, 3, 5, 1, 2, 3, 4, 6, 7, 8, 2, 3, 6, 10, 5, 6, 2, 1, 2, 5, 10, 7, 9, 2, 1, 1, 3, 6, 9, 9, 4, 2, 10, 5, 10, 5, 6, 3, 2, 5, 4, 7, 3, 10, 3, 4, 6, 10, 2, 9, 8, 10, 8, 8, 2, 6, 9, 5, 7, 9, 10, 6, 8, 3, 7, 3, 4, 6, 5, 1, 1, 6, 7, 4, 9, 2, 6, 2, 10, 1, 6, 9, 1, 4, 9, 9, 1, 2, 7, 2, 5, 7, 4, 6, 6, 8, 8, 9, 5, 3, 4, 7, 10, 2, 5, 7, 2, 3, 5, 4, 6, 4, 2, 7, 4, 3, 2, 2, 3, 7, 8, 6, 9, 8, 6, 3, 10, 1, 6, 1, 3, 6, 5, 6, 6, 10, 10, 1, 6, 8, 10, 1, 2, 3, 8, 6, 1, 9, 3, 3, 7, 4, 3, 3, 5, 9, 2, 6, 10, 10, 9, 4, 2, 1, 3, 9, 5, 5, 8, 3, 7, 1, 2, 7, 2, 7, 5, 9, 7, 6, 8, 6, 8, 6, 8, 9, 8, 8, 8, 7, 3, 1, 2, 8, 2, 2, 7, 1, 3, 6, 9, 7, 1, 3, 5, 10, 2, 4, 9, 4, 6, 8, 3, 5, 2, 6, 7, 5, 6, 1, 1, 4, 5, 5, 6, 8, 8, 1, 2, 3, 4, 6, 7, 1, 2, 7, 9, 6, 2, 2, 8, 4, 8, 2, 3, 1, 4, 6, 8, 2, 6, 4, 3, 4, 6, 7, 1, 7, 3, 3, 10, 8, 10, 6, 8, 5, 2, 3, 5, 10, 2, 3, 7, 3, 9, 7, 2, 4, 7, 7, 1, 3, 4, 7, 8, 9, 9, 1, 2, 3, 6, 7, 7, 8, 8, 7, 6, 9, 2, 4, 7, 2, 10, 1, 7, 3, 1, 1, 3, 5, 3, 3, 8, 10, 4, 9, 8, 4, 1, 4, 5, 9, 1, 7, 3, 2, 7, 3, 10, 9, 7, 8, 2, 9, 3, 4, 9, 3, 6, 2, 4, 5, 7, 1, 2, 4, 9, 6, 1, 9, 1, 2, 3, 8, 9, 5, 2, 3, 9, 3, 8, 9, 10, 3, 1, 3, 6, 1, 1, 6, 4, 1, 4, 6, 7, 8, 9, 3, 5, 5, 10, 2, 4, 7, 4, 4, 1, 2, 4, 7, 10, 8, 1, 2, 3, 4, 8, 5, 2, 5, 1, 1, 10, 5, 10, 3, 5, 2, 5, 2, 10, 2, 6, 1, 4, 2, 2, 3, 4, 9, 10, 7, 5, 8, 8, 5, 6, 4, 1, 5, 5, 1, 4, 3, 4, 1, 2, 3, 4, 8, 5, 9, 7, 1, 4, 7, 1, 4, 7, 1, 2, 3, 7, 5, 7, 4, 2, 4, 7, 3, 10, 1, 1, 9, 3], \"Freq\": [0.9882201130947484, 0.8029740074071888, 0.8889633960921894, 0.928474371345047, 0.9116452167321673, 0.035063277566621816, 0.9543389222346137, 0.9649086015451441, 0.9727924235446213, 0.44130106333256736, 0.9705094360391311, 0.9676920974303085, 0.9479981014823327, 0.9358156806090804, 0.9932798091628599, 0.7394369293149127, 0.981643657296649, 0.9397164350763971, 0.06533179048427586, 0.39199074290565517, 0.1306635809685517, 0.457322533389931, 0.9645297182184897, 0.9359054818382874, 0.4271317565549748, 0.24287884196263274, 0.18425291459234208, 0.04187566240735047, 0.10050158977764113, 0.38730199056346754, 0.5383310676315255, 0.9128523622555272, 0.903891724450557, 0.8656866001892083, 0.8029788437672478, 0.6959274901528864, 0.2741532536965916, 0.8029748668827498, 0.9728468045857362, 0.9401507319977652, 0.729045932717669, 0.9613678545026022, 0.966169357545235, 0.818692512852672, 0.181931669522816, 0.935892206827306, 0.9480121985081688, 0.8042782369717647, 0.29141668371989227, 0.7055351290060549, 0.6848923029880336, 0.09784175756971908, 0.21199047473439134, 0.903891724450557, 0.050921507266601176, 0.10184301453320235, 0.8147441162656188, 0.971706490278772, 0.9170949646213561, 0.9397171589788179, 0.8112239653159922, 0.9727937420287446, 0.22822595154528838, 0.22822595154528838, 0.30430126872705116, 0.15215063436352558, 0.3176570452012025, 0.5350013392862358, 0.15046912667425383, 0.28844231710338153, 0.1730653902620289, 0.0384589756137842, 0.3076718049102736, 0.0576884634206763, 0.0576884634206763, 0.0769179512275684, 0.20796527736805953, 0.20796527736805953, 0.20796527736805953, 0.41593055473611906, 0.9196710406033483, 0.7189433396979985, 0.8938705816794833, 0.5004249943468159, 0.474086836749615, 0.948131769471409, 0.5567529010731219, 0.7622421651504945, 0.9031197428783632, 0.764912738886295, 0.7393778638246441, 0.30921990356751966, 0.15460995178375983, 0.5341071061620795, 0.4412154762016793, 0.9579124979887549, 0.9562711138506331, 0.9316199635149834, 0.903891724450557, 0.3249849957391865, 0.649969991478373, 0.9546189125584081, 0.9623163937972876, 0.9465310969248307, 0.861328122399092, 0.9601708180789308, 0.446067270003608, 0.5352807240043296, 0.9739290242076581, 0.9171003061995404, 0.16154575790775194, 0.16154575790775194, 0.3230915158155039, 0.3230915158155039, 0.7095486278359122, 0.2660807354384671, 0.536698361248831, 0.43911684102177084, 0.9659169570489153, 0.8656358412411185, 0.25266993095219137, 0.555873848094821, 0.18529128269827366, 0.8803147011176595, 0.8030058091758037, 0.9031158764956434, 0.9038910668083607, 0.8606208110140661, 0.5141265577839792, 0.12712744402183798, 0.7627646641310278, 0.9733064219798196, 0.7625050778463608, 0.8233965119428022, 0.9629370828890641, 0.9359519387192968, 0.7386891484187502, 0.23084035888085944, 0.9849071945646141, 0.9562672564777462, 0.960947904324796, 0.8173711930111877, 0.9678748381344052, 0.9618836224811471, 0.5567319610117639, 0.9359474524580671, 0.9578270254331962, 0.5229764521650517, 0.9284912198022237, 0.8771538575864102, 0.9787915473091731, 0.9031169198020048, 0.20500301389362585, 0.4100060277872517, 0.4100060277872517, 0.6641762807533944, 0.26982161405606647, 0.062266526320630726, 0.9259117459214635, 0.9578674571250244, 0.5392336677311156, 0.4673358453669668, 0.24633529851741295, 0.7390058955522388, 0.9726397944431419, 0.08781539912108202, 0.08781539912108202, 0.7903385920897382, 0.9695859645419271, 0.9317554179893869, 0.9196898586165296, 0.8029932014537885, 0.43935883216824456, 0.3237380868608118, 0.23124149061486557, 0.959610881918383, 0.9623163937972876, 0.9830043944039087, 0.9799515641485815, 0.01999901151323636, 0.9259227404062359, 0.939714781759637, 0.9727617360950488, 0.17483148496541048, 0.34966296993082097, 0.5244944548962315, 0.9359184782152907, 0.9164119783482664, 0.5229000030865946, 0.9659126837295385, 0.8112294631815673, 0.34290389275149225, 0.6546347043437579, 0.8706677913542248, 0.10243150486520292, 0.33878347246149365, 0.16939173623074683, 0.5081752086922404, 0.9460587536481156, 0.9700546105408269, 0.20850459600786028, 0.8340183840314411, 0.5567032745672315, 0.9839269248641346, 0.2624601802039188, 0.1574761081223513, 0.5249203604078376, 0.7028711295878962, 0.182889936780524, 0.08606585260259954, 0.028688617534199844, 0.9623166955490831, 0.9661737219777883, 0.9342527600850768, 0.9397170674365984, 0.2172645872985878, 0.6517937618957633, 0.9286801476396671, 0.9725606774832072, 0.21537512829894057, 0.771760876404537, 0.960755860544439, 0.14323889360244918, 0.7878139148134705, 0.7229103658122414, 0.903891724450557, 0.986094650086173, 0.9562672564777462, 0.9618767414091952, 0.06026817481731962, 0.8437544474424747, 0.06026817481731962, 0.9205339342980048, 0.8519828914985337, 0.1310742909997744, 0.9717005969540566, 0.8572651655985736, 0.970196831352932, 0.2876701099238561, 0.5753402198477122, 0.14132739041775463, 0.8479643425065279, 0.9036448104345418, 0.7631482942922477, 0.5923218819438167, 0.9164157765305778, 0.7954368324481882, 0.6204601164451765, 0.5143109718386235, 0.7188945284449185, 0.9612312300840433, 0.9607629977592901, 0.9783112549665739, 0.9659379521144309, 0.9709905433129793, 0.539470457972148, 0.939717260993856, 0.966169357545235, 0.3637757478568476, 0.7275514957136952, 0.9494418283130884, 0.3925934148692738, 0.523457886492365, 0.06885245014453334, 0.13770490028906668, 0.7573769515898667, 0.7630266073007964, 0.8030424463674282, 0.5118510162666075, 0.21261503752612923, 0.18111651344818416, 0.08662094121434895, 0.9819628600451549, 0.13672702871063655, 0.8545439294414785, 0.8056320154875215, 0.10070400193594019, 0.050352000967970094, 0.939714781759637, 0.9745963651558973, 0.08847431497098164, 0.08847431497098164, 0.7077945197678531, 0.8803179041342717, 0.9623163937972876, 0.9316136678763068, 0.10933863115507075, 0.7653704180854952, 0.8803161292178916, 0.9284483831485701, 0.9337706817757354, 0.43138412891015915, 0.9659126837295385, 0.29122189455794134, 0.10827480695102948, 0.0746722806558824, 0.13814371921338242, 0.30988996472191194, 0.07840589468867652, 0.5345477481742149, 0.44545645681184576, 0.5419793093582603, 0.9031158764956434, 0.7808291927438942, 0.9517038804251581, 0.42566729362352784, 0.560088544241484, 0.8597716781934486, 0.961229185333694, 0.851062723756978, 0.07736933852336163, 0.9661714249031084, 0.07132659373675887, 0.035663296868379435, 0.8559191248411064, 0.8483923043097272, 0.7190959126442094, 0.9222523944469994, 0.9397164350763971, 0.7963917429933391, 0.15927834859866782, 0.8369036005018864, 0.8342499720089289, 0.06952083100074408, 0.9725613463722682, 0.485386043434, 0.485386043434, 0.8657520681038785, 0.9038910668083607, 0.9623166367362512, 0.5141113245775105, 0.9480119803696738, 0.04733601241718836, 0.21301205587734762, 0.6232574968263134, 0.11045069564010616, 0.5470177790173448, 0.33296734374968817, 0.0951335267856252, 0.953451454594976, 0.7631443322596639, 0.961826264985447, 0.9618803778094998, 0.9572461834780635, 0.018061248744869123, 0.7260831344305824, 0.2326271019273079, 0.03578878491189352, 0.17894392455946762, 0.16104953210352085, 0.08947196227973381, 0.30420467175109495, 0.9031169198020048, 0.19759017328065903, 0.5748077768164627, 0.03592548605102892, 0.08981371512757229, 0.10777645815308674, 0.8029740074071888, 0.9659156717395445, 0.7954368324481882, 0.6584066411289662, 0.9623166955490831, 0.9347458623626668, 0.9663582372962056, 0.359837102698721, 0.6297149297227618, 0.9317049883195075, 0.556814651933497, 0.9732265286126509, 0.7261224200044807, 0.9725654876665701, 0.8205319657564516, 0.46763044400384085, 0.15587681466794695, 0.3604651339196273, 0.979072252877029, 0.9465250250230692, 0.536698361248831, 0.43911684102177084, 0.25250003073077126, 0.6312500768269282, 0.9783200261622995, 0.9588991894564666, 0.9661737219777883, 0.7633093617986957, 0.15266187235973913, 0.7630531897186863, 0.8053325074827415, 0.1610665014965483, 0.9434166071790551, 0.9264398110119914, 0.03431258559303672, 0.9397170674365984, 0.9444365424955731, 0.5229370200311165, 0.8029740074071888, 0.7475924125141914, 0.8332747563390259, 0.9591861251701219, 0.35349698871027924, 0.06427217976550531, 0.5784496178895479, 0.9725613463722682, 0.9609950744182243, 0.9439566480801532, 0.9581232472679237, 0.9197055099114497, 0.8029890852657993, 0.9357756147042774, 0.7649495759496259, 0.8658348567779577, 0.17316697135559153, 0.9700546105408269, 0.9661719939092247, 0.9031169198020048, 0.9737636584232913, 0.9726775355535598, 0.30929063223764447, 0.30929063223764447, 0.15464531611882223, 0.9869257511467664, 0.40832430338235903, 0.22866160989412107, 0.359325386976476, 0.7855504153266869, 0.23489768533760227, 0.46979537067520455, 0.23489768533760227, 0.9397164350763971, 0.42764162434783526, 0.2352028933913094, 0.32073121826087647, 0.9714179950774936, 0.9661672136278966, 0.972795683152603, 0.9222136976523474, 0.9542483841697509, 0.3081927170709534, 0.440275310101362, 0.13208259303040862, 0.044027531010136206, 0.044027531010136206, 0.6730839857227365, 0.32190973230217834, 0.8803309790997, 0.903891724450557, 0.9571166585507158, 0.18192313011174885, 0.5457693903352466, 0.9562708869088345, 0.9128340967416122, 0.12088945466054131, 0.12088945466054131, 0.7253367279632479, 0.4368579723594478, 0.5518205966645656, 0.9659169570489153, 0.21950067578569726, 0.13507733894504448, 0.4390013515713945, 0.18573134104943614, 0.02532700105219584, 0.9718941593174736, 0.4000624832186292, 0.5900921627474781, 0.9661719939092247, 0.9542447352707918, 0.876114487783191, 0.892996197054845, 0.5567538439930727, 0.5060436077989579, 0.4671171764298072, 0.9646201884464991, 0.9215784931433397, 0.9438878055886428, 0.9245576872989394, 0.9884070622519627, 0.8607047814447337, 0.8664535381677504, 0.10502467129306066, 0.9618767414091952, 0.48868051464826007, 0.2380751225209472, 0.16915863968593617, 0.018795404409548463, 0.08144675244137667, 0.8368544660730863, 0.9036403754475281, 0.961390161300813, 0.9773286691226085, 0.7228613037349438, 0.26446145258595505, 0.959640727248917, 0.9609375727698387, 0.02183949029022361, 0.9482774670620635, 0.15697050746166188, 0.7848525373083095, 0.9397164350763971, 0.9260746666343092, 0.5628411598635931, 0.03670703216501694, 0.1835351608250847, 0.0611783869416949, 0.14682812866006775, 0.8803161292178916, 0.9355382541094257, 0.514523435003207, 0.36421146379172564, 0.2731585978437942, 0.2731585978437942, 0.0780085357816147, 0.3900426789080735, 0.5460597504713028, 0.12236197571214477, 0.7341718542728687, 0.12236197571214477, 0.8030323633619588, 0.27269294747239986, 0.5453858949447997, 0.9562672564777462, 0.19669317659875166, 0.19669317659875166, 0.590079529796255, 0.9540793941298555, 0.6538011535755768, 0.966169357545235, 0.966169357545235, 0.9031158764956434, 0.9397164350763971], \"Term\": [\"aamiin\", \"adabr\", \"adik\", \"aff\", \"afrika\", \"afrika\", \"agama\", \"air\", \"aj\", \"ajak\", \"ajar\", \"akademy\", \"akhirat\", \"alhamdulilah\", \"alhamdulillah\", \"alir\", \"allah\", \"allhamdullilah\", \"ambil\", \"ambil\", \"ambil\", \"ambil\", \"amunisi\", \"an\", \"anak\", \"anak\", \"anak\", \"anak\", \"anak\", \"andal\", \"angkut\", \"arab\", \"artikulasinyabrcoba\", \"asah\", \"asimilasi\", \"asli\", \"asli\", \"asnawi\", \"atlet\", \"atlit\", \"attitude\", \"atur\", \"audisi\", \"australia\", \"australia\", \"ayah\", \"babak\", \"bagot\", \"bagus\", \"bagus\", \"bahasa\", \"bahasa\", \"bahasa\", \"balau\", \"bangga\", \"bangga\", \"bangga\", \"barakallah\", \"basier\", \"basir\", \"bayar\", \"bebas\", \"bek\", \"bek\", \"bek\", \"bek\", \"bela\", \"bela\", \"bela\", \"belanda\", \"belanda\", \"belanda\", \"belanda\", \"belanda\", \"belanda\", \"belanda\", \"berita\", \"berita\", \"berita\", \"berita\", \"berkat\", \"bet\", \"bhs\", \"bicara\", \"bicara\", \"bilang\", \"bin\", \"bina\", \"blom\", \"bnget\", \"bngt\", \"bola\", \"bola\", \"bola\", \"bos\", \"boy\", \"brbrafrika\", \"brlahir\", \"brmaksud\", \"broo\", \"broo\", \"brother\", \"brpernah\", \"bs\", \"buka\", \"bukti\", \"bule\", \"bule\", \"bumi\", \"buruk\", \"butuh\", \"butuh\", \"butuh\", \"butuh\", \"calon\", \"calon\", \"camara\", \"camara\", \"cariin\", \"cengkok\", \"cerdas\", \"cerdas\", \"cerdas\", \"cerdikdan\", \"chiki\", \"chow\", \"cil\", \"cita\", \"coach\", \"cocok\", \"cocok\", \"contoh\", \"coret\", \"daftar\", \"dah\", \"dam\", \"darah\", \"darah\", \"dasar\", \"dblg\", \"deh\", \"dek\", \"dengar\", \"denger\", \"dewasa\", \"dieropa\", \"diga\", \"diks\", \"dn\", \"dpt\", \"dubbing\", \"duet\", \"dukung\", \"dukung\", \"dukung\", \"dunia\", \"dunia\", \"dunia\", \"dwijangge\", \"eliano\", \"enak\", \"enak\", \"erick\", \"erick\", \"erik\", \"eropa\", \"eropa\", \"eropa\", \"fasih\", \"fiik\", \"final\", \"for\", \"gabung\", \"gabung\", \"gabung\", \"gacor\", \"gakbrsearch\", \"ganti\", \"garuda\", \"garuda\", \"gass\", \"gen\", \"gin\", \"good\", \"good\", \"good\", \"goodluck\", \"gratisk\", \"gua\", \"guinea\", \"hadap\", \"hamzah\", \"hamzah\", \"hati\", \"hati\", \"hebat\", \"hebat\", \"hebat\", \"hidup\", \"ho\", \"hoax\", \"hoax\", \"horeg\", \"hy\", \"indo\", \"indo\", \"indo\", \"indonesia\", \"indonesia\", \"indonesia\", \"indonesia\", \"indonesiamafia\", \"indonesinya\", \"indra\", \"insha\", \"internasional\", \"internasional\", \"iqbal\", \"iya\", \"jakarta\", \"jakarta\", \"jay\", \"juang\", \"juang\", \"kabar\", \"kacau\", \"kak\", \"kakntr\", \"kapten\", \"kau\", \"kau\", \"kau\", \"kaya\", \"kayak\", \"kayak\", \"kecuali\", \"kelas\", \"kembang\", \"kenal\", \"kenal\", \"kerja\", \"kerja\", \"ketua\", \"kevin\", \"khusus\", \"kiberbagik\", \"kibonus\", \"kimain\", \"kiri\", \"kitidakgacormodalkembali\", \"klau\", \"klu\", \"klub\", \"kmren\", \"kn\", \"ko\", \"komitmen\", \"koplo\", \"kostum\", \"kostum\", \"ku\", \"kualitas\", \"kualitas\", \"kuat\", \"kuat\", \"kuat\", \"kw\", \"ky\", \"lahir\", \"lahir\", \"lahir\", \"lahir\", \"lancar\", \"latih\", \"latih\", \"lawan\", \"lawan\", \"lawan\", \"lhr\", \"liat\", \"liga\", \"liga\", \"liga\", \"lindung\", \"linguistik\", \"logat\", \"lolos\", \"lolos\", \"loyalitas\", \"lu\", \"lupa\", \"maaf\", \"maiket\", \"main\", \"main\", \"main\", \"main\", \"main\", \"main\", \"maju\", \"maju\", \"makan\", \"manik\", \"manpirga\", \"mantab\", \"mantap\", \"mantap\", \"maret\", \"markotop\", \"mas\", \"mas\", \"masbiar\", \"masuk\", \"masuk\", \"masuk\", \"masyaallah\", \"mata\", \"mauro\", \"melindungimuuntuk\", \"menang\", \"menang\", \"mending\", \"mental\", \"mental\", \"merah\", \"meshaal\", \"meshaal\", \"meshal\", \"meshall\", \"messalll\", \"messi\", \"mnit\", \"moga\", \"moga\", \"moga\", \"moga\", \"muda\", \"muda\", \"muda\", \"mudah\", \"muslim\", \"nadaquot\", \"nakbrsukses\", \"nama\", \"nama\", \"nasional\", \"naturalisasi\", \"naturalisasi\", \"naturalisasi\", \"naturalisasi\", \"naturalisasi\", \"naturalisasi\", \"neeh\", \"negara\", \"negara\", \"negara\", \"negara\", \"negara\", \"negri\", \"negro\", \"newmember\", \"ngaruh\", \"ngatur\", \"nggak\", \"ngomong\", \"nguyen\", \"nguyen\", \"nihh\", \"ntt\", \"nyanyi\", \"nyari\", \"nyata\", \"oke\", \"orang\", \"orang\", \"orang\", \"ortunya\", \"osman\", \"ousmane\", \"ousmane\", \"panggil\", \"panggil\", \"pas\", \"pasang\", \"pasehbbgt\", \"paspor\", \"paspor\", \"peringkat\", \"persie\", \"persie\", \"persija\", \"piala\", \"piala\", \"pijak\", \"pilar\", \"pot\", \"pr\", \"prancis\", \"pribumi\", \"proses\", \"pssi\", \"pssi\", \"pssi\", \"putih\", \"rakyat\", \"rapi\", \"ras\", \"raya\", \"rekrut\", \"rendah\", \"rezeki\", \"romeny\", \"romeny\", \"ru\", \"rusak\", \"safrigue\", \"salah\", \"salam\", \"saudara\", \"saudara\", \"saudara\", \"sehat\", \"semangat\", \"semangat\", \"semangat\", \"senang\", \"senior\", \"senior\", \"senior\", \"senioramin\", \"sepak\", \"sepak\", \"sepak\", \"sepakbola\", \"sepeeti\", \"serah\", \"serang\", \"sesuai\", \"shin tae-yong\", \"shin tae-yong\", \"shin tae-yong\", \"shin tae-yong\", \"shin tae-yong\", \"sholeh\", \"sholeh\", \"sihyo\", \"simak\", \"smg\", \"son\", \"son\", \"spill\", \"strategi\", \"striker\", \"striker\", \"striker\", \"suara\", \"suara\", \"succes\", \"sudan\", \"sudan\", \"sudan\", \"sudan\", \"sudan\", \"suka\", \"sukses\", \"sukses\", \"suport\", \"suruh\", \"susun\", \"swt\", \"system\", \"syukur\", \"syukur\", \"talenta\", \"tanah\", \"tanda\", \"tangguh\", \"tata\", \"teamnas\", \"tim\", \"tim\", \"timnad\", \"timnas\", \"timnas\", \"timnas\", \"timnas\", \"timnas\", \"to\", \"tohir\", \"tonton\", \"top\", \"towel\", \"towel\", \"trus\", \"tua\", \"tua\", \"tuhan\", \"tuju\", \"tuju\", \"tum\", \"tumbuh\", \"turun\", \"turun\", \"turun\", \"turun\", \"turun\", \"ubah\", \"umur\", \"united\", \"van\", \"van\", \"van\", \"vietnam\", \"vietnam\", \"vietnam\", \"warga\", \"warga\", \"warga\", \"we\", \"welcome\", \"welcome\", \"wf\", \"witan\", \"witan\", \"witan\", \"wni\", \"yamal\", \"yanyibbrbkira\", \"yob\", \"yunda\", \"yunior\"]}, \"R\": 30, \"lambda.step\": 0.01, \"plot.opts\": {\"xlab\": \"PC1\", \"ylab\": \"PC2\"}, \"topic.order\": [10, 5, 1, 8, 3, 9, 7, 2, 4, 6]};\n",
              "\n",
              "function LDAvis_load_lib(url, callback){\n",
              "  var s = document.createElement('script');\n",
              "  s.src = url;\n",
              "  s.async = true;\n",
              "  s.onreadystatechange = s.onload = callback;\n",
              "  s.onerror = function(){console.warn(\"failed to load library \" + url);};\n",
              "  document.getElementsByTagName(\"head\")[0].appendChild(s);\n",
              "}\n",
              "\n",
              "if(typeof(LDAvis) !== \"undefined\"){\n",
              "   // already loaded: just create the visualization\n",
              "   !function(LDAvis){\n",
              "       new LDAvis(\"#\" + \"ldavis_el7311359174704692483767108015\", ldavis_el7311359174704692483767108015_data);\n",
              "   }(LDAvis);\n",
              "}else if(typeof define === \"function\" && define.amd){\n",
              "   // require.js is available: use it to load d3/LDAvis\n",
              "   require.config({paths: {d3: \"https://d3js.org/d3.v5\"}});\n",
              "   require([\"d3\"], function(d3){\n",
              "      window.d3 = d3;\n",
              "      LDAvis_load_lib(\"https://cdn.jsdelivr.net/gh/bmabey/pyLDAvis@3.4.0/pyLDAvis/js/ldavis.v3.0.0.js\", function(){\n",
              "        new LDAvis(\"#\" + \"ldavis_el7311359174704692483767108015\", ldavis_el7311359174704692483767108015_data);\n",
              "      });\n",
              "    });\n",
              "}else{\n",
              "    // require.js not available: dynamically load d3 & LDAvis\n",
              "    LDAvis_load_lib(\"https://d3js.org/d3.v5.js\", function(){\n",
              "         LDAvis_load_lib(\"https://cdn.jsdelivr.net/gh/bmabey/pyLDAvis@3.4.0/pyLDAvis/js/ldavis.v3.0.0.js\", function(){\n",
              "                 new LDAvis(\"#\" + \"ldavis_el7311359174704692483767108015\", ldavis_el7311359174704692483767108015_data);\n",
              "            })\n",
              "         });\n",
              "}\n",
              "</script>"
            ]
          },
          "metadata": {},
          "execution_count": 57
        }
      ]
    },
    {
      "source": [
        "pyLDAvis.save_html(ldavis_prepared_naturalisasi, '/content/drive/MyDrive/LDA_Tpoic_Modelling/LDA Naturalisas/ldavis_prepared_naturalisasi'+ str(total_topics) +'.html')"
      ],
      "cell_type": "code",
      "metadata": {
        "id": "WYR-aDJoxhds",
        "colab": {
          "base_uri": "https://localhost:8080/"
        },
        "outputId": "dc54cf31-405d-43a0-89c9-0286db0c91c4"
      },
      "execution_count": null,
      "outputs": [
        {
          "output_type": "stream",
          "name": "stderr",
          "text": [
            "/usr/local/lib/python3.10/dist-packages/ipykernel/ipkernel.py:283: DeprecationWarning: `should_run_async` will not call `transform_cell` automatically in the future. Please pass the result to `transformed_cell` argument and any exception that happen during thetransform in `preprocessing_exc_tuple` in IPython 7.17 and above.\n",
            "  and should_run_async(code)\n"
          ]
        }
      ]
    },
    {
      "cell_type": "markdown",
      "source": [],
      "metadata": {
        "id": "w7Fzq-g74UvM"
      }
    }
  ]
}